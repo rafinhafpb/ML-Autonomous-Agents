{
 "cells": [
  {
   "cell_type": "markdown",
   "id": "3404be5a",
   "metadata": {
    "cell_marker": "\"\"\""
   },
   "source": [
    "# Notebook Check\n",
    "\n",
    "This is not an auto-grading script. Successful execution provides no guarantee of a grade, but provides a positive indication that your notebook is can be graded. \n",
    "\n",
    "Therefore, if you get any error running this notebook, please consult carefully the instructions and your code, before submitting."
   ]
  },
  {
   "cell_type": "markdown",
   "id": "1ceeeef2",
   "metadata": {
    "cell_marker": "\"\"\""
   },
   "source": [
    "Please enter the name of your notebook file in the following variables, then proceed to run all cells in the notebook. "
   ]
  },
  {
   "cell_type": "code",
   "execution_count": 19,
   "id": "72859584",
   "metadata": {},
   "outputs": [],
   "source": [
    "# Change the following cell, to enter your `name` as it appears in your `@polytechnique.edu` address (or, the email address with which you are enrolled in Moodle)\n",
    "name = \"rafael_benzi\"\n",
    "lab_01_filename = \"%s-0%d.ipynb\" % (name,1)\n",
    "lab_02_filename = \"%s-0%d.ipynb\" % (name,2)\n",
    "lab_03_filename = \"%s-0%d.ipynb\" % (name,3)"
   ]
  },
  {
   "cell_type": "code",
   "execution_count": 20,
   "id": "8c5b55ec",
   "metadata": {
    "lines_to_next_cell": 2
   },
   "outputs": [],
   "source": [
    "import numpy as np\n",
    "\n",
    "from extracter import extract_tagged_cells"
   ]
  },
  {
   "cell_type": "markdown",
   "id": "ace169b7",
   "metadata": {
    "cell_marker": "\"\"\""
   },
   "source": [
    "Some checks for Lab 1"
   ]
  },
  {
   "cell_type": "code",
   "execution_count": 21,
   "id": "22d49897",
   "metadata": {},
   "outputs": [
    {
     "name": "stdout",
     "output_type": "stream",
     "text": [
      "['import numpy as np', 'def gen_traj', 'class Agent']\n",
      "Extracted 3 cells with tags '['import numpy as np', 'def gen_traj', 'class Agent']' to agent.py\n",
      "['import numpy as np', 'def gen_traj']\n",
      "Extracted 2 cells with tags '['import numpy as np', 'def gen_traj']' to stuff.py\n"
     ]
    }
   ],
   "source": [
    "extract_tagged_cells(lab_01_filename,\"agent.py\",tags=[\"import numpy as np\", \"def gen_traj\", \"class Agent\"])\n",
    "extract_tagged_cells(lab_01_filename,\"stuff.py\",tags=[\"import numpy as np\", \"def gen_traj\"])"
   ]
  },
  {
   "cell_type": "code",
   "execution_count": 22,
   "id": "86a955be",
   "metadata": {
    "lines_to_next_cell": 2
   },
   "outputs": [
    {
     "name": "stdout",
     "output_type": "stream",
     "text": [
      "0.5420000000000004\n"
     ]
    }
   ],
   "source": [
    "from environment import Environment\n",
    "from agent import Agent\n",
    "from stuff import gen_traj\n",
    "\n",
    "G = np.array([[1,3,0,2,4,0],\n",
    "              [2,1,0,3,0,0],\n",
    "              [4,0,3,0,2,0],\n",
    "              [3,1,2,3,0,5],\n",
    "              [2,0,0,0,1,1]]);\n",
    "\n",
    "env = Environment(G)\n",
    "ooo, sss = gen_traj(env,5)\n",
    "\n",
    "assert ooo.shape[1] == 2 \n",
    "assert ooo.shape[0] == sss.shape[0]\n",
    "\n",
    "agent = Agent(env)\n",
    "\n",
    "# N.B. It's supposed that if you may call self.P_traj(ooo,M=M) from within your Agent\n",
    "P_S = agent.P_S(ooo, M=50)\n",
    "\n",
    "assert len(P_S) == G.shape[0] * G.shape[1]\n",
    "\n",
    "# Check average performace over n trials\n",
    "n = 1000\n",
    "r_avg = 0\n",
    "for i in range(n): \n",
    "    ooo, sss = gen_traj(env,5)\n",
    "    a = agent.act(ooo)\n",
    "    r_avg += env.rwd(sss[-1],a) / n\n",
    "\n",
    "print(r_avg)"
   ]
  },
  {
   "cell_type": "markdown",
   "id": "6df57a55",
   "metadata": {
    "cell_marker": "\"\"\"",
    "lines_to_next_cell": 2
   },
   "source": [
    "Some checks for Lab 2"
   ]
  },
  {
   "cell_type": "code",
   "execution_count": 23,
   "id": "528449d0",
   "metadata": {},
   "outputs": [],
   "source": [
    "import torch\n",
    "import torch.nn as nn"
   ]
  },
  {
   "cell_type": "code",
   "execution_count": 24,
   "id": "ef4042f9",
   "metadata": {
    "lines_to_next_cell": 2
   },
   "outputs": [
    {
     "name": "stdout",
     "output_type": "stream",
     "text": [
      "['model_il = TinyTransformerDecoder']\n",
      "Extracted 1 cells with tags '['model_il = TinyTransformerDecoder']' to model_train.py\n"
     ]
    }
   ],
   "source": [
    "extract_tagged_cells(lab_02_filename,\"model_train.py\",tags=[\"model_il = TinyTransformerDecoder\"])"
   ]
  },
  {
   "cell_type": "markdown",
   "id": "efc75945",
   "metadata": {
    "cell_marker": "\"\"\""
   },
   "source": [
    "Some checks for Lab 3"
   ]
  },
  {
   "cell_type": "code",
   "execution_count": 25,
   "id": "b4ce58b1",
   "metadata": {},
   "outputs": [
    {
     "name": "stdout",
     "output_type": "stream",
     "text": [
      "['import numpy', 'from bandit_machines import BernoulliMAB, GaussianMAB', 'def randmax', 'class UCB', 'def evaluate_run']\n",
      "Extracted 6 cells with tags '['import numpy', 'from bandit_machines import BernoulliMAB, GaussianMAB', 'def randmax', 'class UCB', 'def evaluate_run']' to bandits.py\n",
      "1.060417464932657\n"
     ]
    }
   ],
   "source": [
    "extract_tagged_cells(lab_03_filename,\"bandits.py\",tags=[\"import numpy\", \"from bandit_machines import BernoulliMAB, GaussianMAB\", \"def randmax\", \"class UCB\", \"def evaluate_run\"])\n",
    "\n",
    "from bandits import GaussianMAB, UCB, evaluate_runs\n",
    "\n",
    "env_G = GaussianMAB(2)\n",
    "ucb = UCB(env_G.n_arms)\n",
    "A_log, R_log = evaluate_runs(env_G, ucb, 10, 100)\n",
    "print(R_log.mean())"
   ]
  }
 ],
 "metadata": {
  "jupytext": {
   "cell_metadata_filter": "-all",
   "main_language": "python",
   "notebook_metadata_filter": "-all"
  },
  "kernelspec": {
   "display_name": "Python 3",
   "language": "python",
   "name": "python3"
  },
  "language_info": {
   "codemirror_mode": {
    "name": "ipython",
    "version": 3
   },
   "file_extension": ".py",
   "mimetype": "text/x-python",
   "name": "python",
   "nbconvert_exporter": "python",
   "pygments_lexer": "ipython3",
   "version": "3.8.10"
  }
 },
 "nbformat": 4,
 "nbformat_minor": 5
}
