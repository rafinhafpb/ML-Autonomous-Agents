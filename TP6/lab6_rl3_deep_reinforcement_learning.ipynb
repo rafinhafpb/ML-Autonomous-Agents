{
 "cells": [
  {
   "cell_type": "markdown",
   "metadata": {},
   "source": [
    "# CSC-52081-EP Lab6: Deep Reinforcement Learning\n",
    "\n",
    "<img src=\"https://raw.githubusercontent.com/jeremiedecock/polytechnique-csc-52081-ep-2025-students/refs/heads/main/assets/logo.jpg\" style=\"float: left; width: 15%\" />\n",
    "\n",
    "[CSC-52081-EP-2025](https://moodle.polytechnique.fr/course/view.php?id=19336) Lab session #6\n",
    "\n",
    "2019-2025 Jérémie Decock"
   ]
  },
  {
   "cell_type": "markdown",
   "metadata": {},
   "source": [
    "[![Open in Google Colab](https://colab.research.google.com/assets/colab-badge.svg)](https://colab.research.google.com/github/jeremiedecock/polytechnique-csc-52081-ep-2025-students/blob/main/lab6_rl3_deep_reinforcement_learning.ipynb)\n",
    "\n",
    "[![My Binder](https://mybinder.org/badge_logo.svg)](https://mybinder.org/v2/gh/jeremiedecock/polytechnique-csc-52081-ep-2025-students/main?filepath=lab6_rl3_deep_reinforcement_learning.ipynb)\n",
    "\n",
    "[![NbViewer](https://raw.githubusercontent.com/jupyter/design/main/logos/Badges/nbviewer_badge.svg)](https://nbviewer.jupyter.org/github/jeremiedecock/polytechnique-csc-52081-ep-2025-students/blob/main/lab6_rl3_deep_reinforcement_learning.ipynb)\n",
    "\n",
    "[![Local](https://img.shields.io/badge/Local-Save%20As...-blue)](https://github.com/jeremiedecock/polytechnique-csc-52081-ep-2025-students/raw/main/lab6_rl3_deep_reinforcement_learning.ipynb)"
   ]
  },
  {
   "cell_type": "markdown",
   "metadata": {},
   "source": [
    "## Introduction\n",
    "\n",
    "In the previous lab, we dealt with reinforcement learning in discrete state and action spaces.\n",
    "To do so, we used methods based on action-value function and especially $Q$-function estimation.\n",
    "The $Q$-function was stored in a table and updated with on- or off- policy algorithms (namely SARSA and $Q$-Learning).\n",
    "\n",
    "Yet, these methods do not scale to large state spaces and especially not to the case of continuous state spaces.\n",
    "To address these issues one can either extend the value-based methods making use of the value-function approximation or directly search in policy spaces.\n",
    "In this lab, we will explore both solutions.\n",
    "\n",
    "The first part of this lab presents the problem to solve: the CartPole environment.\n",
    "\n",
    "In the second part, we will apply value-function approximation methods (namely DQN) to solve the CartPole problem.\n",
    "\n",
    "In the third part of this lab (\"Bonus 1\"), we will search in a family of parameterized policies $\\pi_\\theta(s, a)$ using a policy gradient method (this part is **optional** and **will not be graded**).\n",
    "\n",
    "The fourth part introduce a useful tool to optimize hyper-parameters (this is not an exercise but a useful information to go further).\n",
    "\n",
    "As for previous labs, you can either:\n",
    "- open, edit and execute the notebook in *Google Colab* following this link: https://colab.research.google.com/github/jeremiedecock/polytechnique-csc-52081-ep-2025-students/blob/main/lab6_rl3_deep_reinforcement_learning.ipynb ; this is the **recommended** choice as you have nothing to install on your computer\n",
    "- open, edit and execute the notebook in *MyBinder* (if for any reason the Google Colab solution doesn't work): https://mybinder.org/v2/gh/jeremiedecock/polytechnique-csc-52081-ep-2025-students/main?filepath=lab6_rl3_deep_reinforcement_learning.ipynb\n",
    "- download, edit and execute the notebook on your computer if Python3 and JypyterLab are already installed: https://github.com/jeremiedecock/polytechnique-csc-52081-ep-2025-students/raw/main/lab6_rl3_deep_reinforcement_learning.ipynb\n",
    "\n",
    "If you work with Google Colab or MyBinder, **remember to save or download your work regularly or you may lose it!**"
   ]
  },
  {
   "cell_type": "markdown",
   "metadata": {},
   "source": [
    "## Lab Submission\n",
    "\n",
    "Please submit your completed notebook in [Moodle : \"Lab 6 - Submission\"](https://moodle.polytechnique.fr/course/section.php?id=66534).\n",
    "\n",
    "### Submission Guidelines\n",
    "\n",
    "1. **File Naming:** Rename your notebook as follows: **`firstname_lastname-06.ipynb`** where `firstname` and `lastname` match your email address. *Example: `jesse_read-06.ipynb`*\n",
    "2. **Clear Output Cells:** To reduce file size (**must be under 500 KB**), clear all output cells before submitting. This includes rendered images, videos, plots, and dataframes...\n",
    "   - **JupyterLab:**\n",
    "     - Click **\"Kernel\" → \"Restart Kernel and Clear Outputs of All Cells...\"**\n",
    "     - Then go to **\"File\" → \"Save Notebook As...\"**\n",
    "   - **Google Colab:**\n",
    "     - Click **\"Edit\" → \"Clear all outputs\"**\n",
    "     - Then go to **\"File\" → \"Download\" → \"Download.ipynb\"**\n",
    "   - **VSCode:**\n",
    "     - Click **\"Clear All Outputs\"**\n",
    "     - Then **save your file**\n",
    "3. **Upload Your File:** Only **`.ipynb`** files are accepted.\n",
    "\n",
    "**Note:** Bonus parts (if any) are optional, as their name suggests.\n"
   ]
  },
  {
   "cell_type": "markdown",
   "metadata": {},
   "source": [
    "## Setup the Python environment"
   ]
  },
  {
   "cell_type": "markdown",
   "metadata": {},
   "source": [
    "This notebook relies on several libraries including `gymnasium[classic-control]` (v1.0.0), `ipywidgets`, `matplotlib`, `moviepy`, `numpy`, `pandas`, `pygame`, `seaborn`, `torch`, and `tqdm`.\n",
    "A complete list of dependencies can be found in the following [requirements-lab6.txt](https://raw.githubusercontent.com/jeremiedecock/polytechnique-csc-52081-ep-2025-students/main/requirements-lab6.txt) file."
   ]
  },
  {
   "cell_type": "markdown",
   "metadata": {},
   "source": [
    "### If you use Google Colab\n",
    "\n",
    "If you use Google Colab, execute the next cell to install required libraries."
   ]
  },
  {
   "cell_type": "code",
   "execution_count": null,
   "metadata": {
    "colab": {
     "base_uri": "https://localhost:8080/"
    },
    "id": "xt66Z85AmOI2",
    "outputId": "bd7a6b75-ad3c-4be1-d560-8239fbc0e9d2"
   },
   "outputs": [],
   "source": [
    "import sys\n",
    "import subprocess\n",
    "\n",
    "\n",
    "def is_colab():\n",
    "    return \"google.colab\" in sys.modules\n",
    "\n",
    "\n",
    "def run_subprocess_command(cmd):\n",
    "    # run the command\n",
    "    process = subprocess.Popen(cmd.split(), stdout=subprocess.PIPE)\n",
    "    # print the output\n",
    "    for line in process.stdout:\n",
    "        print(line.decode().strip())\n",
    "\n",
    "\n",
    "if is_colab():\n",
    "    # run_subprocess_command(\"apt install xvfb x11-utils\")\n",
    "    run_subprocess_command(\n",
    "        \"pip install -r https://raw.githubusercontent.com/jeremiedecock/polytechnique-csc-52081-ep-2025-students/main/requirements-lab6-google-colab.txt\"\n",
    "    )"
   ]
  },
  {
   "cell_type": "markdown",
   "metadata": {},
   "source": [
    "### If you have downloaded the notebook on your computer and execute it in your own Python environment"
   ]
  },
  {
   "cell_type": "markdown",
   "metadata": {},
   "source": [
    "To set up the necessary dependencies, run the following commands to establish a [Python virtual environment (venv)](https://docs.python.org/3/library/venv.html) that includes all the essential libraries for this lab.\n",
    "\n",
    "#### On Posix systems (Linux, MacOSX, WSL, ...)\n",
    "\n",
    "```bash\n",
    "python3 -m venv env-lab6\n",
    "source env-lab6/bin/activate\n",
    "python3 -m pip install --upgrade pip\n",
    "python3 -m pip install -r https://raw.githubusercontent.com/jeremiedecock/polytechnique-csc-52081-ep-2025-students/main/requirements-lab6.txt\n",
    "```\n",
    "\n",
    "#### On Windows\n",
    "\n",
    "```bash\n",
    "python3 -m venv env-lab6\n",
    "env-lab6\\Scripts\\activate.bat\n",
    "python3 -m pip install --upgrade pip\n",
    "python3 -m pip install -r https://raw.githubusercontent.com/jeremiedecock/polytechnique-csc-52081-ep-2025-students/main/requirements-lab6.txt\n",
    "```"
   ]
  },
  {
   "cell_type": "markdown",
   "metadata": {},
   "source": [
    "### Run CSC-52081-EP notebooks locally in a dedicated Docker container\n",
    "\n",
    "If you are familiar with Docker, an image is available on Docker Hub for this lab:\n",
    "\n",
    "```bash\n",
    "docker run -it --rm --user root -p 8888:8888 -e NB_UID=$(id -u) -e NB_GID=$(id -g) -v \"${PWD}\":/home/jovyan/work jdhp/csc-52081-ep:latest\n",
    "```"
   ]
  },
  {
   "cell_type": "markdown",
   "metadata": {},
   "source": [
    "### Import required packages"
   ]
  },
  {
   "cell_type": "code",
   "execution_count": 2,
   "metadata": {},
   "outputs": [],
   "source": [
    "import collections\n",
    "import gymnasium as gym\n",
    "import itertools\n",
    "import numpy as np\n",
    "\n",
    "# from numpy.typing import NDArray\n",
    "import pandas as pd\n",
    "from pathlib import Path\n",
    "import random\n",
    "import torch\n",
    "from typing import Callable, cast, List, Tuple, Union"
   ]
  },
  {
   "cell_type": "code",
   "execution_count": 3,
   "metadata": {},
   "outputs": [],
   "source": [
    "%matplotlib inline\n",
    "\n",
    "import matplotlib.pyplot as plt\n",
    "\n",
    "import seaborn as sns\n",
    "from tqdm.notebook import tqdm"
   ]
  },
  {
   "cell_type": "code",
   "execution_count": 4,
   "metadata": {},
   "outputs": [],
   "source": [
    "from IPython.display import Video\n",
    "from ipywidgets import interact"
   ]
  },
  {
   "cell_type": "code",
   "execution_count": 5,
   "metadata": {},
   "outputs": [],
   "source": [
    "import warnings\n",
    "\n",
    "warnings.filterwarnings(\"ignore\", category=UserWarning)"
   ]
  },
  {
   "cell_type": "code",
   "execution_count": 6,
   "metadata": {},
   "outputs": [],
   "source": [
    "sns.set_context(\"talk\")"
   ]
  },
  {
   "cell_type": "code",
   "execution_count": 7,
   "metadata": {},
   "outputs": [],
   "source": [
    "FIGS_DIR = Path(\"figs/\") / \"lab6\"       # Where to save figures (.gif or .mp4 files)\n",
    "PLOTS_DIR = Path(\"figs/\") / \"lab6\"      # Where to save plots (.png or .svg files)\n",
    "MODELS_DIR = Path(\"models/\") / \"lab6\"   # Where to save models (.pth files)"
   ]
  },
  {
   "cell_type": "code",
   "execution_count": 8,
   "metadata": {},
   "outputs": [],
   "source": [
    "if not FIGS_DIR.exists():\n",
    "    FIGS_DIR.mkdir(parents=True)\n",
    "if not PLOTS_DIR.exists():\n",
    "    PLOTS_DIR.mkdir(parents=True)\n",
    "if not MODELS_DIR.exists():\n",
    "    MODELS_DIR.mkdir(parents=True)"
   ]
  },
  {
   "cell_type": "markdown",
   "metadata": {},
   "source": [
    "## Define some parameters"
   ]
  },
  {
   "cell_type": "markdown",
   "metadata": {},
   "source": [
    "### Number of trainings\n",
    "\n",
    "To achieve more representative outcomes at the conclusion of each exercise, we average the results across multiple training sessions. The `DEFAULT_NUMBER_OF_TRAININGS` variable specifies the number of training sessions conducted before the results are displayed.\n",
    "\n",
    "We recommend setting a lower value (such as 1 or 2) during the development and testing phases of your implementations. Once you have completed your work and are confident in its functionality, you can increase the number of training sessions to minimize the variance in results. Be aware that a higher number of training sessions will extend the execution time, so adjust this setting in accordance with your computer's capabilities.\n",
    "\n",
    "Additionally, you have the option to assign a specific value to the `NUMBER_OF_TRAININGS` variable for each exercise directly within the cells where the training loop is defined."
   ]
  },
  {
   "cell_type": "code",
   "execution_count": 9,
   "metadata": {
    "lines_to_next_cell": 2
   },
   "outputs": [],
   "source": [
    "DEFAULT_NUMBER_OF_TRAININGS = 3"
   ]
  },
  {
   "cell_type": "markdown",
   "metadata": {
    "lines_to_next_cell": 2
   },
   "source": [
    "## Define the video selector widget"
   ]
  },
  {
   "cell_type": "markdown",
   "metadata": {},
   "source": [
    "The `video_selector` function, defined in the next cell, will be used in exercises 2, 3, 4 and 5 to display different episodes of the trained agent."
   ]
  },
  {
   "cell_type": "code",
   "execution_count": 10,
   "metadata": {},
   "outputs": [],
   "source": [
    "def video_selector(file_path: List[Path]):\n",
    "    return Video(file_path, embed=True, html_attributes=\"controls autoplay loop\")"
   ]
  },
  {
   "cell_type": "markdown",
   "metadata": {},
   "source": [
    "## PyTorch Refresher and Cheat Sheet\n",
    "\n",
    "In this lab, we will be implementing our deep reinforcement learning algorithms using PyTorch.\n",
    "If you need a refresher, you might find this [PyTorch Cheat Sheet](https://pytorch.org/tutorials/beginner/ptcheat.html) helpful. It provides a quick reference for many of the most commonly used PyTorch functions and concepts, and can be a valuable resource as you work through this lab.\n",
    "\n",
    "You can also refer to the [official documentation](https://pytorch.org/docs/stable/index.html)."
   ]
  },
  {
   "cell_type": "markdown",
   "metadata": {},
   "source": [
    "## PyTorch setup"
   ]
  },
  {
   "cell_type": "markdown",
   "metadata": {},
   "source": [
    "PyTorch can run on both CPUs and GPUs. The following cell will determine the device PyTorch will use. If a GPU is available, PyTorch will use it; otherwise, it will use the CPU."
   ]
  },
  {
   "cell_type": "code",
   "execution_count": 16,
   "metadata": {},
   "outputs": [],
   "source": [
    "device = torch.device(\"cuda\" if torch.cuda.is_available() else \"cpu\")  # Set the device to CUDA if available, otherwise use CPU"
   ]
  },
  {
   "cell_type": "markdown",
   "metadata": {},
   "source": [
    "For utilizing a GPU on Google Colab, you also have to activate it following the steps outlined [here](https://colab.research.google.com/notebooks/gpu.ipynb)."
   ]
  },
  {
   "cell_type": "code",
   "execution_count": 18,
   "metadata": {},
   "outputs": [
    {
     "name": "stdout",
     "output_type": "stream",
     "text": [
      "Available GPUs:\n",
      "- No GPU available.\n"
     ]
    }
   ],
   "source": [
    "print(\"Available GPUs:\")\n",
    "if torch.cuda.is_available():\n",
    "    for i in range(torch.cuda.device_count()):\n",
    "        print(f\"- Device {i}: {torch.cuda.get_device_name(i)}\")\n",
    "else:\n",
    "    print(\"- No GPU available.\")"
   ]
  },
  {
   "cell_type": "markdown",
   "metadata": {},
   "source": [
    "If you have a recent GPU and want to use it, you may need to install a specific version of PyTorch compatible with your Cuda version. For this, you will have to edit the [requirements-lab6.txt](https://raw.githubusercontent.com/jeremiedecock/polytechnique-csc-52081-ep-2025-students/main/requirements-lab6.txt) file and replace the current version of PyTorch with the one compatible with your Cuda version. Check the [official PyTorch website](https://pytorch.org/get-started/locally/) for more information."
   ]
  },
  {
   "cell_type": "markdown",
   "metadata": {},
   "source": [
    "Note that the GPU is not very useful in this lab because CartPole is a simple and quick problem to solve, and CUDA spends more time transferring data between the CPU and GPU than processing it directly on the CPU.\n",
    "\n",
    "You can uncomment the next cell to explicitly instruct PyTorch to train neural networks using the CPU."
   ]
  },
  {
   "cell_type": "code",
   "execution_count": null,
   "metadata": {},
   "outputs": [],
   "source": [
    "# device = \"cpu\""
   ]
  },
  {
   "cell_type": "code",
   "execution_count": 17,
   "metadata": {},
   "outputs": [
    {
     "name": "stdout",
     "output_type": "stream",
     "text": [
      "PyTorch will train and test neural networks on cpu\n"
     ]
    }
   ],
   "source": [
    "print(f\"PyTorch will train and test neural networks on {device}\")"
   ]
  },
  {
   "cell_type": "markdown",
   "metadata": {},
   "source": [
    "## Part 1: Hands on Cart Pole environment"
   ]
  },
  {
   "cell_type": "markdown",
   "metadata": {},
   "source": [
    "As for previous labs, we will use standard environments provided by the Gymnasium, but this time, we will try to solve the CartPole-v1 environment (c.f. https://gymnasium.farama.org/environments/classic_control/cart_pole/) which offers a continuous state space and discrete action space.\n",
    "The Cart Pole task consists in maintaining a pole in a vertical position by moving a cart on which the pole is attached with a joint.\n",
    "No friction is considered.\n",
    "The task is supposed to be solved if the pole stays up-right (within 15 degrees) for 500 steps in average over 100 episodes while keeping the cart position within reasonable bounds.\n",
    "The state is given by $\\{x,\\frac{\\partial x}{\\partial t},\\omega,\\frac{\\partial \\omega}{\\partial t}\\}$ where $x$ is the position of the cart and $\\omega$ is the angle between the pole and vertical position.\n",
    "There are only two possible actions: $a \\in \\{0, 1\\}$ where $a = 0$ means \"push the cart to the LEFT\" and $a = 1$ means \"push the cart to the RIGHT\"."
   ]
  },
  {
   "cell_type": "markdown",
   "metadata": {},
   "source": [
    "### Exercise 1: Hands on Cart Pole\n",
    "\n",
    "**Task 1.1:** refer to the following link [CartPole Environment](https://gymnasium.farama.org/environments/classic_control/cart_pole/) to familiarize yourself with the CartPole environment.\n",
    "\n",
    "**Note:** for a refresher on the key concepts of Gymnasium, you can visit this [Basic Usage Guide](https://gymnasium.farama.org/introduction/basic_usage/)."
   ]
  },
  {
   "cell_type": "markdown",
   "metadata": {},
   "source": [
    "Print some information about the environment:"
   ]
  },
  {
   "cell_type": "code",
   "execution_count": 19,
   "metadata": {},
   "outputs": [
    {
     "name": "stdout",
     "output_type": "stream",
     "text": [
      "State space size is: Box([-4.8               -inf -0.41887903        -inf], [4.8               inf 0.41887903        inf], (4,), float32)\n",
      "Action space size is: Discrete(2)\n",
      "Actions are: {0, 1}\n"
     ]
    }
   ],
   "source": [
    "env = gym.make(\"CartPole-v1\", render_mode=\"rgb_array\")\n",
    "\n",
    "cartpole_observation_space = cast(gym.spaces.Box, env.observation_space)\n",
    "cartpole_action_space = cast(gym.spaces.Discrete, env.action_space)\n",
    "\n",
    "cartpole_observation_dim = cartpole_observation_space.shape[0]  # Number of *dimensions* in the observation space (i.e. number of *elements* in the observation vector)\n",
    "cartpole_num_actions = cartpole_action_space.n.item()           # Number of possible actions\n",
    "\n",
    "print(f\"State space size is: {cartpole_observation_space}\")\n",
    "print(f\"Action space size is: {cartpole_action_space}\")\n",
    "print(\"Actions are: {\" + \", \".join([str(a) for a in range(cartpole_action_space.n)]) + \"}\")\n",
    "\n",
    "env.close()"
   ]
  },
  {
   "cell_type": "markdown",
   "metadata": {},
   "source": [
    "**Task 1.2:** Run the following cells and check different basic\n",
    "policies (for instance constant actions or randomly drawn actions) to discover the CartPole environment.\n",
    "Although this environment has easy dynamics that can be computed analytically, we will solve this problem with deep Reinforcement Learning methods."
   ]
  },
  {
   "cell_type": "markdown",
   "metadata": {
    "tags": []
   },
   "source": [
    "#### Test the CartPole environment with a constant policy"
   ]
  },
  {
   "cell_type": "code",
   "execution_count": 20,
   "metadata": {},
   "outputs": [],
   "source": [
    "VIDEO_PREFIX_EX1_LEFT = \"lab6_ex1_cartpole_left\"\n",
    "\n",
    "(FIGS_DIR / f\"{VIDEO_PREFIX_EX1_LEFT}-episode-0.mp4\").unlink(missing_ok=True)\n",
    "\n",
    "env = gym.make(\"CartPole-v1\", render_mode=\"rgb_array\")\n",
    "env = gym.wrappers.RecordVideo(env, video_folder=str(FIGS_DIR), name_prefix=VIDEO_PREFIX_EX1_LEFT)\n",
    "\n",
    "observation, info = env.reset()\n",
    "\n",
    "for t in range(50):\n",
    "    action = 0\n",
    "    observation, reward, terminated, truncated, info = env.step(action)\n",
    "\n",
    "env.close()"
   ]
  },
  {
   "cell_type": "code",
   "execution_count": 21,
   "metadata": {},
   "outputs": [
    {
     "data": {
      "text/html": [
       "<video controls autoplay loop  >\n",
       " <source src=\"data:video/mp4;base64,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\" type=\"video/mp4\">\n",
       " Your browser does not support the video tag.\n",
       " </video>"
      ],
      "text/plain": [
       "<IPython.core.display.Video object>"
      ]
     },
     "execution_count": 21,
     "metadata": {},
     "output_type": "execute_result"
    }
   ],
   "source": [
    "Video(\n",
    "    FIGS_DIR / f\"{VIDEO_PREFIX_EX1_LEFT}-episode-0.mp4\",\n",
    "    embed=True,\n",
    "    html_attributes=\"controls autoplay loop\",\n",
    ")"
   ]
  },
  {
   "cell_type": "code",
   "execution_count": 22,
   "metadata": {},
   "outputs": [],
   "source": [
    "VIDEO_PREFIX_EX1_RIGHT = \"lab6_ex1_cartpole_right\"\n",
    "\n",
    "(FIGS_DIR / f\"{VIDEO_PREFIX_EX1_RIGHT}-episode-0.mp4\").unlink(missing_ok=True)\n",
    "\n",
    "env = gym.make(\"CartPole-v1\", render_mode=\"rgb_array\")\n",
    "env = gym.wrappers.RecordVideo(env, video_folder=str(FIGS_DIR), name_prefix=VIDEO_PREFIX_EX1_RIGHT)\n",
    "\n",
    "observation, info = env.reset()\n",
    "\n",
    "for t in range(50):\n",
    "    action = 1\n",
    "    observation, reward, terminated, truncated, info = env.step(action)\n",
    "\n",
    "env.close()"
   ]
  },
  {
   "cell_type": "code",
   "execution_count": 23,
   "metadata": {},
   "outputs": [
    {
     "data": {
      "text/html": [
       "<video controls autoplay loop  >\n",
       " <source src=\"data:video/mp4;base64,AAAAIGZ0eXBpc29tAAACAGlzb21pc28yYXZjMW1wNDEAAAAIZnJlZQAAItJtZGF0AAACoQYF//+d3EXpvebZSLeWLNgg2SPu73gyNjQgLSBjb3JlIDE1OSAtIEguMjY0L01QRUctNCBBVkMgY29kZWMgLSBDb3B5bGVmdCAyMDAzLTIwMTkgLSBodHRwOi8vd3d3LnZpZGVvbGFuLm9yZy94MjY0Lmh0bWwgLSBvcHRpb25zOiBjYWJhYz0xIHJlZj0zIGRlYmxvY2s9MTowOjAgYW5hbHlzZT0weDM6MHgxMTMgbWU9aGV4IHN1Ym1lPTcgcHN5PTEgcHN5X3JkPTEuMDA6MC4wMCBtaXhlZF9yZWY9MSBtZV9yYW5nZT0xNiBjaHJvbWFfbWU9MSB0cmVsbGlzPTEgOHg4ZGN0PTEgY3FtPTAgZGVhZHpvbmU9MjEsMTEgZmFzdF9wc2tpcD0xIGNocm9tYV9xcF9vZmZzZXQ9LTIgdGhyZWFkcz0xMiBsb29rYWhlYWRfdGhyZWFkcz0yIHNsaWNlZF90aHJlYWRzPTAgbnI9MCBkZWNpbWF0ZT0xIGludGVybGFjZWQ9MCBibHVyYXlfY29tcGF0PTAgY29uc3RyYWluZWRfaW50cmE9MCBiZnJhbWVzPTMgYl9weXJhbWlkPTIgYl9hZGFwdD0xIGJfYmlhcz0wIGRpcmVjdD0xIHdlaWdodGI9MSBvcGVuX2dvcD0wIHdlaWdodHA9MiBrZXlpbnQ9MjUwIGtleWludF9taW49MjUgc2NlbmVjdXQ9NDAgaW50cmFfcmVmcmVzaD0wIHJjX2xvb2thaGVhZD00MCByYz1jcmYgbWJ0cmVlPTEgY3JmPTIzLjAgcWNvbXA9MC42MCBxcG1pbj0wIHFwbWF4PTY5IHFwc3RlcD00IGlwX3JhdGlvPTEuNDAgYXE9MToxLjAwAIAAAAGuZYiEACf//vWxfApqyfOKDOgyLuGXJMmutiLibQDAACVAAAADAABLJlCWzIByZd0AAAMATIAOKH0GUHmImKsVAleIOBmriABkGBfkAqDJ21qkw02VCGCikUNU53NYpmy06jLdXGzAyi+lJPsGcf3NwLhMYl4uTPEvmli6pgW6siaP/jHYy/gjEIK/juZOwQEDgFve7Uo9aQzgL2wonhotHjt9b1I1GfuEAEJap9PdLfo/P6j+ujT5z1W6FL8NSKD1+5T5Z5Il3BCkAEKFYt2nlBFtgXMMhX3wBG6MXPKslPVC+dTwIPcjc06Lgu8oYVEGIsHoLX2vurPtgH3xV2gBOZnxDIpezb3PNbFEHZuwlIk8UVOLOYSM38tqP0rICfZ8wYSOXln/TOZZ6JiZFpTkT9YAZEbIO5xjZLhoDTyi4reJ16MqqYwwGIQMWeRuEVFtjfFSUKRMiOynLVVRrw7xX8R2NmsDkW10tgACL49zyfD10RrhnyRvEkqcfkdY5fKALB0bYuceWwubXEYMcpWDFUz1mjWu9hmAFuwABGAAATe4AAADAAADAAADAAALCQAAAItBmiRsQj/94QAABBfWd+8XfUqHyLQBzC4B52KreGeGjto58/G8QOfiVqwQHTHeC+lAzvDbHf0in0ZIgkNXO5/vKnoULD7H5uFjOZvEUDTMpQPP0hxpu2Xwki0ocpN4L6J/PW1o4W447Aeh9NxrBwmsA8LYqcO5MBZI5iOmrlqn/0ulenKodpOmOFpAAAAALkGeQniEfwAAFrNHtwq2DuL0m8HNOzwhBo7bQ7rpyZIEJeu0WI1btb/cfxvk2YEAAAAaAZ5hdEf/AAAjwxdoqaVT1yGHiNBRIlX0i/8AAAAwAZ5jakf/AAAjvwQnFBtLIfktWwyryjRa8wQtpwJ/gW7PE54gqFVwI1r/dYZsg0sPAAAAuUGaZkmoQWiZTBTwj/3hAAAEFkeqc26CQBf3noxkmT3E2s4p6OTJbioSluMJoMQn0ouGBd1zMKM88dM8qMHBnvgi7njbIUkC8pjgnGFuF1I7/rrcK3CBAkMaGpEgHqlJfUzn04NiWRAZTtPIwwzZNgGJKp70voV9aflEeyQ2OrEyVCnhbdLHNySyWyTX+HU5/12UxF4zfYpoUM+I092i5NYvNuYvQwSkZt4Iic2ptt5FYb32UM4s/mFxAAAASwGehWpH/wAAI65e0LPqFvvqAEbdwezU7mgQKZECfdkcxerp7EVEiamRvnkNzZcv0hac2uZnzAIAEyHRudsyFgaha0Ij1/GOVjsa2QAAAQZBmopJ4QpSZTAhH/3hAAAEG6JtURBKdVMctkB6RTVWilXfpGMevBaHiWPCAEz9QEJ9jJLfiaWqmZ17hiXwnm3gu8nv/XwnMWlQyEZ7jGCkTtcWZvFhkXjgz+lalg+n8o2BlvMKojtCyhMsQp4BhjA3guWPPmiqGoQ+ZWiXQ0SCy4ZKLOcTsJ3ft11nX+usz81A06C327G4lNwnRHqRvPmIl5Tc1TiThetxIQ4H2RrCkh6ENthDeC6+l5XtenLW72CSdVdE76dfdbNap9fyXve2B8xMdNThAJPvdWA6WTFHlCPs4jgtm2Dl0FLtxdvy/y/rXN7gNVyN0XvoMcpbe2xn/iOxK7yfAAAAkUGeqEU0TCP/AAAXTDx0Z1ol5HvlPh33q5SQAWAJYC7n7PHwCc3MruXzR7nK2D9iL/HwLogydcA34Px/Psrcef5ECZa2nBpEvg0mHbSp5JQbDpsv4j2d0O5Tr4Kb+Me0slV6LrnpuziGZClgTJHMO0WLLpsNnjPmqdH2UahKLALtP+UFhnBhP1zMGksTQais2FgAAABgAZ7HdEf/AAAjqVbB98PCI77ycVz9wI80AbrFVjNRti8Hzoo3HZ/FEqXnXpPmZPYNGGFc2TOO2qt/lc+7VUUTU8L4em+bcEzDMPysAvXfqAD97/a297TmL0yxo2CBevKAAAAASwGeyWpH/wAAJL7qD/NctDQC/4ObMm1IrWfPbbJGi/ztsBYlbXbDcUzIlPM56md5Xq9ztk9BL625esWhBn80s/z5NFKP2mW9mZoUmwAAAQhBmsxJqEFomUwU8f/8hAAABkvOZvybsFMQA0RycRNFE0w8a2XqhD1B2Hwm/ucO35cWrfpelMK9tb8qIa4AzT1lrVHcQ6B7OC3KecJ11ysuHR0maHeSRZ8/DXyqLnSJCfnDtm5gX01N0yqvxOOgc3uH1T3ffa+E7Cyw7wm30joDciIaJWR29cyB8Q6InTsQ3bOafeKZflPAMKnkNfnSc5YVmrwxl8HKzOn8JWguNUVFip9XiTZNEUmObh38fuGsTAZoOP/Wpeec1eBlrL++tFyYFt7B0ei6lZL44U/5x6whuKYnh+re/ubg6Rm8zYFaQN3EG3RsTpnplGcrUvAvgT0vpUipWqUctoAAAABbAZ7rakf/AAAkx8Y2S3ILdS9x6I1MPQIF5S6A4ep6MxZidkq0gEHpgXKVdxglZo/KVO18GveLMwpS7sZpbb4wuL5aZ/GjpslNl//U/qnPVmbhVYp8/lfHrmex8AAAAJdBmu1J4QpSZTAhH/3hAAADAZsXTf16AHHZy6W2nYghoBAsZvonjmqbxIfj5IbsTx+3HwkwZQx6Ha/IduAdBk/3ffrEfEx5mv2hjC7HSRrOmnluLu9mwohFZ1rpS/r6NLwUed95/tyfwWgmLzT4xBkp9/4u2miKxpzFEWzBz/N9mj7w1A1IpXELqypXmYKKWUMtei+jTsuxAAABgUGbEUnhDomUwIX//oywAAAbT3u3EjLNMwJuoCLA1YAL68tcuYaEkm+K51pcuh7rA0DVcm1UfSoWcyfYxioUTdA9DvDH6Cpk6NgLd2vkBEHA855vQNla+cYtL9aVf8EpdHrO6v/Vr/+mw6WApIDLSsO1mz7TdZ6wQVrdLiV3lRdHaK6gJxByRg78ZkBxc02j/HUJoKM05QYVezlkuy+RrOmJTyWYU527ATgIFXH7Vx9E7o4XXIbfCiNH0ZCrV6u2HfcBPWcGApBz2t9zxIELTjEWI+oBxErpXsHgC4yT7R9KgOGhfmPAcF/2u10Tq222uCvQ/fylbg/F8bV6//LeXcwjGytR9D1EQvavNhHjRiPWW+PQRwXdt7DCzti+BAeu/OkT9+WfBRO+Zez6zj2cKCBUbuPcycEkNHYB6WbqcdmJODzLVhYxY78BBXLTmnEG4FcCGthgzL9EG8yrsoeBPgjzcteS12s05LKSGta+lC0+xZ7rKgOzx4DkMn0NDacKzrUAAAEMQZ8vRRE8I/8AAAir+uYJfO6pLOgOyWfKK+RAFL6NCcOIiyyWEAVc3vqoqwNzMT0RRi9D4LSkkZioXVQeH/+BP95gixzABoYgKnMyTW1g0eRJYWl5tNTyI3L56/Y/xKZVjRb7c3G7PS+s/bZq7s/pwpfgv/J0me5B0U4Vj5VD3mEeImGMledZl2XMW7K3feZTRkFJ6RgU8Dh6nqMDm27+lqXxbzI7/YXYLPv0CCgdhKhcqvFFDW4wipDCNE8QvMO1j3sz6tgIMeJf03TOXj/sO9+H9yqFQC3tZcsiBBv0oIahaxrtn/5oqjTGVIhJpU0L8NVGWAX3/bW+aA7dOtxJwGny2iQI5kUzzWqUEQAAAHIBn050R/8AAA3M4P3UvK+NyFDNPyjyYPzXs1+pLKBBdmiLgHvKcws9Zd/XIBBb+YKbYaOIVgc6JJGSuk/dST0ZbqdFHlbuOgcKawUG0cyF9NXhYyigCX4xkoAP3pm1nNLUpfaX3deV8CbUlWo5g+3ZPTAAAACSAZ9Qakf/AAAFQu4LjNqAEYbXhxtNzW1Zgqo5E6cDGXwKvrK7WwZXcW8XZML/7Ph4BcBBxzhuKg3cJbbwIIMYhWiyRJoPXgehdw7ZLUdMOiP7qDTmW/89oqn6HlFycFKKH2Iy8sVBKbqMmxFRHVBSwvXZDlfsKWoNkJFlLhn8ILWQPUAi2v3l/arigLP4fK5BG0EAAAFhQZtVSahBaJlMCFf//jhAAAAO56kS1r2vIl3KJTXIj9MZkX8ARMaGIUJIwr+Fkm2ltfcda4e+WIjNBFowi0fu0/OvprmOb5IhODtkX0SNq6IvlZugkC4bIzBxgB/CtmMerMNVblNMDxVdZ3XtLvXfznVFzdDENI7PFu6CaRt9Lqyx+LIcuytcla980OrOF5sa6e8AyUqmtCwO36Xi8Xojd0JHXicw2X4ZfWcLvefQ6OA91mluQt9GyvoI9wdrrMbA/fQFCpedX2PzCVCSQwz5+kR/BHxgNCkfuPpB9gsBjTMa/ftdKeRUos5wJzCbSNTB/Dn6xUYfb1a4rrshJMPx15nxoh5bmFYTjbS1FaCHERQMxXRtRgJHFNZerrUPL+PkiWQNVGYgP9H/KzL5UGDvKPG//JQBydMGGLzUjia+HLWXzk6syXd2zmBxEGXT7WTXr3PbSIkcaD0XmqHezjvnDgsAAAEvQZ9zRREsI/8AAAMBPlKyrmwM34CEARMXGm4oVPzN74h8x7KisXoazBT91IxgiRoI+wJkIz6lH1sBAs2k6kZDwW75nBYHbSGK20E3aXZoRtKvfXtO2P7PffQS8RGdK0UHVYjKG8J08s7rW5mn0JQq1HYzI6Zi5fpEp/c9LAWqXDRbh4VV/jlrJwZ8EMq7+0BzB8A6BKLBu3UanvDf4/FU/MFl3upE0LCevfXsDndNzjdD2xvzD+p34MvuopOysYzG1uyTt/F06wFSQvEKw312vQaBuYSj1N7zoGm08/quI9HhxvCxcOVZAjJOG+FCcDtuBdoEhDBNMrZZElw+Pn9rCo61dHCYg3ez0jDyzFPvHq/uhdveYsI+1ShOIb+2bxdSFw2QZUJyqe5TmspAZ9VUAAAAggGfknRH/wAAAwHwh9oiyKNjsZYf14ABYWuOtqlqsViPcAgaeD+u2FUx5uv3lCVX8UgpohYuoMHjmxs5Vt5tlXSnFtCss137YdJ6xGJ72wygXMZiaxqeJDkrk4+2YZnLE++ZmmQ8jacblEesQId+81LbHRdwRUJwO58kz3QvMV9VoxwAAAClAZ+Uakf/AAADAL77abNrV988g4VEysCOhhd6tSLDCvGmqSaW21lE2cXTmgAXCIBR4UuppbVVX8+fv/Nk4JeWEFfaW/1n9SLXXP4+aZQhN69qYDqbO84MsRRcQ+/4uiqZneltCI0nodlu5kCpt0aXRmm5yfDfjhauYMR8ScuMCswSgr0817RWPyJVrtcKNEjSnQ0DwiH7oD/A7l5A+pN0FreXBathAAABVkGbl0moQWyZTBRMK//+OEAAAAMAzvqRLWc+wVB11ARV1taRj6s+AVwACKtpj/xiHjX9Ujr9invYF9AF2lSVW+f2affJQITh77k+RPZ+76s3YK3r3vnrnZzf/GJKv/ikpRgyAUKttoPGZ1Q5To7EMQNzCQPCR4fkTO3ge/4VwA8vkNDiU3prJoktiwwH2M2+PCT1OU6SBrcI5x/vGDHtHX+AWQEPF+4CTXJdlGJtGF5whXFWyqgfA0tV6iUVRcG31bcyrx0DQODpdSBSX/yDSsjboxmSRWH4kZEnKzlX+H41rJRF0ZHptLTHzhsyfV1ZwlPVu+x19rq84IhxgOzFjTqm26nzR3CCwfJYdEDtWqvDuGAYL5kb0LRSp5Hsosz/9X2zXjVPOyNQAysn6TU4jk3RQxbNLid8fyoCT5ple7afZ1jufDdq1qJrls/bju354FS788sAMwAAAJsBn7ZqR/8AAAMAGv9sZRSi/zNTZ7sqaJABw1mJvGMJBD6ABLVjDr/tCgpZxBxyGjy/7Q9sDGMiw/sh12/QITt/K3Mf5+pbpX80f/bpFcts9RQW5QsLkHxDHkHB3mbAirj+dc3LYS5AA0eCmlcl19LrLEJJFrLt9YlljzH69nouj21wpSr4hKuD7YNe9/wZWghNKUxXLuhrsWq6QQAAAQRBm7hJ4QpSZTAhX/44QAAAAwA/vqNZU1XNtyQ6O4ATR3R2Ifu7yeF1/O7uQgnMuVeCrpSJzQz2N1HUecpnxXyDQ1E0NCo1pkbMMUDXNHqLCdnTtrxAStjuTnVJKCkW/XahqjdXzbE2zsESlcmtZWzoExqfnCgVP2F/EUzWRVxbumk44y1v+J0kiOF3MDUTw7UTUrKNCk7VKn4miHIinWK6pXPSxymwdjX++yTgIMDMKouUgMx2Sr8f4NU5Q31UkCO9IKtf5L3U4DUgEajsciKAUJB3oMxl2XbmX7N40gu0e72Qe/kuNrFVx8YP2exoBX+TfpPiE5+TRJXKdMPuSDEPb4etuQAAAc5Bm9pJ4Q6JlMFNEwr//jhAAAADAD5eo+hSL5uUxtyqgAX02ePmW/LU4OnFSseE9/IPTbu9T4wkh6t8a0PnnSixPGfSQ/NXPfg1P0n5S8K7ivdX+qBZkXd0Lkj4S4DQzvdKkv+kUoCTieY6iuC5Eb1ON60R3Cm/aP2XDu3Fmoby/L4OA5Lrr1AL3b0950p5wN+ue5mIX+B0PVsg7gH/nbYsPK11CdxZbztiC+f/Sq16oakWhS/vq8KpP6bV6zF3MOt/h7j73pm7X+i7GM6Cxk5w14Pnx/h+qH/OlMnPjKdohfvideUxRrsMUPZvikpOwPQew5keCCduf9ckl49hejU2X5SOJU4k8tWBho2mJuYkfbhx21Pyq1rCU6yDddM3smw08SvGbvbzR0EgZ//TmRJrZaniXnvnGWiAGGofnIwxlS8VJ6CdY69Q8aI/tvvp61hfPBwufUFahXTXSq+fT7cVSfBF7k/Fb5LZFZijN/F/UTkpnRlgHR4PtirHPuliR3IETHpWTGo5WqOAzS6N1FmzNHQZ+v3x4xd8PAPhgxbWLE6zFzCP2QsMIa0Go2MHABi2WwhfZ7trOiJ4P49KsMA+tyuJSmXRS37SKSu9oLQAAADQAZ/5akf/AAADAAgsb14rs7rkYJJZYRhIArtwiOG6E2z43DNtNQARA9qYPcTdtlX/7nFdbpjyEj0JhP47cQVaj5q5dVaukYgH93WkxTJPBFHnECxl0WIzb6194/GeQY2IGtUdviJP76YgtEKeGJrvVNf8a+75Mw+cUw8xtvmMxugoYp0z34j4PQMssA0o78AtrYOI5Idwzc2iu5Rvto7+qCHHwFWed3wDWuRlXqbrCCVSXTTnnBVNOzfh5QcliNftDMm5fhh2g32K2KkNEyw9wQAAAR1Bm/tJ4Q8mUwIV//44QAAAAwA8/qNZU2UkYoKqYgBOg8RCOdBU9i3Cy4vxzfjB5l2ok9HZLjKwDRcjsJeH6P3NJA4h4RPPxqU2MRynTiPAd46wAI1yzMHbpg2l3eVJqlTOJg7hI64W9T4w3dqKgwH+rlG2RSgFczezHF2GWpgJh8hWVlwAsV1HbMbQhByRfg2l9m2Oh+Qq6BG/yvuUBcI/TT6R5Uye/DLcDI1GxJQ9uGA5VDtjQ+lsEMSWCM59n9inO/8ssE8flqULTtMWOUPKkOfFAXWldCVwE+XQnGQ1yDSKWo4cdsCQbm2APBEIVMSoBOXYQx1mU6LccIhGVy0/WihJjKp91P6FFGC7Y5f/k7fvZ2LI6oX5lFqC/wwAAAEvQZocSeEPJlMCFf/+OEAAAAMAO56jWV0ja+EhGsHxT/ALfzbcFwI5YPhGSAByGX6aVoaLz/tu7hcWNkfcKRLTLMFldOnVXf5kT6cO6Vkh8TMb1O2s8LfjyRq9OG0F9qvPYTcOiw5L1EQ86dgvlUxmY939lt/aPwKuVSK2iyO1UvQmDjblkeV6rx1+FrfGKqdwOzpoWDCu9U5JkM6uCTJmWAGzj3hBd+7H6wT2xOsdhDoPhUtAFh0lr+6nH1/RYgBRlSqMZgA1fdw/RiSJFEyPd56uKY6ATPsGeRavhIcCv5E6mSwuduixyL/2aEUulYN4vB/EqJb8c8sF6edzDGEfyEnloW/xg9mALLq5VdDy5hVI6hYIfKTpQ0MdInTAIlLrX+kLsOLN3KPWDObO7cuBAAABIEGaPUnhDyZTAhX//jhAAAADADo7/zXo5zuUZAACoG/JRUtNwV8ufzVs++P1Vkqzf13I/jn95LO5rmN/SDOgjq9cd7YO6UT/sESufQiAUpbbh9ho72jtyo+MiqtiBky416bdKf4tvjBbIoSHUd7hMEd8oIQ8dsidLEzxl4RmwKSipVUidWkIxQeJKC4Q1x1qU79qshWUB8QbpEgOGnI0h/GzO+tJ7q4dGRuCp2lGj+udj26WfnJLlPEylYl9D21vRsv1owFsSDwVdjsNxpKECdGApdwgACMLmBi6Nd8DqcGk6gcM40Ro1oPfGBYdodASFHmFFri/dutJvDHlLXuGGj1B2f3CvDoh6dkvb1DH36Ss1fMLnKfzZ29d8j1hOFuZnwAAAQhBml5J4Q8mUwIV//44QAAAAwA4eQ6W7DILsRIAA0K+Yoqx3gg98zI+JQBhclLZjn5Kf0afRM+pCy2t3X84frITLMGRPInQSo/ZhqST3U+mTx0CTJPn6gZeHk8/xhv60Z6Mpfoirb6m9x7/+qhbLaWYyX2U604MC9JqJNBTy5Gm0MOO1UmxegsyoGoWlAVCTr7MMYaqLz2C8hS4suseNPku8tCE5zzNLdhEGUFGz4t1COXe1jemdtlsh3zM+byv/sr2LitJzcjYXXuuLwSN0mip+PRcEb7c1xClASXSiCLqHe8codHNPcS9cEeGroykJkVd6EN6cQynWZR/gEn/Ji3wVTZ7qMsHvTgAAADYQZp/SeEPJlMCFf/+OEAAAAMAON6jWWb2XxeTNXLCrugBObE83zij4nyAGN/5FHttz3A91KcI4mUpDUuwYouDdYoCjSkTERNxR914eiRXhCxUtJJbqesbgABmxF2b5K2c5Raepttmy7FaSyQSte8nK6fqE1kZPGJ8lgeXk+ZSJIQP8UlDEM7RINSSFH+ZxjvIsHAqLKesTbs06bAfQVPRjMp/4nIHE9NFR+pD2mP5b0joheSyr9DeAKiezC1GISHKhymQZLZAnpX68QytTk23ndQ8xwCVu6nsAAAA70GagEnhDyZTAhX//jhAAAADADd+o1lm83NZoU4X4ATq6Frc7DecvdkPr8NaBQc6IIJuLQM9DfW0+1xyjZQP1/cBhJvc3dWlAlpIyyZGpZS0bYwyjWbeOxN7DLYK5f0DlVs70/npuokhouKS1r8DxxFTgL/cBvnDZm8YMtN4gF50cWXKHcktoSlERf5EuZdJpEyfOdakxBOknRHSCKBrYDtr6XkLFrMa5h0jKkd4O996Q60Z/8c1Juen05HcRmGd8W56oSr2Y8aLM/rS3DBGrFxGq6wuSCdc3IAkf0jmFibD8ZQrOphXZ3Kj+agVIpixAAAA3UGaoUnhDyZTAhX//jhAAAADADY+o1lm83HbIfgaH3FBLhT8GCzpMAEBY/BON7oFkyiqWLZTCmok0va4s6wJwh/Ypt2B3QEYwW80DmeXk9N/2OBVIAIXJkqt/w5THhFdESYyEZNpM2yQk8TPp0SvUHhSlePP6jEY/Q+yMWDBqtScXhqHX/Q9Npo2OyNBag7E7Q+fQxkp9bWaXHBwdOdjLs2HgtJbvjQeridII6zki2I8QvG7N/oRVbknIGrMXWrkqLhyu7QgB0NjpfzFn7rKqF+PrfIit3LaNY5M4hHgAAAA/EGawknhDyZTAhf//oywAAADAA2nrZlfjnnLg0ADRulJ9/KrI3dJPBX3OhN5nbxsToQv2TQjPBbDFfnrJyNH2wzZPtBhNBQVe4T5pLuPGz6T3qAL+guQePD5bYKekM/SEp0qr/31/Cur9CTZm9/gwlXcTxXYLwbsjROfkhBrlN210saZsjxfeRknli84qJv1bajD8slajgBDFvSIzcm50J6CJPJDO/FdLzoYOcBTw1CBTII7W33Eg1hTzI5aAJZwnL+acSYgwpL3ATAGlRr+9jixep4N1VSuT7//3wBbE8pmLn5QLycJ1zR+gr3Tc3Aaz8xx9o23nSl/8dfF8QAAALZBmuNJ4Q8mUwIX//6MsAAAAwANV62ZYaFfBJtaABdc8+gw1CYIAY7rH26gd/rvuYbymo4X/4zQKfWIsXnvIDXt0G8iqu8LMHmNHGGLSEWIZ2aicYIfU74Izv5tgrASh++6gluXXIc0ZYEa7392QT/BL5tU/h0jBUonJBwkcgyB7t8FJq4NaxMMlGG7U6F5vPjWxDGykMvfdQzjoa/srZdIUvaa3DnBYdNYqycjqVceIhtZ5dyh3AAAAC9BmwZJ4Q8mUwIX//6MsAAAAwANB63bnuHNXKrIpzPAEMWj2b41io/IKDgRPz93wQAAAGdBnyRFETwj/wAAAwAEFf+pLCXP6yWkjrNW6Ysb4IAQXFZp0r9iXqM82OBxIIS1Wmueu6z3aJYOAqZkSUAEf8P7gaNrtqUPoUx5+EaNMAYZWE5cNaexvktQf/Wn5TZbGr2nUiDzMO8HAAAAQAGfRWpH/wAAAwAGb9jP+xFi4J2QAO0Lz9zrfP6Xd+tIYP8VzwyLf9n7KhqAGSFG3uatneo5t4/WHsAk4sPdfuEAAAAcQZtKSahBaJlMCF///oywAAADAAwXrVfkCR+JvwAAABNBn2hFESwj/wAAAwADy+2ur2/IAAAAEQGfh3RH/wAAAwAGHu+TD+McAAAADgGfiWpH/wAAAwAAAwGpAAAAFkGbjkmoQWyZTAhX//44QAAAAwAADKgAAAAQQZ+sRRUsI/8AAAMAAAMBBwAAAA4Bn8t0R/8AAAMAAAMBqQAAAA4Bn81qR/8AAAMAAAMBqQAAABdBm9JJqEFsmUwIR//94QAAAwAAAwAxYQAAABBBn/BFFSwj/wAAAwAAAwEHAAAADgGeD3RH/wAAAwAAAwGpAAAADgGeEWpH/wAAAwAAAwGpAAAAFkGaE0moQWyZTAj//IQAAAMAAAMAwIAAAAU7bW9vdgAAAGxtdmhkAAAAAAAAAAAAAAAAAAAD6AAABBAAAQAAAQAAAAAAAAAAAAAAAAEAAAAAAAAAAAAAAAAAAAABAAAAAAAAAAAAAAAAAABAAAAAAAAAAAAAAAAAAAAAAAAAAAAAAAAAAAAAAAAAAgAABGV0cmFrAAAAXHRraGQAAAADAAAAAAAAAAAAAAABAAAAAAAABBAAAAAAAAAAAAAAAAAAAAAAAAEAAAAAAAAAAAAAAAAAAAABAAAAAAAAAAAAAAAAAABAAAAAAlgAAAGQAAAAAAAkZWR0cwAAABxlbHN0AAAAAAAAAAEAAAQQAAACAAABAAAAAAPdbWRpYQAAACBtZGhkAAAAAAAAAAAAAAAAAAAyAAAANABVxAAAAAAALWhkbHIAAAAAAAAAAHZpZGUAAAAAAAAAAAAAAABWaWRlb0hhbmRsZXIAAAADiG1pbmYAAAAUdm1oZAAAAAEAAAAAAAAAAAAAACRkaW5mAAAAHGRyZWYAAAAAAAAAAQAAAAx1cmwgAAAAAQAAA0hzdGJsAAAAmHN0c2QAAAAAAAAAAQAAAIhhdmMxAAAAAAAAAAEAAAAAAAAAAAAAAAAAAAAAAlgBkABIAAAASAAAAAAAAAABAAAAAAAAAAAAAAAAAAAAAAAAAAAAAAAAAAAAAAAAAAAAGP//AAAAMmF2Y0MBZAAf/+EAGWdkAB+s2UCYM+XhAAADAAEAAAMAZA8YMZYBAAZo6+PLIsAAAAAYc3R0cwAAAAAAAAABAAAANAAAAQAAAAAUc3RzcwAAAAAAAAABAAAAAQAAAWhjdHRzAAAAAAAAACsAAAABAAACAAAAAAEAAAUAAAAAAQAAAgAAAAABAAAAAAAAAAEAAAEAAAAAAQAAAwAAAAABAAABAAAAAAEAAAUAAAAAAQAAAgAAAAABAAAAAAAAAAEAAAEAAAAAAQAAAwAAAAABAAABAAAAAAEAAAIAAAAAAQAABQAAAAABAAACAAAAAAEAAAAAAAAAAQAAAQAAAAABAAAFAAAAAAEAAAIAAAAAAQAAAAAAAAABAAABAAAAAAEAAAMAAAAAAQAAAQAAAAABAAACAAAAAAEAAAMAAAAAAQAAAQAAAAAJAAACAAAAAAEAAAQAAAAAAgAAAQAAAAABAAAFAAAAAAEAAAIAAAAAAQAAAAAAAAABAAABAAAAAAEAAAUAAAAAAQAAAgAAAAABAAAAAAAAAAEAAAEAAAAAAQAABQAAAAABAAACAAAAAAEAAAAAAAAAAQAAAQAAAAABAAACAAAAABxzdHNjAAAAAAAAAAEAAAABAAAANAAAAAEAAADkc3RzegAAAAAAAAAAAAAANAAABFcAAACPAAAAMgAAAB4AAAA0AAAAvQAAAE8AAAEKAAAAlQAAAGQAAABPAAABDAAAAF8AAACbAAABhQAAARAAAAB2AAAAlgAAAWUAAAEzAAAAhgAAAKkAAAFaAAAAnwAAAQgAAAHSAAAA1AAAASEAAAEzAAABJAAAAQwAAADcAAAA8wAAAOEAAAEAAAAAugAAADMAAABrAAAARAAAACAAAAAXAAAAFQAAABIAAAAaAAAAFAAAABIAAAASAAAAGwAAABQAAAASAAAAEgAAABoAAAAUc3RjbwAAAAAAAAABAAAAMAAAAGJ1ZHRhAAAAWm1ldGEAAAAAAAAAIWhkbHIAAAAAAAAAAG1kaXJhcHBsAAAAAAAAAAAAAAAALWlsc3QAAAAlqXRvbwAAAB1kYXRhAAAAAQAAAABMYXZmNTguMjkuMTAw\" type=\"video/mp4\">\n",
       " Your browser does not support the video tag.\n",
       " </video>"
      ],
      "text/plain": [
       "<IPython.core.display.Video object>"
      ]
     },
     "execution_count": 23,
     "metadata": {},
     "output_type": "execute_result"
    }
   ],
   "source": [
    "Video(\n",
    "    FIGS_DIR / f\"{VIDEO_PREFIX_EX1_RIGHT}-episode-0.mp4\",\n",
    "    embed=True,\n",
    "    html_attributes=\"controls autoplay loop\",\n",
    ")"
   ]
  },
  {
   "cell_type": "markdown",
   "metadata": {},
   "source": [
    "#### Test the CartPole environment with a random policy"
   ]
  },
  {
   "cell_type": "code",
   "execution_count": 30,
   "metadata": {},
   "outputs": [],
   "source": [
    "VIDEO_PREFIX_EX1_RANDOM = \"lab6_ex1_cartpole_random\"\n",
    "\n",
    "(FIGS_DIR / f\"{VIDEO_PREFIX_EX1_RANDOM}-episode-0.mp4\").unlink(missing_ok=True)\n",
    "\n",
    "env = gym.make(\"CartPole-v1\", render_mode=\"rgb_array\")\n",
    "env = gym.wrappers.RecordVideo(env, video_folder=str(FIGS_DIR), name_prefix=VIDEO_PREFIX_EX1_RANDOM)\n",
    "\n",
    "observation, info = env.reset()\n",
    "\n",
    "for t in range(100):\n",
    "    action = int(cartpole_action_space.sample())  # Convert signedinteger[_64Bit] to int\n",
    "    observation, reward, terminated, truncated, info = env.step(action)\n",
    "\n",
    "env.close()"
   ]
  },
  {
   "cell_type": "code",
   "execution_count": 31,
   "metadata": {
    "lines_to_next_cell": 2
   },
   "outputs": [
    {
     "data": {
      "text/html": [
       "<video controls autoplay loop  >\n",
       " <source src=\"data:video/mp4;base64,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\" type=\"video/mp4\">\n",
       " Your browser does not support the video tag.\n",
       " </video>"
      ],
      "text/plain": [
       "<IPython.core.display.Video object>"
      ]
     },
     "execution_count": 31,
     "metadata": {},
     "output_type": "execute_result"
    }
   ],
   "source": [
    "Video(\n",
    "    FIGS_DIR / f\"{VIDEO_PREFIX_EX1_RANDOM}-episode-0.mp4\",\n",
    "    embed=True,\n",
    "    html_attributes=\"controls autoplay loop\",\n",
    ")"
   ]
  },
  {
   "cell_type": "markdown",
   "metadata": {},
   "source": [
    "## Part 2: Deep value-based reinforcement learning with Deep Q-Networks (DQN)\n",
    "\n",
    "In this part, we will begin our exploration of deep reinforcement learning with Deep Q-Networks (DQN), a famous value-based method.\n",
    "\n",
    "Deep reinforcement learning methods like DQN (Deep Q-Networks) are significant advancements over tabular methods such as Q-Learning because they can handle complex, high-dimensional environments that were previously intractable. While Q-Learning is limited to environments where the state and action spaces are sufficiently small to maintain a table of values, DQN uses neural networks to approximate the Q-value function, allowing it to generalize across similar states and scale to problems with vast state spaces. This enables DQN to learn optimal policies for tasks like video games, robotic control, and other applications where the number of possible states is extraordinarily large.\n",
    "\n",
    "While DQN was designed to tackle large environments like Atari games, the primary focus of this lab is to delve into the underlying algorithms, understand them thoroughly, and evaluate them comprehensively. It's important to note that working with not-so-deep networks captures the essence of deep reinforcement learning, excluding the computational expense. The transition from tabular Q-learning to DQN involves significant implications, primarily due to the ability of DQN to handle high-dimensional state spaces. Moving from DQN to very-deep-DQN is primarily a matter of scale and computational resources. The core principles remain the same, and understanding these principles is the key to mastering reinforcement learning, regardless of the complexity of the network used.\n",
    "For these reasons, in this lab, we will focus on studying the CartPole environment. The CartPole problem is a classic in reinforcement learning, and it provides a simpler and more manageable context for understanding the principles of DQN. The convergence in the CartPole environment is much faster than in Atari games - typically within a minute, as opposed to approximately 10 hours on a well-equipped personal computer for Atari games. This allows us to experiment and iterate more quickly, facilitating a deeper understanding of the algorithms at play."
   ]
  },
  {
   "cell_type": "markdown",
   "metadata": {},
   "source": [
    "### Exercise 2: Implement a naive value-based reinforcement learning algorithm with approximation"
   ]
  },
  {
   "cell_type": "markdown",
   "metadata": {},
   "source": [
    "Our first step will be to write a naive implementation of a version of Q-Learning, where the Q-function is approximated by a neural network. This approach combines traditional Q-Learning with the power of function approximation provided by neural networks, allowing us to handle environments with large state spaces."
   ]
  },
  {
   "cell_type": "markdown",
   "metadata": {},
   "source": [
    "#### The algorithm"
   ]
  },
  {
   "cell_type": "markdown",
   "metadata": {},
   "source": [
    "<b>Input</b>:<br>\n",
    "\t$\\quad\\quad$ none<br>\n",
    "<b>Algorithm parameter</b>:<br>\n",
    "\t$\\quad\\quad$ discount factor $\\gamma$<br>\n",
    "\t$\\quad\\quad$ step size $\\alpha \\in (0,1]$<br>\n",
    "\t$\\quad\\quad$ small $\\epsilon > 0$<br><br>\n",
    "\n",
    "<b>FOR EACH</b> episode<br>\n",
    "\t$\\quad$ $\\mathbf{s} \\leftarrow \\text{env.reset}()$<br>\n",
    "\t$\\quad$ <b>DO</b> <br>\n",
    "\t\t$\\quad\\quad$ $\\mathbf{a} \\leftarrow \\epsilon\\text{-greedy}(\\mathbf{s}, \\hat{Q}_{\\mathbf{\\omega}}$ $)$<br>\n",
    "\t\t$\\quad\\quad$ $r, \\mathbf{s'} \\leftarrow \\text{env.step}(\\mathbf{a})$<br>\n",
    "\t\t$\\quad\\quad$ $y \\leftarrow\n",
    "\t\t\\begin{cases}\n",
    "\t\t\tr & \\text{for terminal } \\mathbf{s'}\\\\\n",
    "\t\t\tr + \\gamma \\max_{\\mathbf{a}^\\star \\in \\mathcal{A}} \\hat{Q}_{\\mathbf{\\omega}}(\\mathbf{s'})_{\\mathbf{a}^\\star} & \\text{for non-terminal } \\mathbf{s'}\n",
    "\t\t\\end{cases}$<br>\n",
    "\t\t$\\quad\\quad$ $\\mathbf{\\omega} \\leftarrow \\mathbf{\\omega} + \\alpha \\left[ y - \\hat{Q}_{\\mathbf{\\omega}}(\\mathbf{s})_{\\mathbf{a}} \\right] ~ \\nabla_{\\mathbf{\\omega}} \\hat{Q}_{\\mathbf{\\omega}}(\\mathbf{s})_{\\mathbf{a}}$ <br>\n",
    "\t\t$\\quad\\quad$ $\\mathbf{s} \\leftarrow \\mathbf{s'}$ <br>\n",
    "\t$\\quad$ <b>UNTIL</b> $\\mathbf{s}$ is final<br><br>\n",
    "<b>RETURN</b> $\\mathbf{\\omega}$ <br>"
   ]
  },
  {
   "cell_type": "markdown",
   "metadata": {
    "lines_to_next_cell": 2
   },
   "source": [
    "#### Implement the Q-network\n",
    "\n",
    "The Q-Network is used to approximate the action-value function, which estimates the expected future reward for taking a particular action in a given state. The network is trained by minimizing the difference between its predicted Q-values and the actual returns received.\n",
    "\n",
    "In this exercise, the Q-Network is implemented as a simple feedforward neural network with two hidden layers. The input to the network consists of the observed state, and the output provides a Q-value for each possible action.  \n",
    "Each hidden layer applies the ReLU activation function, while the output layer uses a linear activation function.\n",
    "\n",
    "**Important note:** The \"naive\" agent you will implement in this exercise is **not** a DQN agent and **will not be able to solve the CartPole environment**. However, it serves as a stepping stone toward implementing the DQN agent in Exercises 3 and 4.\n",
    "\n",
    "**Task 2.1:** implement the constructor and the `forward` method of the Q-network we will use in our RL agents"
   ]
  },
  {
   "cell_type": "code",
   "execution_count": 32,
   "metadata": {
    "lines_to_next_cell": 2
   },
   "outputs": [],
   "source": [
    "class QNetwork(torch.nn.Module):\n",
    "    \"\"\"\n",
    "    A Q-Network implemented with PyTorch.\n",
    "\n",
    "    Attributes\n",
    "    ----------\n",
    "    layer1 : torch.nn.Linear\n",
    "        First fully connected layer.\n",
    "    layer2 : torch.nn.Linear\n",
    "        Second fully connected layer.\n",
    "    layer3 : torch.nn.Linear\n",
    "        Third fully connected layer.\n",
    "\n",
    "    Methods\n",
    "    -------\n",
    "    forward(x: torch.Tensor) -> torch.Tensor\n",
    "        Define the forward pass of the QNetwork.\n",
    "    \"\"\"\n",
    "\n",
    "    def __init__(self, n_observations: int, n_actions: int, nn_l1: int, nn_l2: int):\n",
    "        \"\"\"\n",
    "        Initialize a new instance of QNetwork.\n",
    "\n",
    "        Parameters\n",
    "        ----------\n",
    "        n_observations : int\n",
    "            The size of the observation space.\n",
    "        n_actions : int\n",
    "            The size of the action space.\n",
    "        nn_l1 : int\n",
    "            The number of neurons on the first layer.\n",
    "        nn_l2 : int\n",
    "            The number of neurons on the second layer.\n",
    "        \"\"\"\n",
    "        super(QNetwork, self).__init__()\n",
    "\n",
    "        self.layer1 = torch.nn.Linear(n_observations, nn_l1)\n",
    "        self.layer2 = torch.nn.Linear(nn_l1, nn_l2)\n",
    "        self.layer3 = torch.nn.Linear(nn_l2, n_actions)\n",
    "        \n",
    "\n",
    "    def forward(self, x: torch.Tensor) -> torch.Tensor:\n",
    "        \"\"\"\n",
    "        Define the forward pass of the QNetwork.\n",
    "\n",
    "        Parameters\n",
    "        ----------\n",
    "        x : torch.Tensor\n",
    "            The input tensor (state).\n",
    "\n",
    "        Returns\n",
    "        -------\n",
    "        torch.Tensor\n",
    "            The output tensor (Q-values).\n",
    "        \"\"\"\n",
    "\n",
    "        x = torch.nn.functional.relu(self.layer1(x))\n",
    "        x = torch.nn.functional.relu(self.layer2(x))\n",
    "        output_tensor = self.layer3(x)\n",
    "\n",
    "        return output_tensor"
   ]
  },
  {
   "cell_type": "markdown",
   "metadata": {
    "lines_to_next_cell": 2
   },
   "source": [
    "#### Implement an inference function"
   ]
  },
  {
   "cell_type": "markdown",
   "metadata": {},
   "source": [
    "##### Parctical tips\n",
    "\n",
    "To complete task 2.2, you need to be familiar with the following PyTorch concepts:\n",
    "\n",
    "- [torch.squeeze](https://pytorch.org/docs/stable/generated/torch.squeeze.html) (or [torch.Tensor.squeeze](https://pytorch.org/docs/stable/generated/torch.Tensor.squeeze.html)) / [torch.unsqueeze](https://pytorch.org/docs/stable/generated/torch.unsqueeze.html) (or [torch.Tensor.unsqueeze](https://pytorch.org/docs/stable/generated/torch.Tensor.unsqueeze.html)) to add / remove a batch dimension.\n",
    "- [torch.argmax](https://pytorch.org/docs/stable/generated/torch.argmax.html) (or [torch.Tensor.argmax](https://pytorch.org/docs/stable/generated/torch.Tensor.argmax.html)) to get the index of the maximum value of a tensor.\n",
    "- [torch.Tensor.item](https://pytorch.org/docs/stable/generated/torch.Tensor.item.html) to get the value of a tensor with a single element as a standard Python number."
   ]
  },
  {
   "cell_type": "markdown",
   "metadata": {},
   "source": [
    "**Task 2.2:** Your next assignment is to complete the function below, which will be used to evaluate the performance of an agent in a simulated environment over one or multiple episodes."
   ]
  },
  {
   "cell_type": "code",
   "execution_count": 33,
   "metadata": {},
   "outputs": [],
   "source": [
    "def test_q_network_agent(\n",
    "    env: gym.Env, q_network: torch.nn.Module, num_episode: int = 1\n",
    ") -> List[float]:\n",
    "    \"\"\"\n",
    "    Test a naive agent in the given environment using the provided Q-network.\n",
    "\n",
    "    Parameters\n",
    "    ----------\n",
    "    env : gym.Env\n",
    "        The environment in which to test the agent.\n",
    "    q_network : torch.nn.Module\n",
    "        The Q-network to use for decision making.\n",
    "    num_episode : int, optional\n",
    "        The number of episodes to run, by default 1.\n",
    "\n",
    "    Returns\n",
    "    -------\n",
    "    List[float]\n",
    "        A list of rewards per episode.\n",
    "    \"\"\"\n",
    "    episode_reward_list = []\n",
    "\n",
    "    for episode_id in range(num_episode):\n",
    "        state, info = env.reset()\n",
    "        done = False\n",
    "        episode_reward = 0.0\n",
    "\n",
    "        while not done:\n",
    "            # Convert the state to a PyTorch tensor and add a batch dimension (unsqueeze)\n",
    "            state_tensor = torch.tensor(state, dtype=torch.float32, device=device).unsqueeze(0)\n",
    "\n",
    "            # Compute the Q-values for the current state using the Q-network\n",
    "            q_values = q_network(state_tensor)\n",
    "\n",
    "            # Select the action with the highest Q-value\n",
    "            action = torch.argmax(q_values).item()\n",
    "\n",
    "            next_state, reward, terminated, truncated, info = env.step(action)\n",
    "            done = terminated or truncated\n",
    "\n",
    "            episode_reward += float(reward)\n",
    "\n",
    "            state = next_state\n",
    "\n",
    "        episode_reward_list.append(episode_reward)\n",
    "        print(f\"Episode reward: {episode_reward}\")\n",
    "\n",
    "    return episode_reward_list"
   ]
  },
  {
   "cell_type": "markdown",
   "metadata": {},
   "source": [
    "**Task 2.3:** Test this function on the untrained agent."
   ]
  },
  {
   "cell_type": "code",
   "execution_count": 34,
   "metadata": {},
   "outputs": [],
   "source": [
    "q_network = QNetwork(cartpole_observation_dim, cartpole_num_actions, nn_l1=128, nn_l2=128).to(device)"
   ]
  },
  {
   "cell_type": "code",
   "execution_count": null,
   "metadata": {
    "lines_to_next_cell": 2
   },
   "outputs": [
    {
     "name": "stdout",
     "output_type": "stream",
     "text": [
      "Episode reward: 11.0\n",
      "Episode reward: 11.0\n",
      "Episode reward: 9.0\n",
      "\n",
      "Select the episode to play here 👇\n",
      "\n"
     ]
    },
    {
     "data": {
      "application/vnd.jupyter.widget-view+json": {
       "model_id": "5f29265d9411437b82a99de7ff665c92",
       "version_major": 2,
       "version_minor": 0
      },
      "text/plain": [
       "interactive(children=(Dropdown(description='file_path', options=(WindowsPath('figs/lab6/lab6_ex2_dqn_naive_unt…"
      ]
     },
     "metadata": {},
     "output_type": "display_data"
    },
    {
     "data": {
      "text/plain": [
       "<function __main__.video_selector(file_path: List[pathlib.Path])>"
      ]
     },
     "execution_count": 35,
     "metadata": {},
     "output_type": "execute_result"
    }
   ],
   "source": [
    "VIDEO_PREFIX_EX2_DQN_NAIVE_UNTRAINED = \"lab6_ex2_dqn_naive_untained\"\n",
    "\n",
    "NUM_EPISODES = 3\n",
    "\n",
    "file_path_list = [\n",
    "    FIGS_DIR / f\"{VIDEO_PREFIX_EX2_DQN_NAIVE_UNTRAINED}-episode-{episode_index}.mp4\"\n",
    "    for episode_index in range(NUM_EPISODES)\n",
    "]\n",
    "\n",
    "for file_path in file_path_list:\n",
    "    file_path.unlink(missing_ok=True)\n",
    "\n",
    "env = gym.make(\"CartPole-v1\", render_mode=\"rgb_array\")\n",
    "env = gym.wrappers.RecordVideo(\n",
    "    env,\n",
    "    video_folder=str(FIGS_DIR),\n",
    "    name_prefix=VIDEO_PREFIX_EX2_DQN_NAIVE_UNTRAINED,\n",
    "    episode_trigger=lambda x: True,\n",
    ")\n",
    "env = gym.wrappers.RecordEpisodeStatistics(env, buffer_length=NUM_EPISODES)\n",
    "\n",
    "test_q_network_agent(env, q_network, num_episode=NUM_EPISODES)\n",
    "\n",
    "# print(f'Episode time taken: {env.time_queue}')\n",
    "# print(f'Episode total rewards: {env.return_queue}')\n",
    "# print(f'Episode lengths: {env.length_queue}')\n",
    "\n",
    "env.close()\n",
    "\n",
    "print(\"\\nSelect the episode to play here 👇\\n\")\n",
    "\n",
    "interact(video_selector, file_path=file_path_list)"
   ]
  },
  {
   "cell_type": "markdown",
   "metadata": {},
   "source": [
    "#### Question 1"
   ]
  },
  {
   "cell_type": "markdown",
   "metadata": {},
   "source": [
    "Copy and paste the output of the following cell into the first question of the [Lab 6 - Evaluation](https://moodle.polytechnique.fr/course/section.php?id=66534) in Moodle:\n",
    "*\"What is the total number of parameters in the Q-Network constructed in the second exercise?\"*"
   ]
  },
  {
   "cell_type": "code",
   "execution_count": 36,
   "metadata": {},
   "outputs": [
    {
     "name": "stdout",
     "output_type": "stream",
     "text": [
      "\n",
      "\n",
      "⚠️ Copy and paste this value into Moodle 👉 17410\n",
      "\n",
      "\n"
     ]
    }
   ],
   "source": [
    "print(f\"\\n\\n⚠️ Copy and paste this value into Moodle 👉 {len(torch.nn.utils.parameters_to_vector(q_network.parameters()))}\\n\\n\")"
   ]
  },
  {
   "cell_type": "markdown",
   "metadata": {
    "lines_to_next_cell": 2
   },
   "source": [
    "#### Implement the epsilon greedy function\n",
    "\n",
    "In the following cell, you will implement the epsilon-greedy strategy, which is a crucial component in balancing exploration and exploitation during the learning process of our reinforcement learning agent.\n",
    "In this implementation, the epsilon value will decrease over time to encourage the agent to explore more in the early stages of training and exploit more as training progresses. After a certain number of episodes, the epsilon value will remain constant at a minimum value.\n",
    "\n",
    "The figure below illustrates the usage of `epsilon`, `epsilon_min` and `epsilon_start`:\n",
    "\n",
    "<img src=\"https://raw.githubusercontent.com/jeremiedecock/polytechnique-csc-52081-ep-2025-students/main/assets/lab6_epsilon.svg\" width=\"600px\" />\n",
    "\n",
    "**Task 2.4:** Now, let's proceed to implement the epsilon-greedy strategy, which is a crucial component in balancing exploration and exploitation during the learning process of our reinforcement learning agent. To accomplish this, complete the `__call__` function in the following code block.\n",
    "\n",
    "**Tips:** `EpsilonGreedy` is a *[callable](https://docs.python.org/3/glossary.html#term-callable) class* (a.k.a a Python *functor*) that can be used as a function. The `__call__` method is called when the instance is \"called\" as a function. In this case, the `__call__` method should return a random action with probability `epsilon` and the action with the highest Q-value with probability `1 - epsilon`."
   ]
  },
  {
   "cell_type": "code",
   "execution_count": 37,
   "metadata": {
    "lines_to_next_cell": 2
   },
   "outputs": [],
   "source": [
    "class EpsilonGreedy:\n",
    "    \"\"\"\n",
    "    An Epsilon-Greedy policy.\n",
    "\n",
    "    Attributes\n",
    "    ----------\n",
    "    epsilon : float\n",
    "        The initial probability of choosing a random action.\n",
    "    epsilon_min : float\n",
    "        The minimum probability of choosing a random action.\n",
    "    epsilon_decay : float\n",
    "        The decay rate for the epsilon value after each action.\n",
    "    env : gym.Env\n",
    "        The environment in which the agent is acting.\n",
    "    q_network : torch.nn.Module\n",
    "        The Q-Network used to estimate action values.\n",
    "\n",
    "    Methods\n",
    "    -------\n",
    "    __call__(state: np.ndarray) -> np.int64\n",
    "        Select an action for the given state using the epsilon-greedy policy.\n",
    "    decay_epsilon()\n",
    "        Decay the epsilon value after each action.\n",
    "    \"\"\"\n",
    "\n",
    "    def __init__(\n",
    "        self,\n",
    "        epsilon_start: float,\n",
    "        epsilon_min: float,\n",
    "        epsilon_decay: float,\n",
    "        env: gym.Env,\n",
    "        q_network: torch.nn.Module,\n",
    "    ):\n",
    "        \"\"\"\n",
    "        Initialize a new instance of EpsilonGreedy.\n",
    "\n",
    "        Parameters\n",
    "        ----------\n",
    "        epsilon_start : float\n",
    "            The initial probability of choosing a random action.\n",
    "        epsilon_min : float\n",
    "            The minimum probability of choosing a random action.\n",
    "        epsilon_decay : float\n",
    "            The decay rate for the epsilon value after each episode.\n",
    "        env : gym.Env\n",
    "            The environment in which the agent is acting.\n",
    "        q_network : torch.nn.Module\n",
    "            The Q-Network used to estimate action values.\n",
    "        \"\"\"\n",
    "        self.epsilon = epsilon_start\n",
    "        self.epsilon_min = epsilon_min\n",
    "        self.epsilon_decay = epsilon_decay\n",
    "        self.env = env\n",
    "        self.q_network = q_network\n",
    "\n",
    "    def __call__(self, state: np.ndarray) -> np.int64:\n",
    "        \"\"\"\n",
    "        Select an action for the given state using the epsilon-greedy policy.\n",
    "\n",
    "        If a randomly chosen number is less than epsilon, a random action is chosen.\n",
    "        Otherwise, the action with the highest estimated action value is chosen.\n",
    "\n",
    "        Parameters\n",
    "        ----------\n",
    "        state : np.ndarray\n",
    "            The current state of the environment.\n",
    "\n",
    "        Returns\n",
    "        -------\n",
    "        np.int64\n",
    "            The chosen action.\n",
    "        \"\"\"\n",
    "\n",
    "        if random.random() < self.epsilon:\n",
    "            # Select a random action\n",
    "            action = self.env.action_space.sample()\n",
    "        else:\n",
    "            with torch.no_grad():\n",
    "                # Convert the state to a PyTorch tensor and add a batch dimension (unsqueeze)\n",
    "                state_tensor = torch.tensor(state, dtype=torch.float32, device=device).unsqueeze(0)\n",
    "\n",
    "                # Compute the Q-values for the current state using the Q-network\n",
    "                q_values = self.q_network(state_tensor)\n",
    "\n",
    "                # Select the action with the highest Q-value\n",
    "                action = torch.argmax(q_values).item()\n",
    "\n",
    "        return action\n",
    "\n",
    "    def decay_epsilon(self):\n",
    "        \"\"\"\n",
    "        Decay the epsilon value after each episode.\n",
    "\n",
    "        The new epsilon value is the maximum of `epsilon_min` and the product of the current\n",
    "        epsilon value and `epsilon_decay`.\n",
    "        \"\"\"\n",
    "        self.epsilon = max(self.epsilon_min, self.epsilon * self.epsilon_decay)"
   ]
  },
  {
   "cell_type": "markdown",
   "metadata": {
    "lines_to_next_cell": 2
   },
   "source": [
    "#### Implementing a Learning Rate Scheduler\n",
    "\n",
    "The following cell introduces a PyTorch Learning Rate (LR) scheduler. This scheduler is used for managing and adjusting the learning rate ($\\alpha$ in the \"naive value-based reinforcement learning algorithm\") throughout the training process of our agent. It is designed to adjust the learning rate of an optimizer at each *epoch*, following an exponential decay strategy, but with a lower limit on the learning rate.\n",
    "\n",
    "This class will be used in *Task 2.5*."
   ]
  },
  {
   "cell_type": "code",
   "execution_count": 40,
   "metadata": {
    "lines_to_next_cell": 2
   },
   "outputs": [],
   "source": [
    "class MinimumExponentialLR(torch.optim.lr_scheduler.ExponentialLR):\n",
    "    def __init__(\n",
    "        self,\n",
    "        optimizer: torch.optim.Optimizer,\n",
    "        lr_decay: float,\n",
    "        last_epoch: int = -1,\n",
    "        min_lr: float = 1e-6,\n",
    "    ):\n",
    "        \"\"\"\n",
    "        Initialize a new instance of MinimumExponentialLR.\n",
    "\n",
    "        Parameters\n",
    "        ----------\n",
    "        optimizer : torch.optim.Optimizer\n",
    "            The optimizer whose learning rate should be scheduled.\n",
    "        lr_decay : float\n",
    "            The multiplicative factor of learning rate decay.\n",
    "        last_epoch : int, optional\n",
    "            The index of the last epoch. Default is -1.\n",
    "        min_lr : float, optional\n",
    "            The minimum learning rate. Default is 1e-6.\n",
    "        \"\"\"\n",
    "        self.min_lr = min_lr\n",
    "        super().__init__(optimizer, lr_decay, last_epoch=-1)\n",
    "\n",
    "    def get_lr(self) -> List[float]:\n",
    "        \"\"\"\n",
    "        Compute learning rate using chainable form of the scheduler.\n",
    "\n",
    "        Returns\n",
    "        -------\n",
    "        List[float]\n",
    "            The learning rates of each parameter group.\n",
    "        \"\"\"\n",
    "        return [\n",
    "            max(base_lr * self.gamma**self.last_epoch, self.min_lr)\n",
    "            for base_lr in self.base_lrs\n",
    "        ]"
   ]
  },
  {
   "cell_type": "markdown",
   "metadata": {
    "lines_to_next_cell": 2
   },
   "source": [
    "#### Implementing the Training Function\n",
    "\n",
    "The following function is the final component of our initial agent. It orchestrates the training process, enabling the agent to learn from its interactions with the environment.\n",
    "\n",
    "During each episode, the agent selects actions based on an epsilon-greedy policy, observes the next state and reward from the environment, and updates the weights of the Q-Network based on the observed reward and the maximum predicted Q-value of the next state."
   ]
  },
  {
   "cell_type": "markdown",
   "metadata": {},
   "source": [
    "##### Parctical tips\n",
    "\n",
    "To compute the target value, you can eliminate the need for an if statement to differentiate between terminal and non-terminal states by using the following formula:  \n",
    "\n",
    "$$\n",
    "y = r + \\gamma \\max_{\\mathbf{a}^\\star \\in \\mathcal{A}} \\hat{Q}_{\\mathbf{\\omega}}(\\mathbf{s'})_{\\mathbf{a}^\\star} \\times (1 - \\text{done})\n",
    "$$\n",
    "\n",
    "where $\\text{done} = 1$ if $s'$ is a terminal state and 0 otherwise.\n",
    "\n",
    "To complete task 2.5, you also need to be familiar with the following PyTorch concepts:\n",
    "\n",
    "- [torch.max](https://pytorch.org/docs/stable/generated/torch.max.html) (or [torch.Tensor.max](https://pytorch.org/docs/stable/generated/torch.Tensor.max.html)) to get the maximum value of a tensor."
   ]
  },
  {
   "cell_type": "markdown",
   "metadata": {},
   "source": [
    "**Task 2.5:** complete this function"
   ]
  },
  {
   "cell_type": "code",
   "execution_count": 43,
   "metadata": {},
   "outputs": [],
   "source": [
    "def train_naive_agent(\n",
    "    env: gym.Env,\n",
    "    q_network: torch.nn.Module,\n",
    "    optimizer: torch.optim.Optimizer,\n",
    "    loss_fn: Callable,\n",
    "    epsilon_greedy: EpsilonGreedy,\n",
    "    device: torch.device,\n",
    "    lr_scheduler: torch.optim.lr_scheduler.LRScheduler,\n",
    "    num_episodes: int,\n",
    "    gamma: float,\n",
    ") -> List[float]:\n",
    "    \"\"\"\n",
    "    Train the Q-network on the given environment.\n",
    "\n",
    "    Parameters\n",
    "    ----------\n",
    "    env : gym.Env\n",
    "        The environment to train on.\n",
    "    q_network : torch.nn.Module\n",
    "        The Q-network to train.\n",
    "    optimizer : torch.optim.Optimizer\n",
    "        The optimizer to use for training.\n",
    "    loss_fn : callable\n",
    "        The loss function to use for training.\n",
    "    epsilon_greedy : EpsilonGreedy\n",
    "        The epsilon-greedy policy to use for action selection.\n",
    "    device : torch.device\n",
    "        The device to use for PyTorch computations.\n",
    "    lr_scheduler : torch.optim.lr_scheduler.LRScheduler\n",
    "        The learning rate scheduler to adjust the learning rate during training.\n",
    "    num_episodes : int\n",
    "        The number of episodes to train for.\n",
    "    gamma : float\n",
    "        The discount factor for future rewards.\n",
    "\n",
    "    Returns\n",
    "    -------\n",
    "    List[float]\n",
    "        A list of cumulated rewards per episode.\n",
    "    \"\"\"\n",
    "    episode_reward_list = []\n",
    "\n",
    "    for episode_index in tqdm(range(1, num_episodes)):\n",
    "        state, info = env.reset()\n",
    "        episode_reward = 0.0\n",
    "\n",
    "        for t in itertools.count():\n",
    "\n",
    "            # Get action, next_state and reward\n",
    "            action = epsilon_greedy(state)\n",
    "\n",
    "            next_state, reward, terminated, truncated, info = env.step(action)\n",
    "            done = terminated or truncated\n",
    "\n",
    "            episode_reward += float(reward)\n",
    "\n",
    "            # Update the q_network weights\n",
    "\n",
    "            with torch.no_grad():\n",
    "                # Convert the next_state to a PyTorch tensor and add a batch dimension (unsqueeze)\n",
    "                next_state_tensor = torch.tensor(next_state, dtype=torch.float32, device=device).unsqueeze(0)\n",
    "\n",
    "                # Compute the **target** Q-value\n",
    "                y = reward + gamma * max(q_network(next_state_tensor)) * (1 - int(done))\n",
    "\n",
    "            # Convert the state to a PyTorch tensor and add a batch dimension (unsqueeze)\n",
    "            state_tensor = torch.tensor(state, dtype=torch.float32, device=device).unsqueeze(0)\n",
    "\n",
    "            # Compute the Q-values for the current state using the Q-network\n",
    "            q_values = q_network(state_tensor)\n",
    "\n",
    "            # Get the Q-value of the current action\n",
    "            q_value = q_values[0, action]\n",
    "\n",
    "            # Compute the loss\n",
    "            loss = loss_fn(q_value, y)\n",
    "\n",
    "            optimizer.zero_grad()\n",
    "            loss.backward()\n",
    "            optimizer.step()\n",
    "\n",
    "            lr_scheduler.step()\n",
    "\n",
    "            if done:\n",
    "                break\n",
    "\n",
    "            state = next_state\n",
    "\n",
    "\n",
    "        episode_reward_list.append(episode_reward)\n",
    "        epsilon_greedy.decay_epsilon()\n",
    "\n",
    "    return episode_reward_list"
   ]
  },
  {
   "cell_type": "markdown",
   "metadata": {},
   "source": [
    "#### Train the agent"
   ]
  },
  {
   "cell_type": "code",
   "execution_count": 44,
   "metadata": {},
   "outputs": [
    {
     "data": {
      "application/vnd.jupyter.widget-view+json": {
       "model_id": "1826af07869a4c918e5f80bdf0dbf840",
       "version_major": 2,
       "version_minor": 0
      },
      "text/plain": [
       "  0%|          | 0/149 [00:00<?, ?it/s]"
      ]
     },
     "metadata": {},
     "output_type": "display_data"
    },
    {
     "data": {
      "application/vnd.jupyter.widget-view+json": {
       "model_id": "79ad24d567e449c693c23657fe0c02c6",
       "version_major": 2,
       "version_minor": 0
      },
      "text/plain": [
       "  0%|          | 0/149 [00:00<?, ?it/s]"
      ]
     },
     "metadata": {},
     "output_type": "display_data"
    },
    {
     "data": {
      "application/vnd.jupyter.widget-view+json": {
       "model_id": "c15ef1d9746a43c98691880b75d85499",
       "version_major": 2,
       "version_minor": 0
      },
      "text/plain": [
       "  0%|          | 0/149 [00:00<?, ?it/s]"
      ]
     },
     "metadata": {},
     "output_type": "display_data"
    }
   ],
   "source": [
    "env = gym.make(\"CartPole-v1\")\n",
    "\n",
    "NUMBER_OF_TRAININGS = DEFAULT_NUMBER_OF_TRAININGS    # Change the default (global) value here if you want a specific number of trainings for this exercise\n",
    "naive_trains_result_list: List[List[Union[int, float]]] = [[], [], []]    # [int, float, int]\n",
    "\n",
    "for train_index in range(NUMBER_OF_TRAININGS):\n",
    "    # Instantiate required objects\n",
    "\n",
    "    q_network = QNetwork(cartpole_observation_dim, cartpole_num_actions, nn_l1=128, nn_l2=128).to(device)\n",
    "    optimizer = torch.optim.AdamW(q_network.parameters(), lr=0.004, amsgrad=True)\n",
    "    # lr_scheduler = torch.optim.lr_scheduler.ExponentialLR(optimizer, gamma=0.999)\n",
    "    lr_scheduler = MinimumExponentialLR(optimizer, lr_decay=0.97, min_lr=0.0001)\n",
    "    loss_fn = torch.nn.MSELoss()\n",
    "\n",
    "    epsilon_greedy = EpsilonGreedy(\n",
    "        epsilon_start=0.82,\n",
    "        epsilon_min=0.013,\n",
    "        epsilon_decay=0.9675,\n",
    "        env=env,\n",
    "        q_network=q_network,\n",
    "    )\n",
    "\n",
    "    # Train the q-network\n",
    "\n",
    "    episode_reward_list = train_naive_agent(\n",
    "        env,\n",
    "        q_network,\n",
    "        optimizer,\n",
    "        loss_fn,\n",
    "        epsilon_greedy,\n",
    "        device,\n",
    "        lr_scheduler,\n",
    "        num_episodes=150,\n",
    "        gamma=0.9,\n",
    "    )\n",
    "    naive_trains_result_list[0].extend(range(len(episode_reward_list)))\n",
    "    naive_trains_result_list[1].extend(episode_reward_list)\n",
    "    naive_trains_result_list[2].extend([train_index for _ in episode_reward_list])\n",
    "\n",
    "naive_trains_result_df = pd.DataFrame(\n",
    "    np.array(naive_trains_result_list).T,\n",
    "    columns=[\"num_episodes\", \"mean_final_episode_reward\", \"training_index\"],\n",
    ")\n",
    "naive_trains_result_df[\"agent\"] = \"Naive\"\n",
    "\n",
    "# Save the action-value estimation function of the last train\n",
    "\n",
    "torch.save(q_network, MODELS_DIR / \"lab6_naive_q_network.pth\")\n",
    "\n",
    "env.close()"
   ]
  },
  {
   "cell_type": "markdown",
   "metadata": {},
   "source": [
    "#### Plot results"
   ]
  },
  {
   "cell_type": "code",
   "execution_count": 45,
   "metadata": {
    "lines_to_next_cell": 0
   },
   "outputs": [
    {
     "data": {
      "image/png": "[encoded data removed]",
      "text/plain": [
       "<Figure size 1547.5x700 with 1 Axes>"
      ]
     },
     "metadata": {},
     "output_type": "display_data"
    }
   ],
   "source": [
    "g = sns.relplot(\n",
    "    x=\"num_episodes\",\n",
    "    y=\"mean_final_episode_reward\",\n",
    "    kind=\"line\",\n",
    "    hue=\"agent\",\n",
    "    estimator=None,\n",
    "    units=\"training_index\",\n",
    "    data=naive_trains_result_df,\n",
    "    height=7,\n",
    "    aspect=2,\n",
    "    alpha=0.5,\n",
    ")\n",
    "plt.savefig(PLOTS_DIR / \"lab6_dqn_naive_trains_result.png\")"
   ]
  },
  {
   "cell_type": "code",
   "execution_count": 46,
   "metadata": {
    "lines_to_next_cell": 0
   },
   "outputs": [
    {
     "data": {
      "image/png": "[encoded data removed]",
      "text/plain": [
       "<Figure size 1547.5x700 with 1 Axes>"
      ]
     },
     "metadata": {},
     "output_type": "display_data"
    }
   ],
   "source": [
    "g = sns.relplot(\n",
    "    x=\"num_episodes\",\n",
    "    y=\"mean_final_episode_reward\",\n",
    "    hue=\"agent\",\n",
    "    kind=\"line\",\n",
    "    data=naive_trains_result_df,\n",
    "    height=7,\n",
    "    aspect=2,\n",
    ")\n",
    "plt.savefig(PLOTS_DIR / \"lab6_dqn_naive_trains_result_agg.png\")"
   ]
  },
  {
   "cell_type": "markdown",
   "metadata": {},
   "source": [
    "#### Test it"
   ]
  },
  {
   "cell_type": "code",
   "execution_count": 47,
   "metadata": {
    "lines_to_next_cell": 2
   },
   "outputs": [
    {
     "name": "stdout",
     "output_type": "stream",
     "text": [
      "Episode reward: 8.0\n",
      "Episode reward: 10.0\n",
      "Episode reward: 10.0\n",
      "\n",
      "Select the episode to play here 👇\n",
      "\n"
     ]
    },
    {
     "data": {
      "application/vnd.jupyter.widget-view+json": {
       "model_id": "ce3bc24fdf48400d9928e149cbcff303",
       "version_major": 2,
       "version_minor": 0
      },
      "text/plain": [
       "interactive(children=(Dropdown(description='file_path', options=(WindowsPath('figs/lab6/lab6_ex2_dqn_naive_tai…"
      ]
     },
     "metadata": {},
     "output_type": "display_data"
    },
    {
     "data": {
      "text/plain": [
       "<function __main__.video_selector(file_path: List[pathlib.Path])>"
      ]
     },
     "execution_count": 47,
     "metadata": {},
     "output_type": "execute_result"
    }
   ],
   "source": [
    "VIDEO_PREFIX_EX2_DQN_NAIVE_TRAINED = \"lab6_ex2_dqn_naive_tained\"\n",
    "\n",
    "NUM_EPISODES = 3\n",
    "\n",
    "file_path_list = [\n",
    "    FIGS_DIR / f\"{VIDEO_PREFIX_EX2_DQN_NAIVE_TRAINED}-episode-{episode_index}.mp4\"\n",
    "    for episode_index in range(NUM_EPISODES)\n",
    "]\n",
    "\n",
    "for file_path in file_path_list:\n",
    "    file_path.unlink(missing_ok=True)\n",
    "\n",
    "env = gym.make(\"CartPole-v1\", render_mode=\"rgb_array\")\n",
    "env = gym.wrappers.RecordVideo(\n",
    "    env,\n",
    "    video_folder=str(FIGS_DIR),\n",
    "    name_prefix=VIDEO_PREFIX_EX2_DQN_NAIVE_TRAINED,\n",
    "    episode_trigger=lambda x: True,\n",
    ")\n",
    "env = gym.wrappers.RecordEpisodeStatistics(env, buffer_length=NUM_EPISODES)\n",
    "\n",
    "test_q_network_agent(env, q_network, num_episode=NUM_EPISODES)\n",
    "\n",
    "# print(f'Episode time taken: {env.time_queue}')\n",
    "# print(f'Episode total rewards: {env.return_queue}')\n",
    "# print(f'Episode lengths: {env.length_queue}')\n",
    "\n",
    "env.close()\n",
    "\n",
    "print(\"\\nSelect the episode to play here 👇\\n\")\n",
    "\n",
    "interact(video_selector, file_path=file_path_list)"
   ]
  },
  {
   "cell_type": "markdown",
   "metadata": {},
   "source": [
    "#### Why It Doesn't Work: The Complexity of Deep Reinforcement Learning\n",
    "\n",
    "Our initial deep value-based agent did not converge, primarily due to the three fundamental challenges of value-based deep reinforcement learning:\n",
    "\n",
    "1. **Coverage**: Convergence to the optimal Q-function relies on comprehensive coverage of the state space. However, in the context of deep RL, the state space is often too large to be fully covered. In situations where not all states are sampled due to their vast number, the guarantee of convergence no longer holds.\n",
    "\n",
    "2. **Correlation**: The probability of transitioning to the next state is highly influenced by the current state. This strong correlation can lead to local overfitting and the risk of becoming trapped in a local optimum: the neural network, which approximates the Q-function, may become overly specialized in a small portion of the action-state space and neglect the rest.\n",
    "\n",
    "3. **Convergence**: The \"targets\" used as the truth to be achieved \"move\" during the learning process. For the same prediction (estimation of the value of a state-action pair, i.e., its Q-value), the loss of a given example changes during the learning process (due to *bootstrapping* a main concept of TD-Learning). In other words, DQN tries to minimize a moving target, a target that depends on the model we are learning and optimizing. This can lead to instability and make it difficult for the learning process to converge to an optimal policy.\n",
    "\n",
    "In the following sections, we will explore strategies to address these challenges and improve the performance of our deep reinforcement learning agent."
   ]
  },
  {
   "cell_type": "markdown",
   "metadata": {},
   "source": [
    "### Exercise 3: Implement Deep Q-Networks v1 (DQN version 2013 with experience replay)"
   ]
  },
  {
   "cell_type": "markdown",
   "metadata": {},
   "source": [
    "In 2013, DeepMind made a significant contribution to the field of reinforcement learning with the publication of the paper \"Playing Atari with Deep Reinforcement Learning\" by Volodymyr Mnih and al (https://arxiv.org/abs/1312.5602). This paper marked the introduction of the first version of Deep Q-Networks (DQN).\n",
    "\n",
    "The paper's primary innovation was the development of a technique to decorrelate states in reinforcement learning. This technique, known as *experience replay*, leverages a *replay buffer* to store and sample experiences. The introduction of experience replay greatly enhanced the stability and efficiency of the learning process."
   ]
  },
  {
   "cell_type": "markdown",
   "metadata": {},
   "source": [
    "#### Experience replay\n",
    "\n",
    "Experience replay is a key technique used in Deep Q-Networks (DQN) to address the issues of correlation.\n",
    "\n",
    "In a typical reinforcement learning setup, an agent learns by interacting with the environment, receiving feedback in the form of rewards, and updating its policy based on this feedback. This process is inherently sequential and the successive states are highly correlated, which can lead to overfitting and instability in learning.\n",
    "\n",
    "Experience replay addresses these issues by storing the agent's experiences, i.e., the tuples of (state, action, reward, next state), in a data structure known as a replay buffer. During the learning process, instead of learning from the most recent experience, the agent randomly samples a batch of experiences from the replay buffer. This random sampling breaks the correlation between successive experiences, leading to more stable and robust learning.\n",
    "\n",
    "Also, by learning from past experiences, the agent can effectively learn from a fixed target, which mitigates the issue of learning from a moving target. This is because the experiences in the replay buffer remain fixed once they are stored, even though the agent's policy continues to evolve."
   ]
  },
  {
   "cell_type": "markdown",
   "metadata": {},
   "source": [
    "#### DQN v2013 Algorithm"
   ]
  },
  {
   "cell_type": "markdown",
   "metadata": {},
   "source": [
    "Note: main differences with the previous algorithm are highlighted in red."
   ]
  },
  {
   "cell_type": "markdown",
   "metadata": {},
   "source": [
    "<b>Input</b>:<br>\n",
    "\t$\\quad\\quad$ none<br>\n",
    "<b>Algorithm parameter</b>:<br>\n",
    "\t$\\quad\\quad$ discount factor $\\gamma$<br>\n",
    "\t$\\quad\\quad$ step size $\\alpha \\in (0,1]$<br>\n",
    "\t$\\quad\\quad$ small $\\epsilon > 0$<br>\n",
    "\t$\\quad\\quad$ capacity of the experience replay memory $\\color{red}{M}$<br>\n",
    "\t$\\quad\\quad$ batch size $\\color{red}{m}$<br><br>\n",
    "\n",
    "<b>Initialize</b> replay memory $\\color{red}{\\mathcal{D}}$ to capacity $M$<br>\n",
    "<b>Initialize</b> action-value function $\\hat{Q}$ with random weights $\\mathbf{\\omega}$<br><br>\n",
    "\n",
    "<b>FOR EACH</b> episode<br>\n",
    "\t$\\quad$ $\\mathbf{s} \\leftarrow \\text{env.reset}()$<br>\n",
    "\t$\\quad$ <b>DO</b> <br>\n",
    "\t\t$\\quad\\quad$ $\\mathbf{a} \\leftarrow \\epsilon\\text{-greedy}(\\mathbf{s}, \\hat{Q}_{\\mathbf{\\omega}})$<br>\n",
    "\t\t$\\quad\\quad$ $r, \\mathbf{s'} \\leftarrow \\text{env.step}(\\mathbf{a})$<br>\n",
    "\t\t$\\quad\\quad$ $\\color{red}{\\text{Store transition } (\\mathbf{s}, \\mathbf{a}, r, \\mathbf{s'}) \\text{ in } \\mathcal{D}}$<br>\n",
    "\t\t$\\quad\\quad$ $\\color{red}{\\text{IF } \\mathcal{D} \\text{ contains \"enough\" transitions}}$<br>\n",
    "\t\t\t$\\quad\\quad\\quad$ $\\color{red}{\\text{Sample random batch of transitions } (\\mathbf{s}_j, \\mathbf{a}_j, r_j, \\mathbf{s'}_j) \\text{ from } \\mathcal{D} \\text{ with } j=1 \\text{ to } m}$<br>\n",
    "\t\t\t$\\quad\\quad\\quad$ $\\color{red}{\\text{For each } j}$, set $y_j \\leftarrow\n",
    "\t\t\t\\begin{cases}\n",
    "\t\t\tr_j & \\text{for terminal } \\mathbf{s'}_j\\\\\n",
    "\t\t\tr_j + \\gamma \\max_{\\mathbf{a}^\\star} \\hat{Q}_{\\mathbf{\\omega}}(\\mathbf{s'}_j)_{\\mathbf{a}^\\star} & \\text{for non-terminal } \\mathbf{s'}_j\n",
    "\t\t\t\\end{cases}$<br>\n",
    "\t\t\t$\\quad\\quad\\quad$ Perform a gradient descent step on $\\left( y_j - \\hat{Q}_{\\mathbf{\\omega}}(\\mathbf{s}_j)_{\\mathbf{a}_j} \\right)^2$ with respect to the weights $\\mathbf{\\omega}$<br>\n",
    "\t\t$\\quad\\quad$ $\\mathbf{s} \\leftarrow \\mathbf{s'}$ <br>\n",
    "\t$\\quad$ <b>UNTIL</b> $\\mathbf{s}$ is final<br><br>\n",
    "<b>RETURN</b> $\\mathbf{\\omega}$ <br>\n"
   ]
  },
  {
   "cell_type": "markdown",
   "metadata": {
    "lines_to_next_cell": 2
   },
   "source": [
    "#### Implement the Replay Buffer\n",
    "\n",
    "To incorporate experience replay into the provided naive deep value-based reinforcement learning agent definition, we need to introduce a memory buffer where experiences are stored, and then update the algorithm to sample a random batch of experiences from this buffer to update the weights."
   ]
  },
  {
   "cell_type": "code",
   "execution_count": null,
   "metadata": {
    "lines_to_next_cell": 2
   },
   "outputs": [],
   "source": [
    "class ReplayBuffer:\n",
    "    \"\"\"\n",
    "    A Replay Buffer.\n",
    "\n",
    "    Attributes\n",
    "    ----------\n",
    "    buffer : collections.deque\n",
    "        A double-ended queue where the transitions are stored.\n",
    "\n",
    "    Methods\n",
    "    -------\n",
    "    add(state: np.ndarray, action: np.int64, reward: float, next_state: np.ndarray, done: bool)\n",
    "        Add a new transition to the buffer.\n",
    "    sample(batch_size: int) -> Tuple[np.ndarray, float, float, np.ndarray, bool]\n",
    "        Sample a batch of transitions from the buffer.\n",
    "    __len__()\n",
    "        Return the current size of the buffer.\n",
    "    \"\"\"\n",
    "\n",
    "    def __init__(self, capacity: int):\n",
    "        \"\"\"\n",
    "        Initializes a ReplayBuffer instance.\n",
    "\n",
    "        Parameters\n",
    "        ----------\n",
    "        capacity : int\n",
    "            The maximum number of transitions that can be stored in the buffer.\n",
    "        \"\"\"\n",
    "        self.buffer: collections.deque = collections.deque(maxlen=capacity)\n",
    "\n",
    "    def add(\n",
    "        self,\n",
    "        state: np.ndarray,\n",
    "        action: np.int64,\n",
    "        reward: float,\n",
    "        next_state: np.ndarray,\n",
    "        done: bool,\n",
    "    ):\n",
    "        \"\"\"\n",
    "        Add a new transition to the buffer.\n",
    "\n",
    "        Parameters\n",
    "        ----------\n",
    "        state : np.ndarray\n",
    "            The state vector of the added transition.\n",
    "        action : np.int64\n",
    "            The action of the added transition.\n",
    "        reward : float\n",
    "            The reward of the added transition.\n",
    "        next_state : np.ndarray\n",
    "            The next state vector of the added transition.\n",
    "        done : bool\n",
    "            The final state of the added transition.\n",
    "        \"\"\"\n",
    "        self.buffer.append((state, action, reward, next_state, done))\n",
    "\n",
    "    def sample(\n",
    "        self, batch_size: int\n",
    "    ) -> Tuple[np.ndarray, Tuple[int], Tuple[float], np.ndarray, Tuple[bool]]:\n",
    "        \"\"\"\n",
    "        Sample a batch of transitions from the buffer.\n",
    "\n",
    "        Parameters\n",
    "        ----------\n",
    "        batch_size : int\n",
    "            The number of transitions to sample.\n",
    "\n",
    "        Returns\n",
    "        -------\n",
    "        Tuple[np.ndarray, float, float, np.ndarray, bool]\n",
    "            A batch of `batch_size` transitions.\n",
    "        \"\"\"\n",
    "        # Here, `random.sample(self.buffer, batch_size)`\n",
    "        # returns a list of tuples `(state, action, reward, next_state, done)`\n",
    "        # where:\n",
    "        # - `state`  and `next_state` are numpy arrays\n",
    "        # - `action` and `reward` are floats\n",
    "        # - `done` is a boolean\n",
    "        #\n",
    "        # `states, actions, rewards, next_states, dones = zip(*random.sample(self.buffer, batch_size))`\n",
    "        # generates 5 tuples `state`, `action`, `reward`, `next_state` and `done`, each having `batch_size` elements.\n",
    "        states, actions, rewards, next_states, dones = zip(*random.sample(self.buffer, batch_size))\n",
    "        return np.array(states), actions, rewards, np.array(next_states), dones\n",
    "\n",
    "    def __len__(self):\n",
    "        \"\"\"\n",
    "        Return the current size of the buffer.\n",
    "\n",
    "        Returns\n",
    "        -------\n",
    "        int\n",
    "            The current size of the buffer.\n",
    "        \"\"\"\n",
    "        return len(self.buffer)"
   ]
  },
  {
   "cell_type": "markdown",
   "metadata": {
    "lines_to_next_cell": 2
   },
   "source": [
    "#### Implement the training function\n",
    "\n",
    "The training function of our initial deep value-based agent needs to be modified to incorporate the use of the replay buffer effectively.\n",
    "\n",
    "1. **Store Experiences**: After the agent takes an action and receives a reward and the next state from the environment, store this experience in the replay buffer.\n",
    "\n",
    "2. **Sample Experiences**: Instead of using the most recent experience to update the agent's policy, randomly sample a batch of experiences from the replay buffer.\n",
    "\n",
    "3. **Compute Loss and Update Weights**: Use the sampled experiences to compute the loss and update the weights of the Q-Network.\n",
    "\n",
    "4. **Handle Terminal States**: If the 'done' flag of an experience is True, indicating a terminal state, make sure to adjust the target Q-value to be just the received reward. This is because there are no future rewards possible after a terminal state."
   ]
  },
  {
   "cell_type": "markdown",
   "metadata": {},
   "source": [
    "##### Parctical tips\n",
    "\n",
    "A key practical difference from the previous exercise is that we now train the Q-network on a (mini)batch of transitions rather than a single transition.  \n",
    "\n",
    "To extract $\\hat{Q}_{\\mathbf{\\omega}}(\\mathbf{s}_j)_{\\mathbf{a}_j}$ from the `q_network` output, it is essential to understand the following PyTorch concept:  \n",
    "\n",
    "- **[torch.gather](https://pytorch.org/docs/stable/generated/torch.gather.html) (or [torch.Tensor.gather](https://pytorch.org/docs/stable/generated/torch.Tensor.gather.html))**: This function retrieves values along a specified axis using an index tensor, making it particularly useful for selecting Q-values corresponding to chosen actions."
   ]
  },
  {
   "cell_type": "markdown",
   "metadata": {},
   "source": [
    "**Task 3.1:** complete the `train_dqn1_agent` to use the replay buffer."
   ]
  },
  {
   "cell_type": "code",
   "execution_count": null,
   "metadata": {},
   "outputs": [],
   "source": [
    "def train_dqn1_agent(\n",
    "    env: gym.Env,\n",
    "    q_network: torch.nn.Module,\n",
    "    optimizer: torch.optim.Optimizer,\n",
    "    loss_fn: Callable,\n",
    "    epsilon_greedy: EpsilonGreedy,\n",
    "    device: torch.device,\n",
    "    lr_scheduler: torch.optim.lr_scheduler.LRScheduler,\n",
    "    num_episodes: int,\n",
    "    gamma: float,\n",
    "    batch_size: int,\n",
    "    replay_buffer: ReplayBuffer,\n",
    ") -> List[float]:\n",
    "    \"\"\"\n",
    "    Train the Q-network on the given environment.\n",
    "\n",
    "    Parameters\n",
    "    ----------\n",
    "    env : gym.Env\n",
    "        The environment to train on.\n",
    "    q_network : torch.nn.Module\n",
    "        The Q-network to train.\n",
    "    optimizer : torch.optim.Optimizer\n",
    "        The optimizer to use for training.\n",
    "    loss_fn : callable\n",
    "        The loss function to use for training.\n",
    "    epsilon_greedy : EpsilonGreedy\n",
    "        The epsilon-greedy policy to use for action selection.\n",
    "    device : torch.device\n",
    "        The device to use for PyTorch computations.\n",
    "    lr_scheduler : torch.optim.lr_scheduler.LRScheduler\n",
    "        The learning rate scheduler to adjust the learning rate during training.\n",
    "    num_episodes : int\n",
    "        The number of episodes to train for.\n",
    "    gamma : float\n",
    "        The discount factor for future rewards.\n",
    "    batch_size : int\n",
    "        The size of the batch to use for training.\n",
    "    replay_buffer : ReplayBuffer\n",
    "        The replay buffer storing the experiences with their priorities.\n",
    "\n",
    "    Returns\n",
    "    -------\n",
    "    List[float]\n",
    "        A list of cumulated rewards per episode.\n",
    "    \"\"\"\n",
    "    episode_reward_list = []\n",
    "\n",
    "    for episode_index in tqdm(range(1, num_episodes)):\n",
    "        state, info = env.reset()\n",
    "        episode_reward = 0.0\n",
    "\n",
    "        for t in itertools.count():\n",
    "            # Get action, next_state and reward\n",
    "\n",
    "            action = epsilon_greedy(state)\n",
    "\n",
    "            next_state, reward, terminated, truncated, info = env.step(action)\n",
    "            done = terminated or truncated\n",
    "\n",
    "            replay_buffer.add(state, action, float(reward), next_state, done)\n",
    "\n",
    "            episode_reward += float(reward)\n",
    "\n",
    "            # Update the q_network weights with a batch of experiences from the buffer\n",
    "\n",
    "            if len(replay_buffer) > batch_size:\n",
    "                batch_states, batch_actions, batch_rewards, batch_next_states, batch_dones = replay_buffer.sample(batch_size)\n",
    "\n",
    "                # Convert to PyTorch tensors\n",
    "                batch_states_tensor = torch.tensor(batch_states, dtype=torch.float32, device=device)\n",
    "                batch_actions_tensor = torch.tensor(batch_actions, dtype=torch.long, device=device)\n",
    "                batch_rewards_tensor = torch.tensor(batch_rewards, dtype=torch.float32, device=device)\n",
    "                batch_next_states_tensor = torch.tensor(batch_next_states, dtype=torch.float32, device=device)\n",
    "                batch_dones_tensor = torch.tensor(batch_dones, dtype=torch.float32, device=device)\n",
    "\n",
    "                # Compute the target Q values for the batch\n",
    "                with torch.no_grad():\n",
    "                    # next_state_q_values, best_action_index = TODO... # Compute the maximum Q-values for the next states\n",
    "\n",
    "                    # targets = TODO... # Compute the target Q-values for the batch\n",
    "\n",
    "                # current_q_values = TODO... # Compute the Q-values for the current states\n",
    "\n",
    "                # loss = TODO... # Compute the loss\n",
    "\n",
    "                # Optimize the model\n",
    "                optimizer.zero_grad()\n",
    "                loss.backward()\n",
    "                optimizer.step()\n",
    "\n",
    "                lr_scheduler.step()\n",
    "\n",
    "            if done:\n",
    "                break\n",
    "\n",
    "            state = next_state\n",
    "\n",
    "        episode_reward_list.append(episode_reward)\n",
    "        epsilon_greedy.decay_epsilon()\n",
    "\n",
    "    return episode_reward_list"
   ]
  },
  {
   "cell_type": "markdown",
   "metadata": {},
   "source": [
    "#### Train it"
   ]
  },
  {
   "cell_type": "code",
   "execution_count": null,
   "metadata": {},
   "outputs": [],
   "source": [
    "env = gym.make(\"CartPole-v1\")\n",
    "\n",
    "NUMBER_OF_TRAININGS = DEFAULT_NUMBER_OF_TRAININGS  # Change the default (global) value here if you want a specific number of trainings for this exercise\n",
    "dqn1_trains_result_list: List[List[Union[int, float]]] = [[], [], []]\n",
    "\n",
    "for train_index in range(NUMBER_OF_TRAININGS):\n",
    "    # Instantiate required objects\n",
    "    \n",
    "    q_network = QNetwork(cartpole_observation_dim, cartpole_num_actions, nn_l1=128, nn_l2=128).to(device)\n",
    "    optimizer = torch.optim.AdamW(q_network.parameters(), lr=0.004, amsgrad=True)\n",
    "    # lr_scheduler = torch.optim.lr_scheduler.ExponentialLR(optimizer, gamma=0.999)\n",
    "    lr_scheduler = MinimumExponentialLR(optimizer, lr_decay=0.97, min_lr=0.0001)\n",
    "    loss_fn = torch.nn.MSELoss()\n",
    "\n",
    "    epsilon_greedy = EpsilonGreedy(\n",
    "        epsilon_start=0.82,\n",
    "        epsilon_min=0.013,\n",
    "        epsilon_decay=0.9675,\n",
    "        env=env,\n",
    "        q_network=q_network,\n",
    "    )\n",
    "\n",
    "    replay_buffer = ReplayBuffer(2000)\n",
    "\n",
    "    # Train the q-network\n",
    "\n",
    "    episode_reward_list = train_dqn1_agent(\n",
    "        env,\n",
    "        q_network,\n",
    "        optimizer,\n",
    "        loss_fn,\n",
    "        epsilon_greedy,\n",
    "        device,\n",
    "        lr_scheduler,\n",
    "        num_episodes=150,\n",
    "        gamma=0.9,\n",
    "        batch_size=128,\n",
    "        replay_buffer=replay_buffer,\n",
    "    )\n",
    "    dqn1_trains_result_list[0].extend(range(len(episode_reward_list)))\n",
    "    dqn1_trains_result_list[1].extend(episode_reward_list)\n",
    "    dqn1_trains_result_list[2].extend([train_index for _ in episode_reward_list])\n",
    "\n",
    "dqn1_trains_result_df = pd.DataFrame(\n",
    "    np.array(dqn1_trains_result_list).T,\n",
    "    columns=[\"num_episodes\", \"mean_final_episode_reward\", \"training_index\"],\n",
    ")\n",
    "dqn1_trains_result_df[\"agent\"] = \"DQN 2013\"\n",
    "\n",
    "# Save the action-value estimation function\n",
    "\n",
    "torch.save(q_network, MODELS_DIR / \"lab6_dqn1_q_network.pth\")\n",
    "\n",
    "env.close()"
   ]
  },
  {
   "cell_type": "markdown",
   "metadata": {},
   "source": [
    "#### Plot results"
   ]
  },
  {
   "cell_type": "code",
   "execution_count": null,
   "metadata": {
    "lines_to_next_cell": 0
   },
   "outputs": [],
   "source": [
    "g = sns.relplot(\n",
    "    x=\"num_episodes\",\n",
    "    y=\"mean_final_episode_reward\",\n",
    "    kind=\"line\",\n",
    "    hue=\"agent\",\n",
    "    estimator=None,\n",
    "    units=\"training_index\",\n",
    "    data=dqn1_trains_result_df,\n",
    "    height=7,\n",
    "    aspect=2,\n",
    "    alpha=0.5,\n",
    ")\n",
    "plt.savefig(PLOTS_DIR / \"lab6_dqn1_trains_result.png\")"
   ]
  },
  {
   "cell_type": "code",
   "execution_count": null,
   "metadata": {},
   "outputs": [],
   "source": [
    "# g = sns.relplot(x=\"num_episodes\", y=\"mean_final_episode_reward\", kind=\"line\", hue=\"agent\", data=dqn1_trains_result_df, height=7, aspect=2)"
   ]
  },
  {
   "cell_type": "code",
   "execution_count": null,
   "metadata": {
    "lines_to_next_cell": 0
   },
   "outputs": [],
   "source": [
    "all_trains_result_df = pd.concat([naive_trains_result_df, dqn1_trains_result_df])\n",
    "g = sns.relplot(\n",
    "    x=\"num_episodes\",\n",
    "    y=\"mean_final_episode_reward\",\n",
    "    kind=\"line\",\n",
    "    hue=\"agent\",\n",
    "    data=all_trains_result_df,\n",
    "    height=7,\n",
    "    aspect=2,\n",
    ")\n",
    "plt.savefig(PLOTS_DIR / \"lab6_dqn1_trains_result_agg.png\")"
   ]
  },
  {
   "cell_type": "markdown",
   "metadata": {},
   "source": [
    "#### Test it"
   ]
  },
  {
   "cell_type": "code",
   "execution_count": null,
   "metadata": {},
   "outputs": [],
   "source": [
    "VIDEO_PREFIX_EX3_DQN1_TRAINED = \"lab6_ex3_dqn1_tained\"\n",
    "\n",
    "NUM_EPISODES = 3\n",
    "\n",
    "file_path_list = [\n",
    "    FIGS_DIR / f\"{VIDEO_PREFIX_EX3_DQN1_TRAINED}-episode-{episode_index}.mp4\"\n",
    "    for episode_index in range(NUM_EPISODES)\n",
    "]\n",
    "\n",
    "for file_path in file_path_list:\n",
    "    file_path.unlink(missing_ok=True)\n",
    "\n",
    "env = gym.make(\"CartPole-v1\", render_mode=\"rgb_array\")\n",
    "env = gym.wrappers.RecordVideo(\n",
    "    env,\n",
    "    video_folder=str(FIGS_DIR),\n",
    "    name_prefix=VIDEO_PREFIX_EX3_DQN1_TRAINED,\n",
    "    episode_trigger=lambda x: True,\n",
    ")\n",
    "env = gym.wrappers.RecordEpisodeStatistics(env, buffer_length=NUM_EPISODES)\n",
    "\n",
    "test_q_network_agent(env, q_network, num_episode=NUM_EPISODES)\n",
    "\n",
    "# print(f'Episode time taken: {env.time_queue}')\n",
    "# print(f'Episode total rewards: {env.return_queue}')\n",
    "# print(f'Episode lengths: {env.length_queue}')\n",
    "\n",
    "env.close()\n",
    "\n",
    "print(\"\\nSelect the episode to play here 👇\\n\")\n",
    "\n",
    "interact(video_selector, file_path=file_path_list)"
   ]
  },
  {
   "cell_type": "markdown",
   "metadata": {},
   "source": [
    "#### Score"
   ]
  },
  {
   "cell_type": "code",
   "execution_count": null,
   "metadata": {
    "lines_to_next_cell": 2
   },
   "outputs": [],
   "source": [
    "score_ex3 = dqn1_trains_result_df[[\"num_episodes\", \"mean_final_episode_reward\"]].groupby(\"num_episodes\").mean().max()\n",
    "score_ex3"
   ]
  },
  {
   "cell_type": "markdown",
   "metadata": {},
   "source": [
    "### Exercise 4: Implement Deep Q-Networks v2 (DQN version 2015) with *infrequent weight updates*\n",
    "\n",
    "In 2015, DeepMind further advanced the field of reinforcement learning with the publication of the paper \"Human-level control through deep reinforcement learning\" by Volodymyr Mnih and colleagues (https://www.nature.com/articles/nature14236). This work introduced the second version of Deep Q-Networks (DQN).\n",
    "\n",
    "<img src=\"https://raw.githubusercontent.com/jeremiedecock/polytechnique-csc-52081-ep-2025-students/main/assets/lab6_dqn_nature_journal.jpg\" width=\"200px\" />\n",
    "\n",
    "The key contribution of this paper was the introduction of a method to stabilize the learning process by infrequently updating the target weights. This technique, known as *infrequent updates of target weights*, significantly improved the stability of the learning process."
   ]
  },
  {
   "cell_type": "markdown",
   "metadata": {},
   "source": [
    "#### Infrequent weight updates\n",
    "\n",
    "Infrequent weight updates, also known as the use of a target network, is a technique used in Deep Q-Networks (DQN) to address the issue of learning from a moving target.\n",
    "\n",
    "In a typical DQN setup, there are two neural networks: the Q-network and the target network. The Q-network is used to predict the Q-values and is updated at every time step. The target network is used to compute the target Q-values for the update, and its weights are updated less frequently, typically every few thousand steps, by copying the weights from the Q-network.\n",
    "\n",
    "The idea behind infrequent weight updates is to stabilize the learning process by keeping the target Q-values fixed for a number of steps. This mitigates the issue of learning from a moving target, as the target Q-values remain fixed between updates.\n",
    "\n",
    "Without infrequent weight updates, both the predicted and target Q-values would change at every step, which could lead to oscillations and divergence in the learning process. By introducing a delay between updates of the target Q-values, the risk of such oscillations is reduced."
   ]
  },
  {
   "cell_type": "markdown",
   "metadata": {},
   "source": [
    "#### DQN v2015 Algorithm"
   ]
  },
  {
   "cell_type": "markdown",
   "metadata": {},
   "source": [
    "Note: main differences with the previous algorithm are highlighted in red."
   ]
  },
  {
   "cell_type": "markdown",
   "metadata": {},
   "source": [
    "<b>Input</b>:<br>\n",
    "\t$\\quad\\quad$ none<br>\n",
    "<b>Algorithm parameter</b>:<br>\n",
    "\t$\\quad\\quad$ discount factor $\\gamma$<br>\n",
    "\t$\\quad\\quad$ step size $\\alpha \\in (0,1]$<br>\n",
    "\t$\\quad\\quad$ small $\\epsilon > 0$<br>\n",
    "\t$\\quad\\quad$ capacity of the experience replay memory $M$<br>\n",
    "\t$\\quad\\quad$ batch size $m$<br>\n",
    "\t$\\quad\\quad$ target network update frequency $\\color{red}{\\tau}$<br><br>\n",
    "\n",
    "<b>Initialize</b> replay memory $\\mathcal{D}$ to capacity $M$<br>\n",
    "<b>Initialize</b> action-value function $\\hat{Q}_{\\mathbf{\\omega_1}}$ with random weights $\\mathbf{\\omega_1}$<br>\n",
    "<b>Initialize</b> target action-value function $\\hat{Q}_{\\mathbf{\\omega_2}}$ with weights $\\color{red}{\\mathbf{\\omega_2} = \\mathbf{\\omega_1}}$<br><br>\n",
    "\n",
    "<b>FOR EACH</b> episode<br>\n",
    "\t$\\quad$ $\\mathbf{s} \\leftarrow \\text{env.reset}()$<br>\n",
    "\t$\\quad$ <b>DO</b> <br>\n",
    "\t\t$\\quad\\quad$ $\\mathbf{a} \\leftarrow \\epsilon\\text{-greedy}(\\mathbf{s}, \\hat{Q}_{\\mathbf{\\omega_1}})$<br>\n",
    "\t\t$\\quad\\quad$ $r, \\mathbf{s'} \\leftarrow \\text{env.step}(\\mathbf{a})$<br>\n",
    "\t\t$\\quad\\quad$ Store transition $(\\mathbf{s}, \\mathbf{a}, r, \\mathbf{s'})$ in $\\mathcal{D}$<br>\n",
    "\t\t$\\quad\\quad$ If $\\mathcal{D}$ contains \"enough\" transitions<br>\n",
    "\t\t\t$\\quad\\quad\\quad$ Sample random batch of transitions $(\\mathbf{s}_j, \\mathbf{a}_j, r_j, \\mathbf{s'}_j)$ from $\\mathcal{D}$ with $j=1$ to $m$<br>\n",
    "\t\t\t$\\quad\\quad\\quad$ For each $j$, set $y_j =\n",
    "\t\t\t\\begin{cases}\n",
    "\t\t\tr_j & \\text{for terminal } \\mathbf{s'}_j\\\\\n",
    "\t\t\tr_j + \\gamma \\max_{\\mathbf{a}^\\star} \\hat{Q}_{\\mathbf{\\omega_{\\color{red}{2}}}} (\\mathbf{s'}_j)_{\\mathbf{a}^\\star} & \\text{for non-terminal } \\mathbf{s'}_j\n",
    "\t\t\t\\end{cases}$<br>\n",
    "\t\t\t$\\quad\\quad\\quad$ Perform a gradient descent step on $\\left( y_j - \\hat{Q}_{\\mathbf{\\omega_1}}(\\mathbf{s}_j)_{\\mathbf{a}_j} \\right)^2$ with respect to the weights $\\mathbf{\\omega_1}$<br>\n",
    "\t\t\t$\\quad\\quad\\quad$ Every $\\color{red}{\\tau}$ steps reset $\\hat{Q}_{\\mathbf{\\omega_2}}$ to $\\hat{Q}_{\\mathbf{\\omega_1}}$, i.e., set $\\color{red}{\\mathbf{\\omega_2} \\leftarrow \\mathbf{\\omega_1}}$<br>\n",
    "\t\t$\\quad\\quad$ $\\mathbf{s} \\leftarrow \\mathbf{s'}$ <br>\n",
    "\t$\\quad$ <b>UNTIL</b> $\\mathbf{s}$ is final<br><br>\n",
    "<b>RETURN</b> $\\mathbf{\\omega_1}$ <br>\n"
   ]
  },
  {
   "cell_type": "markdown",
   "metadata": {
    "lines_to_next_cell": 2
   },
   "source": [
    "#### Implement the training function\n",
    "\n",
    "To incorporate the use of infrequent weight updates in the training function, you would need to make the following modifications:\n",
    "\n",
    "1. **Update the Target Network Infrequently**: Instead of updating the weights of the target network at every time step, update them less frequently, for example, every few thousand steps. The weights of the target network are updated by copying the weights from the Q-network.\n",
    "\n",
    "2. **Compute Target Q-values with the Target Network**: When computing the target Q-values for the update, use the target network instead of the Q-network. This ensures that the target Q-values remain fixed between updates, which stabilizes the learning process."
   ]
  },
  {
   "cell_type": "markdown",
   "metadata": {},
   "source": [
    "##### Parctical tips\n",
    "\n",
    "To complete this exercise, you need to be familiar with the following PyTorch concepts.\n",
    "\n",
    "**Copying the weights and biases from one neural network to another**\n",
    "\n",
    "To transfer the parameters from `model1` to `model2`, use the following command:\n",
    "\n",
    "```python\n",
    "model2.load_state_dict(model1.state_dict())\n",
    "```"
   ]
  },
  {
   "cell_type": "markdown",
   "metadata": {},
   "source": [
    "**Task 4.1:** complete the `train_dqn2_agent` to apply infrequent weight updates."
   ]
  },
  {
   "cell_type": "code",
   "execution_count": null,
   "metadata": {},
   "outputs": [],
   "source": [
    "def train_dqn2_agent(\n",
    "    env: gym.Env,\n",
    "    q_network: torch.nn.Module,\n",
    "    target_q_network: torch.nn.Module,\n",
    "    optimizer: torch.optim.Optimizer,\n",
    "    loss_fn: Callable,\n",
    "    epsilon_greedy: EpsilonGreedy,\n",
    "    device: torch.device,\n",
    "    lr_scheduler: torch.optim.lr_scheduler.LRScheduler,\n",
    "    num_episodes: int,\n",
    "    gamma: float,\n",
    "    batch_size: int,\n",
    "    replay_buffer: ReplayBuffer,\n",
    "    target_q_network_sync_period: int,\n",
    ") -> List[float]:\n",
    "    \"\"\"\n",
    "    Train the Q-network on the given environment.\n",
    "\n",
    "    Parameters\n",
    "    ----------\n",
    "    env : gym.Env\n",
    "        The environment to train on.\n",
    "    q_network : torch.nn.Module\n",
    "        The Q-network to train.\n",
    "    target_q_network : torch.nn.Module\n",
    "        The target Q-network to use for estimating the target Q-values.\n",
    "    optimizer : torch.optim.Optimizer\n",
    "        The optimizer to use for training.\n",
    "    loss_fn : callable\n",
    "        The loss function to use for training.\n",
    "    epsilon_greedy : EpsilonGreedy\n",
    "        The epsilon-greedy policy to use for action selection.\n",
    "    device : torch.device\n",
    "        The device to use for PyTorch computations.\n",
    "    lr_scheduler : torch.optim.lr_scheduler.LRScheduler\n",
    "        The learning rate scheduler to adjust the learning rate during training.\n",
    "    num_episodes : int\n",
    "        The number of episodes to train for.\n",
    "    gamma : float\n",
    "        The discount factor for future rewards.\n",
    "    batch_size : int\n",
    "        The size of the batch to use for training.\n",
    "    replay_buffer : ReplayBuffer\n",
    "        The replay buffer storing the experiences with their priorities.\n",
    "    target_q_network_sync_period : int\n",
    "        The number of episodes after which the target Q-network should be updated with the weights of the Q-network.\n",
    "\n",
    "    Returns\n",
    "    -------\n",
    "    List[float]\n",
    "        A list of cumulated rewards per episode.\n",
    "    \"\"\"\n",
    "    iteration = 0\n",
    "    episode_reward_list = []\n",
    "\n",
    "    for episode_index in tqdm(range(1, num_episodes)):\n",
    "        state, info = env.reset()\n",
    "        episode_reward = 0.0\n",
    "\n",
    "        for t in itertools.count():\n",
    "            # Get action, next_state and reward\n",
    "\n",
    "            action = epsilon_greedy(state)\n",
    "\n",
    "            next_state, reward, terminated, truncated, info = env.step(action)\n",
    "            done = terminated or truncated\n",
    "\n",
    "            replay_buffer.add(state, action, float(reward), next_state, done)\n",
    "\n",
    "            episode_reward += float(reward)\n",
    "\n",
    "            # Update the q_network weights with a batch of experiences from the buffer\n",
    "\n",
    "            if len(replay_buffer) > batch_size:\n",
    "                batch_states, batch_actions, batch_rewards, batch_next_states, batch_dones = replay_buffer.sample(batch_size)\n",
    "\n",
    "                # Convert to PyTorch tensors\n",
    "                batch_states_tensor = torch.tensor(batch_states, dtype=torch.float32, device=device)\n",
    "                batch_actions_tensor = torch.tensor(batch_actions, dtype=torch.long, device=device)\n",
    "                batch_rewards_tensor = torch.tensor(batch_rewards, dtype=torch.float32, device=device)\n",
    "                batch_next_states_tensor = torch.tensor(batch_next_states, dtype=torch.float32, device=device)\n",
    "                batch_dones_tensor = torch.tensor(batch_dones, dtype=torch.float32, device=device)\n",
    "\n",
    "                # Compute the target Q values for the batch\n",
    "                with torch.no_grad():\n",
    "                    # next_state_q_values, best_action_index = TODO...\n",
    "                    \n",
    "                    # targets = TODO...\n",
    "\n",
    "                # current_q_values = TODO...\n",
    "\n",
    "                # Compute loss\n",
    "                loss = loss_fn(current_q_values, targets)\n",
    "\n",
    "                # Optimize the model\n",
    "                optimizer.zero_grad()\n",
    "                loss.backward()\n",
    "                optimizer.step()\n",
    "\n",
    "                lr_scheduler.step()\n",
    "\n",
    "            # Update the target q-network weights\n",
    "\n",
    "            # TODO:...  # Every episodes (e.g., every `target_q_network_sync_period` episodes), the weights of the target network are updated with the weights of the Q-network\n",
    "\n",
    "            iteration += 1\n",
    "\n",
    "            if done:\n",
    "                break\n",
    "\n",
    "            state = next_state\n",
    "\n",
    "        episode_reward_list.append(episode_reward)\n",
    "        epsilon_greedy.decay_epsilon()\n",
    "\n",
    "    return episode_reward_list"
   ]
  },
  {
   "cell_type": "markdown",
   "metadata": {},
   "source": [
    "#### Train it\n",
    "\n",
    "In order to test this new implementation, we needs de adapt the following cell to instantiate and initialize the two neural networks.\n",
    "\n",
    "**Task 4.2:** complete the following cell to make the two Q-Networks. Initialize a target network that has the same architecture as the Q-network. The weights of the target network are initially copied from the Q-network."
   ]
  },
  {
   "cell_type": "code",
   "execution_count": null,
   "metadata": {},
   "outputs": [],
   "source": [
    "env = gym.make(\"CartPole-v1\")\n",
    "\n",
    "NUMBER_OF_TRAININGS = DEFAULT_NUMBER_OF_TRAININGS  # Change the default (global) value here if you want a specific number of trainings for this exercise\n",
    "dqn2_trains_result_list: List[List[Union[int, float]]] = [[], [], []]\n",
    "\n",
    "for train_index in range(NUMBER_OF_TRAININGS):\n",
    "    # Instantiate required objects\n",
    "\n",
    "    # q_network = TODO...\n",
    "\n",
    "    # target_q_network = TODO... # The target Q-network is used to compute the target Q-values for the loss function\n",
    "\n",
    "    # TODO... # Initialize the target Q-network with the same weights as the Q-network (c.f. the \"Practical tips\" section of the exercise)\n",
    "\n",
    "    optimizer = torch.optim.AdamW(q_network.parameters(), lr=0.004, amsgrad=True)\n",
    "    # lr_scheduler = torch.optim.lr_scheduler.ExponentialLR(optimizer, gamma=0.999)\n",
    "    lr_scheduler = MinimumExponentialLR(optimizer, lr_decay=0.97, min_lr=0.0001)\n",
    "    loss_fn = torch.nn.MSELoss()\n",
    "\n",
    "    epsilon_greedy = EpsilonGreedy(\n",
    "        epsilon_start=0.82,\n",
    "        epsilon_min=0.013,\n",
    "        epsilon_decay=0.9675,\n",
    "        env=env,\n",
    "        q_network=q_network,\n",
    "    )\n",
    "\n",
    "    replay_buffer = ReplayBuffer(2000)\n",
    "\n",
    "    # Train the q-network\n",
    "\n",
    "    episode_reward_list = train_dqn2_agent(\n",
    "        env,\n",
    "        q_network,\n",
    "        target_q_network,\n",
    "        optimizer,\n",
    "        loss_fn,\n",
    "        epsilon_greedy,\n",
    "        device,\n",
    "        lr_scheduler,\n",
    "        num_episodes=150,\n",
    "        gamma=0.9,\n",
    "        batch_size=128,\n",
    "        replay_buffer=replay_buffer,\n",
    "        target_q_network_sync_period=30,\n",
    "    )\n",
    "    dqn2_trains_result_list[0].extend(range(len(episode_reward_list)))\n",
    "    dqn2_trains_result_list[1].extend(episode_reward_list)\n",
    "    dqn2_trains_result_list[2].extend([train_index for _ in episode_reward_list])\n",
    "\n",
    "dqn2_trains_result_df = pd.DataFrame(\n",
    "    np.array(dqn2_trains_result_list).T,\n",
    "    columns=[\"num_episodes\", \"mean_final_episode_reward\", \"training_index\"],\n",
    ")\n",
    "dqn2_trains_result_df[\"agent\"] = \"DQN 2015\"\n",
    "\n",
    "# Save the action-value estimation function\n",
    "\n",
    "torch.save(q_network, MODELS_DIR / \"lab6_dqn2_q_network.pth\")\n",
    "\n",
    "env.close()"
   ]
  },
  {
   "cell_type": "markdown",
   "metadata": {},
   "source": [
    "#### Plot results"
   ]
  },
  {
   "cell_type": "code",
   "execution_count": null,
   "metadata": {
    "lines_to_next_cell": 0
   },
   "outputs": [],
   "source": [
    "g = sns.relplot(\n",
    "    x=\"num_episodes\",\n",
    "    y=\"mean_final_episode_reward\",\n",
    "    kind=\"line\",\n",
    "    hue=\"agent\",\n",
    "    estimator=None,\n",
    "    units=\"training_index\",\n",
    "    data=dqn2_trains_result_df,\n",
    "    height=7,\n",
    "    aspect=2,\n",
    "    alpha=0.5,\n",
    ")\n",
    "plt.savefig(PLOTS_DIR / \"lab6_dqn2_trains_result.png\")"
   ]
  },
  {
   "cell_type": "code",
   "execution_count": null,
   "metadata": {},
   "outputs": [],
   "source": [
    "# g = sns.relplot(x=\"num_episodes\", y=\"mean_final_episode_reward\", kind=\"line\", hue=\"agent\", data=dqn2_trains_result_df, height=7, aspect=2)"
   ]
  },
  {
   "cell_type": "code",
   "execution_count": null,
   "metadata": {
    "lines_to_next_cell": 0
   },
   "outputs": [],
   "source": [
    "all_trains_result_df = pd.concat(\n",
    "    [naive_trains_result_df, dqn1_trains_result_df, dqn2_trains_result_df]\n",
    ")\n",
    "g = sns.relplot(\n",
    "    x=\"num_episodes\",\n",
    "    y=\"mean_final_episode_reward\",\n",
    "    kind=\"line\",\n",
    "    hue=\"agent\",\n",
    "    data=all_trains_result_df,\n",
    "    height=7,\n",
    "    aspect=2,\n",
    ")\n",
    "plt.savefig(PLOTS_DIR / \"lab6_dqn2_trains_result_agg.png\")"
   ]
  },
  {
   "cell_type": "markdown",
   "metadata": {},
   "source": [
    "#### Test it"
   ]
  },
  {
   "cell_type": "code",
   "execution_count": null,
   "metadata": {},
   "outputs": [],
   "source": [
    "VIDEO_PREFIX_EX4_DQN2_TRAINED = \"lab6_ex4_dqn2_tained\"\n",
    "\n",
    "NUM_EPISODES = 3\n",
    "\n",
    "file_path_list = [\n",
    "    FIGS_DIR / f\"{VIDEO_PREFIX_EX4_DQN2_TRAINED}-episode-{episode_index}.mp4\"\n",
    "    for episode_index in range(NUM_EPISODES)\n",
    "]\n",
    "\n",
    "for file_path in file_path_list:\n",
    "    file_path.unlink(missing_ok=True)\n",
    "\n",
    "env = gym.make(\"CartPole-v1\", render_mode=\"rgb_array\")\n",
    "env = gym.wrappers.RecordVideo(\n",
    "    env,\n",
    "    video_folder=str(FIGS_DIR),\n",
    "    name_prefix=VIDEO_PREFIX_EX4_DQN2_TRAINED,\n",
    "    episode_trigger=lambda x: True,\n",
    ")\n",
    "env = gym.wrappers.RecordEpisodeStatistics(env, buffer_length=NUM_EPISODES)\n",
    "\n",
    "test_q_network_agent(env, q_network, num_episode=NUM_EPISODES)\n",
    "\n",
    "# print(f'Episode time taken: {env.time_queue}')\n",
    "# print(f'Episode total rewards: {env.return_queue}')\n",
    "# print(f'Episode lengths: {env.length_queue}')\n",
    "\n",
    "env.close()\n",
    "\n",
    "print(\"\\nSelect the episode to play here 👇\\n\")\n",
    "\n",
    "interact(video_selector, file_path=file_path_list)"
   ]
  },
  {
   "cell_type": "markdown",
   "metadata": {},
   "source": [
    "#### Score"
   ]
  },
  {
   "cell_type": "code",
   "execution_count": null,
   "metadata": {
    "lines_to_next_cell": 2
   },
   "outputs": [],
   "source": [
    "score_ex4 = dqn2_trains_result_df[[\"num_episodes\", \"mean_final_episode_reward\"]].groupby(\"num_episodes\").mean().max()\n",
    "score_ex4"
   ]
  },
  {
   "cell_type": "markdown",
   "metadata": {},
   "source": [
    "## Bonus 1: Deep policy-based reinforcement learning with Monte Carlo Policy Gradient (REINFORCE)"
   ]
  },
  {
   "cell_type": "markdown",
   "metadata": {},
   "source": [
    "In the previous part, we explored DQN, a value-based method that can be used to solve Reinforcement Learning problems having large state spaces.\n",
    "Now, we will solve the CartPole environment using a policy gradient method which directly searchs in a family of parameterized policies $\\pi_\\theta$ for the optimal policy."
   ]
  },
  {
   "cell_type": "markdown",
   "metadata": {},
   "source": [
    "### The Policy Gradient theorem"
   ]
  },
  {
   "cell_type": "markdown",
   "metadata": {
    "tags": []
   },
   "source": [
    "We will solve the CartPole environment using a policy gradient method which directly searchs in a family of parameterized policies $\\pi_\\theta$ for the optimal policy.\n",
    "\n",
    "This method performs gradient ascent in the policy space so that the total return is maximized.\n",
    "We will restrict our work to episodic tasks, *i.e.* tasks that have a starting states and last for a finite and fixed number of steps $T$, called horizon.\n",
    "\n",
    "More formally, we define an optimization criterion that we want to maximize:\n",
    "\n",
    "$$J(\\theta) = \\mathbb{E}_{\\pi_\\theta}\\left[\\sum_{t=1}^T r(s_t,a_t)\\right],$$\n",
    "\n",
    "where $\\mathbb{E}_{\\pi_\\theta}$ means $a \\sim \\pi_\\theta(\\cdot|s)$ and $T$ is the horizon of the episode.\n",
    "In other words, we want to maximize the value of the starting state: $V^{\\pi_\\theta}(s)$.\n",
    "The policy gradient theorem tells us that:\n",
    "\n",
    "$$\n",
    "\\nabla_\\theta J(\\theta) = \\nabla_\\theta V^{\\pi_\\theta}(s) = \\mathbb{E}_{\\pi_\\theta} \\left[\\nabla_\\theta \\log \\pi_\\theta (a|s) ~ Q^{\\pi_\\theta}(s,a) \\right],\n",
    "$$\n",
    "\n",
    "where the $Q$-function is defined as:\n",
    "\n",
    "$$Q^{\\pi_\\theta}(a|s) = \\mathbb{E}^{\\pi_\\theta} \\left[\\sum_{t=1}^T r(s_t,a_t)|s=s_1, a=a_1\\right].$$\n",
    "\n",
    "The policy gradient theorem is particularly effective because it allows gradient computation without needing to understand the system's dynamics, as long as the $Q$-function for the current policy is computable. By simply applying the policy and observing the one-step transitions, sufficient information is gathered. Implementing a stochastic gradient ascent and substituting $Q^{\\pi_\\theta}(s_t,a_t)$ with a Monte Carlo estimate $R_t = \\sum_{t'=t}^T r(s_{t'},a_{t'})$ for a single trajectory, we derive the REINFORCE algorithm."
   ]
  },
  {
   "cell_type": "markdown",
   "metadata": {},
   "source": [
    "The REINFORCE algorithm, introduced by Williams in 1992, is a Monte Carlo policy gradient method. It updates the policy in the direction that maximizes rewards, using full-episode returns as an unbiased estimate of the gradient. Each step involves generating an episode using the current policy, computing the gradient estimate, and updating the policy parameters. This algorithm is simple yet powerful, and it's particularly effective in environments where the policy gradient is noisy or the dynamics are complex.\n",
    "\n",
    "For further reading and a deeper understanding, refer to Williams' seminal paper (https://link.springer.com/article/10.1007/BF00992696) and the comprehensive text on reinforcement learning by Richard S. Sutton and Andrew G. Barto: \"Reinforcement Learning: An Introduction\", chap.13 (http://incompleteideas.net/book/RLbook2020.pdf)."
   ]
  },
  {
   "cell_type": "markdown",
   "metadata": {},
   "source": [
    "Here is the REINFORCE algorithm."
   ]
  },
  {
   "cell_type": "markdown",
   "metadata": {},
   "source": [
    "### Monte Carlo policy gradient (REINFORCE)\n",
    "\n",
    "<b>REQUIRE</b> <br>\n",
    "$\\quad$ A differentiable policy $\\pi_{\\boldsymbol{\\theta}}$ <br>\n",
    "$\\quad$ A learning rate $\\alpha \\in \\mathbb{R}^+$ <br>\n",
    "<b>INITIALIZATION</b> <br>\n",
    "$\\quad$ Initialize parameters $\\boldsymbol{\\theta} \\in \\mathbb{R}^d$ <br>\n",
    "<br>\n",
    "<b>FOR EACH</b> episode <br>\n",
    "$\\quad$ Generate full trace $\\tau = \\{ \\boldsymbol{s}_0, \\boldsymbol{a}_0, r_1, \\boldsymbol{s}_1, \\boldsymbol{a}_1, \\dots, r_T, \\boldsymbol{s}_T \\}$ following $\\pi_{\\boldsymbol{\\theta}}$ <br>\n",
    "$\\quad$ <b>FOR</b> $~ t=0,\\dots,T-1$ <br>\n",
    "$\\quad\\quad$ $G \\leftarrow \\sum_{k=t}^{T-1} r_k$ <br>\n",
    "$\\quad\\quad$ $\\boldsymbol{\\theta} \\leftarrow \\boldsymbol{\\theta} + \\alpha ~ \\underbrace{G ~ \\nabla_{\\boldsymbol{\\theta}} \\ln \\pi_{\\boldsymbol{\\theta}}(\\boldsymbol{a}_t|\\boldsymbol{s}_t)}_{\\nabla_{\\boldsymbol{\\theta}} J(\\boldsymbol{\\theta})}$ <br>\n",
    "<br>\n",
    "<b>RETURN</b> $\\boldsymbol{\\theta}$"
   ]
  },
  {
   "cell_type": "markdown",
   "metadata": {},
   "source": [
    "### Exercise 5: REINFORCE for discrete action spaces (Cartpole)"
   ]
  },
  {
   "cell_type": "markdown",
   "metadata": {},
   "source": [
    "#### Policy Implementation\n",
    "\n",
    "We will implement a stochastic policy to control the cart using a simple one-layer neural network. Given the simplicity of the problem, a single layer will suffice. We will not incorporate a bias term in this layer.\n",
    "\n",
    "This neural network will output the probabilities of each possible action (in this case, there are only two actions: \"push left\" or \"push right\") given the input vector $s$ (the 4-dimensional state vector)."
   ]
  },
  {
   "cell_type": "markdown",
   "metadata": {},
   "source": [
    "**Task 5.1**: Implement the `PolicyNetwork`  defined as follow."
   ]
  },
  {
   "cell_type": "markdown",
   "metadata": {
    "lines_to_next_cell": 2
   },
   "source": [
    "The network takes an input tensor representing the state of the environment and outputs a tensor of action probabilities.\n",
    "The network has the following components:\n",
    "\n",
    "- `layer1`: This is a linear (fully connected) layer that takes `n_observations` as input and outputs `n_actions`. It does not include a bias term.\n",
    "\n",
    "- `forward` method: This method defines the forward pass of the network. It takes a state tensor as input and returns a tensor of action probabilities. It first applies the linear layer to the input state tensor to get the logits (the raw, unnormalized scores for each action), and then applies the softmax function to the logits to get the action probabilities. The softmax function ensures that the action probabilities are positive and sum to 1, so they can be interpreted as probabilities.\n",
    "\n",
    "This network is quite simple and may not perform well on complex tasks with large state or action spaces. However, it can be a good starting point for simple reinforcement learning tasks, and can be easily extended with more layers or different types of layers (such as convolutional layers for image inputs) to handle more complex tasks."
   ]
  },
  {
   "cell_type": "code",
   "execution_count": null,
   "metadata": {
    "lines_to_next_cell": 2
   },
   "outputs": [],
   "source": [
    "class PolicyNetwork(torch.nn.Module):\n",
    "    \"\"\"\n",
    "    A neural network used as a policy for the REINFORCE algorithm.\n",
    "\n",
    "    Attributes\n",
    "    ----------\n",
    "    layer1 : torch.nn.Linear\n",
    "        A fully connected layer.\n",
    "\n",
    "    Methods\n",
    "    -------\n",
    "    forward(state: torch.Tensor) -> torch.Tensor\n",
    "        Define the forward pass of the PolicyNetwork.\n",
    "    \"\"\"\n",
    "\n",
    "    def __init__(self, n_observations: int, n_actions: int):\n",
    "        \"\"\"\n",
    "        Initialize a new instance of PolicyNetwork.\n",
    "\n",
    "        Parameters\n",
    "        ----------\n",
    "        n_observations : int\n",
    "            The size of the observation space.\n",
    "        n_actions : int\n",
    "            The size of the action space.\n",
    "        \"\"\"\n",
    "        super(PolicyNetwork, self).__init__()\n",
    "\n",
    "        # TODO...\n",
    "\n",
    "    def forward(self, state_tensor: torch.Tensor) -> torch.Tensor:\n",
    "        \"\"\"\n",
    "        Calculate the probability of each action for the given state.\n",
    "\n",
    "        Parameters\n",
    "        ----------\n",
    "        state_tensor : torch.Tensor\n",
    "            The input tensor (state).\n",
    "            The shape of the tensor should be (N, dim),\n",
    "            where N is the number of states vectors in the batch\n",
    "            and dim is the dimension of state vectors.\n",
    "\n",
    "        Returns\n",
    "        -------\n",
    "        torch.Tensor\n",
    "            The output tensor (the probability of each action for the given state).\n",
    "        \"\"\"\n",
    "\n",
    "        # TODO...\n",
    "\n",
    "        return out"
   ]
  },
  {
   "cell_type": "markdown",
   "metadata": {
    "lines_to_next_cell": 2
   },
   "source": [
    "**Task 5.2**: Complete the `sample_discrete_action` function. This function is used to sample a discrete action based on a given state and a policy network. It first converts the state into a tensor and passes it through the policy network to get the parameters of the action probability distribution. Then, it creates a categorical distribution from these parameters and samples an action from this distribution. It also calculates the log probability of the sampled action according to the distribution. The function returns the sampled action and its log probability."
   ]
  },
  {
   "cell_type": "code",
   "execution_count": null,
   "metadata": {},
   "outputs": [],
   "source": [
    "def sample_discrete_action(\n",
    "    policy_nn: PolicyNetwork, state: np.ndarray\n",
    ") -> Tuple[int, torch.Tensor]:\n",
    "    \"\"\"\n",
    "    Sample a discrete action based on the given state and policy network.\n",
    "\n",
    "    This function takes a state and a policy network, and returns a sampled action and its log probability.\n",
    "    The action is sampled from a categorical distribution defined by the output of the policy network.\n",
    "\n",
    "    Parameters\n",
    "    ----------\n",
    "    policy_nn : PolicyNetwork\n",
    "        The policy network that defines the probability distribution of the actions.\n",
    "    state : np.ndarray\n",
    "        The state based on which an action needs to be sampled.\n",
    "\n",
    "    Returns\n",
    "    -------\n",
    "    Tuple[int, torch.Tensor]\n",
    "        The sampled action and its log probability.\n",
    "\n",
    "    \"\"\"\n",
    "\n",
    "    # Convert the state into a tensor, specify its data type as float32, and send it to the device (CPU or GPU).\n",
    "    # The unsqueeze(0) function is used to add an extra dimension to the tensor to match the input shape required by the policy network.\n",
    "    # state_tensor = TODO...\n",
    "\n",
    "    # Pass the state tensor through the policy network to get the parameters of the action probability distribution.\n",
    "    # actions_probability_distribution_params = TODO...\n",
    "\n",
    "    # Create the categorical distribution used to sample an action from the parameters obtained from the policy network.\n",
    "    # See https://pytorch.org/docs/stable/distributions.html#categorical\n",
    "    # actions_probability_distribution = TODO...\n",
    "\n",
    "    # Sample an action from the categorical distribution.\n",
    "    # sampled_action_tensor = TODO...\n",
    "\n",
    "    # Convert the tensor containing the sampled action into a Python integer.\n",
    "    # sampled_action = TODO...\n",
    "\n",
    "    # Calculate the log probability of the sampled action according to the categorical distribution.\n",
    "    # sampled_action_log_probability = TODO...\n",
    "\n",
    "    # Return the sampled action and its log probability.\n",
    "    return sampled_action, sampled_action_log_probability"
   ]
  },
  {
   "cell_type": "markdown",
   "metadata": {},
   "source": [
    "**Task 5.3**: Test the `sample_discrete_action` function on a random state using an untrained policy network."
   ]
  },
  {
   "cell_type": "code",
   "execution_count": null,
   "metadata": {
    "lines_to_next_cell": 2
   },
   "outputs": [],
   "source": [
    "env = gym.make(\"CartPole-v1\")\n",
    "\n",
    "# policy_nn = TODO...\n",
    "\n",
    "# state = TODO...\n",
    "# theta = TODO...\n",
    "# action, action_log_probability = TODO...\n",
    "\n",
    "print(\"state:\", state)\n",
    "print(\"theta:\", theta)\n",
    "print(\"sampled action:\", action)\n",
    "print(\"log probability of the sampled action:\", action_log_probability)\n",
    "\n",
    "env.close()"
   ]
  },
  {
   "cell_type": "markdown",
   "metadata": {},
   "source": [
    "#### Implement the sample_one_episode function"
   ]
  },
  {
   "cell_type": "markdown",
   "metadata": {
    "lines_to_next_cell": 2
   },
   "source": [
    "Remember that in the REINFORCE algorithm, we need to generate a complete trajectory, denoted as $\\tau = \\{ \\boldsymbol{s}_0, \\boldsymbol{a}_0, r_1, \\boldsymbol{s}_1, \\boldsymbol{a}_1, \\dots, r_T, \\boldsymbol{s}_T \\}$. This trajectory includes the states, actions, and rewards at each time step, as outlined in the algorithm at the beginning of Part 1.\n",
    "\n",
    "**Task 5.4**: Your task is to implement the `sample_one_episode` function. This function should play one episode using the given policy $\\pi_\\theta$ and return its rollouts. The function should adhere to a fixed horizon $T$, which represents the maximum number of steps in the episode."
   ]
  },
  {
   "cell_type": "code",
   "execution_count": null,
   "metadata": {},
   "outputs": [],
   "source": [
    "def sample_one_episode(\n",
    "    env: gym.Env, policy_nn: PolicyNetwork, max_episode_duration: int\n",
    ") -> Tuple[List[np.ndarray], List[int], List[float], List[torch.Tensor]]:\n",
    "    \"\"\"\n",
    "    Execute one episode within the `env` environment utilizing the policy defined by the `policy_nn` parameter.\n",
    "\n",
    "    Parameters\n",
    "    ----------\n",
    "    env : gym.Env\n",
    "        The environment to play in.\n",
    "    policy_nn : PolicyNetwork\n",
    "        The policy neural network.\n",
    "    max_episode_duration : int\n",
    "        The maximum duration of the episode.\n",
    "\n",
    "    Returns\n",
    "    -------\n",
    "    Tuple[List[np.ndarray], List[int], List[float], List[torch.Tensor]]\n",
    "        The states, actions, rewards, and log probability of action for each time step in the episode.\n",
    "    \"\"\"\n",
    "    state_t, info = env.reset()\n",
    "\n",
    "    episode_states = []\n",
    "    episode_actions = []\n",
    "    episode_log_prob_actions = []\n",
    "    episode_rewards = []\n",
    "    episode_states.append(state_t)\n",
    "\n",
    "    for t in range(max_episode_duration):\n",
    "\n",
    "        # Sample a discrete action and its log probability from the policy network based on the current state\n",
    "        # action_t, log_prob_action_t = TODO...\n",
    "\n",
    "        # Execute the sampled action in the environment, which returns the new state, reward, and whether the episode has terminated or been truncated\n",
    "        # state_t, reward_t, terminated, truncated, info = TODO...\n",
    "\n",
    "        # Check if the episode is done, either due to termination (reaching a terminal state) or truncation (reaching a maximum number of steps)\n",
    "        done = terminated or truncated\n",
    "\n",
    "        # Append the new state, action, action log probability and reward to their respective lists\n",
    "\n",
    "        episode_states.append(state_t)\n",
    "        episode_actions.append(action_t)\n",
    "        episode_log_prob_actions.append(log_prob_action_t)\n",
    "        episode_rewards.append(float(reward_t))\n",
    "\n",
    "        if done:\n",
    "            break\n",
    "\n",
    "    return episode_states, episode_actions, episode_rewards, episode_log_prob_actions"
   ]
  },
  {
   "cell_type": "markdown",
   "metadata": {},
   "source": [
    "**Task 5.5:** Test this function on the untrained agent."
   ]
  },
  {
   "cell_type": "code",
   "execution_count": null,
   "metadata": {},
   "outputs": [],
   "source": [
    "VIDEO_PREFIX_EX5_REINFORCE_UNTRAINED = \"lab6_ex5_reinforce_untained\"\n",
    "\n",
    "NUM_EPISODES = 3\n",
    "\n",
    "file_path_list = [\n",
    "    FIGS_DIR / f\"{VIDEO_PREFIX_EX5_REINFORCE_UNTRAINED}-episode-{episode_index}.mp4\"\n",
    "    for episode_index in range(NUM_EPISODES)\n",
    "]\n",
    "\n",
    "for file_path in file_path_list:\n",
    "    file_path.unlink(missing_ok=True)\n",
    "\n",
    "env = gym.make(\"CartPole-v1\", render_mode=\"rgb_array\")\n",
    "env = gym.wrappers.RecordVideo(\n",
    "    env,\n",
    "    video_folder=str(FIGS_DIR),\n",
    "    name_prefix=VIDEO_PREFIX_EX5_REINFORCE_UNTRAINED,\n",
    "    episode_trigger=lambda x: True,\n",
    ")\n",
    "env = gym.wrappers.RecordEpisodeStatistics(env, buffer_length=NUM_EPISODES)\n",
    "\n",
    "for episode_index in range(NUM_EPISODES):\n",
    "    # policy_nn = TODO...\n",
    "    # episode_states, episode_actions, episode_rewards, episode_log_prob_actions = TODO...\n",
    "\n",
    "print(f\"Episode time taken: {env.time_queue}\")\n",
    "print(f\"Episode total rewards: {env.return_queue}\")\n",
    "print(f\"Episode lengths: {env.length_queue}\")\n",
    "\n",
    "env.close()\n",
    "\n",
    "print(\"\\nSelect the episode to play here 👇\\n\")\n",
    "\n",
    "interact(video_selector, file_path=file_path_list)"
   ]
  },
  {
   "cell_type": "code",
   "execution_count": null,
   "metadata": {},
   "outputs": [],
   "source": [
    "episode_states"
   ]
  },
  {
   "cell_type": "code",
   "execution_count": null,
   "metadata": {},
   "outputs": [],
   "source": [
    "episode_actions"
   ]
  },
  {
   "cell_type": "code",
   "execution_count": null,
   "metadata": {
    "lines_to_next_cell": 2
   },
   "outputs": [],
   "source": [
    "episode_rewards"
   ]
  },
  {
   "cell_type": "markdown",
   "metadata": {},
   "source": [
    "#### Implement a test function"
   ]
  },
  {
   "cell_type": "markdown",
   "metadata": {
    "lines_to_next_cell": 2
   },
   "source": [
    "**Task 5.6**: Implement the `avg_return_on_multiple_episodes` function that test the given policy $\\pi_\\theta$ on `num_episodes` episodes (for fixed horizon $T$) and returns the average reward on the `num_episodes` episodes.\n",
    "\n",
    "The function `avg_return_on_multiple_episodes` is designed to play multiple episodes of a given environment using a specified policy neural network and calculate the average return. It takes as input the environment to play in, the policy neural network to use, the number of episodes to play, the maximum duration of an episode, and an optional parameter to decide whether to render the environment or not.\n",
    "In each episode, it uses the `sample_one_episode` function to play the episode and collect the rewards. The function then returns the average of these cumulated rewards.\n",
    "\n",
    "`avg_return_on_multiple_episodes` will be used for evaluating the performance of a policy over multiple episodes."
   ]
  },
  {
   "cell_type": "code",
   "execution_count": null,
   "metadata": {},
   "outputs": [],
   "source": [
    "def avg_return_on_multiple_episodes(\n",
    "    env: gym.Env,\n",
    "    policy_nn: PolicyNetwork,\n",
    "    num_test_episode: int,\n",
    "    max_episode_duration: int,\n",
    ") -> float:\n",
    "    \"\"\"\n",
    "    Play multiple episodes of the environment and calculate the average return.\n",
    "\n",
    "    Parameters\n",
    "    ----------\n",
    "    env : gym.Env\n",
    "        The environment to play in.\n",
    "    policy_nn : PolicyNetwork\n",
    "        The policy neural network.\n",
    "    num_test_episode : int\n",
    "        The number of episodes to play.\n",
    "    max_episode_duration : int\n",
    "        The maximum duration of an episode.\n",
    "\n",
    "    Returns\n",
    "    -------\n",
    "    float\n",
    "        The average return.\n",
    "    \"\"\"\n",
    "\n",
    "    # TODO...\n",
    "\n",
    "    return average_return"
   ]
  },
  {
   "cell_type": "markdown",
   "metadata": {},
   "source": [
    "**Task 5.7:** Test this function on the untrained agent."
   ]
  },
  {
   "cell_type": "code",
   "execution_count": null,
   "metadata": {
    "lines_to_next_cell": 2
   },
   "outputs": [],
   "source": [
    "env = gym.make(\"CartPole-v1\")\n",
    "\n",
    "# TODO...\n",
    "\n",
    "print(average_return)\n",
    "\n",
    "env.close()"
   ]
  },
  {
   "cell_type": "markdown",
   "metadata": {},
   "source": [
    "#### Implement the train function"
   ]
  },
  {
   "cell_type": "markdown",
   "metadata": {
    "lines_to_next_cell": 2
   },
   "source": [
    "**Task 5.8**: Implement the `train_reinforce_discrete` function, used to train a policy network using the REINFORCE algorithm in the given environment. This function takes as input the environment, the number of training episodes, the number of tests to perform per episode, the maximum duration of an episode, and the learning rate for the optimizer.\n",
    "\n",
    "The function first initializes a policy network and an Adam optimizer. Then, for each training episode, it generates an episode using the current policy and calculates the return at each time step. It uses this return and the log probability of the action taken at that time step to compute the loss, which is the negative of the product of the return and the log probability. This loss is used to update the policy network parameters using gradient ascent.\n",
    "\n",
    "After each training episode, the function tests the current policy by playing a number of test episodes and calculating the average return. This average return is added to a list for monitoring purposes.\n",
    "\n",
    "The function returns the trained policy network and the list of average returns for each episode. This function encapsulates the main loop of the REINFORCE algorithm, including the policy update step. Please refer back to the algorithm outlined at the start of Part 3 for additional context, if necessary."
   ]
  },
  {
   "cell_type": "code",
   "execution_count": null,
   "metadata": {},
   "outputs": [],
   "source": [
    "def train_reinforce_discrete(\n",
    "    env: gym.Env,\n",
    "    num_train_episodes: int,\n",
    "    num_test_per_episode: int,\n",
    "    max_episode_duration: int,\n",
    "    learning_rate: float,\n",
    ") -> Tuple[PolicyNetwork, List[float]]:\n",
    "    \"\"\"\n",
    "    Train a policy using the REINFORCE algorithm.\n",
    "\n",
    "    Parameters\n",
    "    ----------\n",
    "    env : gym.Env\n",
    "        The environment to train in.\n",
    "    num_train_episodes : int\n",
    "        The number of training episodes.\n",
    "    num_test_per_episode : int\n",
    "        The number of tests to perform per episode.\n",
    "    max_episode_duration : int\n",
    "        The maximum length of an episode, by default EPISODE_DURATION.\n",
    "    learning_rate : float\n",
    "        The initial step size.\n",
    "\n",
    "    Returns\n",
    "    -------\n",
    "    Tuple[PolicyNetwork, List[float]]\n",
    "        The final trained policy and the average returns for each episode.\n",
    "    \"\"\"\n",
    "    episode_avg_return_list = []\n",
    "\n",
    "    policy_nn = PolicyNetwork(cartpole_observation_dim, cartpole_num_actions).to(device)\n",
    "    optimizer = torch.optim.Adam(policy_nn.parameters(), lr=learning_rate)\n",
    "\n",
    "    for episode_index in tqdm(range(num_train_episodes)):\n",
    "        # TODO...\n",
    "\n",
    "        # Test the current policy\n",
    "        test_avg_return = avg_return_on_multiple_episodes(\n",
    "            env=env,\n",
    "            policy_nn=policy_nn,\n",
    "            num_test_episode=num_test_per_episode,\n",
    "            max_episode_duration=max_episode_duration,\n",
    "        )\n",
    "\n",
    "        # Monitoring\n",
    "        episode_avg_return_list.append(test_avg_return)\n",
    "\n",
    "    return policy_nn, episode_avg_return_list"
   ]
  },
  {
   "cell_type": "markdown",
   "metadata": {},
   "source": [
    "#### Train the agent"
   ]
  },
  {
   "cell_type": "code",
   "execution_count": null,
   "metadata": {},
   "outputs": [],
   "source": [
    "env = gym.make(\"CartPole-v1\")\n",
    "\n",
    "NUMBER_OF_TRAININGS = DEFAULT_NUMBER_OF_TRAININGS  # Change the default (global) value here if you want a specific number of trainings for this exercise\n",
    "reinforce_trains_result_list: List[List[Union[int, float]]] = [[], [], []]\n",
    "\n",
    "for train_index in range(NUMBER_OF_TRAININGS):\n",
    "    # Train the agent\n",
    "    reinforce_policy_nn, episode_reward_list = train_reinforce_discrete(\n",
    "        env=env,\n",
    "        num_train_episodes=150,\n",
    "        num_test_per_episode=5,\n",
    "        max_episode_duration=500,\n",
    "        learning_rate=0.01,\n",
    "    )\n",
    "\n",
    "    reinforce_trains_result_list[0].extend(range(len(episode_reward_list)))\n",
    "    reinforce_trains_result_list[1].extend(episode_reward_list)\n",
    "    reinforce_trains_result_list[2].extend([train_index for _ in episode_reward_list])\n",
    "\n",
    "reinforce_trains_result_df = pd.DataFrame(\n",
    "    np.array(reinforce_trains_result_list).T,\n",
    "    columns=[\"num_episodes\", \"mean_final_episode_reward\", \"training_index\"],\n",
    ")\n",
    "reinforce_trains_result_df[\"agent\"] = \"REINFORCE\"\n",
    "\n",
    "# Save the action-value estimation function of the last train\n",
    "\n",
    "torch.save(reinforce_policy_nn, MODELS_DIR / \"lab6_reinforce_policy_network.pth\")\n",
    "\n",
    "env.close()"
   ]
  },
  {
   "cell_type": "markdown",
   "metadata": {},
   "source": [
    "#### Plot results"
   ]
  },
  {
   "cell_type": "code",
   "execution_count": null,
   "metadata": {},
   "outputs": [],
   "source": [
    "g = sns.relplot(\n",
    "    x=\"num_episodes\",\n",
    "    y=\"mean_final_episode_reward\",\n",
    "    kind=\"line\",\n",
    "    hue=\"agent\",\n",
    "    estimator=None,\n",
    "    units=\"training_index\",\n",
    "    data=reinforce_trains_result_df,\n",
    "    height=7,\n",
    "    aspect=2,\n",
    "    alpha=0.5,\n",
    ")\n",
    "plt.savefig(PLOTS_DIR / \"lab6_reinforce_cartpole_trains_result.png\")"
   ]
  },
  {
   "cell_type": "code",
   "execution_count": null,
   "metadata": {
    "lines_to_next_cell": 0
   },
   "outputs": [],
   "source": [
    "all_trains_result_df = pd.concat(\n",
    "    [\n",
    "        naive_trains_result_df,\n",
    "        dqn1_trains_result_df,\n",
    "        dqn2_trains_result_df,\n",
    "        reinforce_trains_result_df,\n",
    "    ]\n",
    ")\n",
    "g = sns.relplot(\n",
    "    x=\"num_episodes\",\n",
    "    y=\"mean_final_episode_reward\",\n",
    "    kind=\"line\",\n",
    "    hue=\"agent\",\n",
    "    data=all_trains_result_df,\n",
    "    height=7,\n",
    "    aspect=2,\n",
    ")\n",
    "plt.savefig(PLOTS_DIR / \"lab6_reinforce_cartpole_trains_result_agg.png\")"
   ]
  },
  {
   "cell_type": "markdown",
   "metadata": {},
   "source": [
    "#### Test final policy"
   ]
  },
  {
   "cell_type": "code",
   "execution_count": null,
   "metadata": {},
   "outputs": [],
   "source": [
    "VIDEO_PREFIX_EX5_REINFORCE_TRAINED = \"lab6_ex5_reinforce_tained\"\n",
    "\n",
    "NUM_EPISODES = 3\n",
    "\n",
    "file_path_list = [\n",
    "    FIGS_DIR / f\"{VIDEO_PREFIX_EX5_REINFORCE_TRAINED}-episode-{episode_index}.mp4\"\n",
    "    for episode_index in range(NUM_EPISODES)\n",
    "]\n",
    "\n",
    "for file_path in file_path_list:\n",
    "    file_path.unlink(missing_ok=True)\n",
    "\n",
    "env = gym.make(\"CartPole-v1\", render_mode=\"rgb_array\")\n",
    "env = gym.wrappers.RecordVideo(\n",
    "    env,\n",
    "    video_folder=str(FIGS_DIR),\n",
    "    name_prefix=VIDEO_PREFIX_EX5_REINFORCE_TRAINED,\n",
    "    episode_trigger=lambda x: True,\n",
    ")\n",
    "env = gym.wrappers.RecordEpisodeStatistics(env, buffer_length=NUM_EPISODES)\n",
    "\n",
    "# TODO...\n",
    "\n",
    "print(f\"Episode time taken: {env.time_queue}\")\n",
    "print(f\"Episode total rewards: {env.return_queue}\")\n",
    "print(f\"Episode lengths: {env.length_queue}\")\n",
    "\n",
    "env.close()\n",
    "\n",
    "print(\"\\nSelect the episode to play here 👇\\n\")\n",
    "\n",
    "interact(video_selector, file_path=file_path_list)"
   ]
  },
  {
   "cell_type": "markdown",
   "metadata": {},
   "source": [
    "**Task 5.9**: decrease the learning rate value (e.g. 0.001), increase the number of episodes per training and retrain the agent. What do you observe ?"
   ]
  },
  {
   "cell_type": "code",
   "execution_count": null,
   "metadata": {},
   "outputs": [],
   "source": [
    "reinforce_trains_result_df"
   ]
  },
  {
   "cell_type": "markdown",
   "metadata": {},
   "source": [
    "#### Score"
   ]
  },
  {
   "cell_type": "code",
   "execution_count": null,
   "metadata": {},
   "outputs": [],
   "source": [
    "score_ex5 = reinforce_trains_result_df[[\"num_episodes\", \"mean_final_episode_reward\"]].groupby(\"num_episodes\").mean().max()\n",
    "score_ex5"
   ]
  },
  {
   "cell_type": "markdown",
   "metadata": {},
   "source": [
    "## Bonus 2: Hyperparameters optimization with Optuna\n",
    "\n",
    "Optuna is an open-source hyperparameter optimization framework designed to automate the process of searching for the best hyperparameters in machine learning models. It is highly efficient and flexible, supporting various optimization algorithms. Optuna works with Python-based machine learning libraries like PyTorch, TensorFlow, and Scikit-learn. Optuna’s core feature is its ability to perform dynamic search spaces and pruning, allowing faster convergence by terminating poorly performing trials early.\n",
    "Optuna supports distributed optimization for large-scale tuning.\n",
    "\n",
    "### Installation\n",
    "\n",
    "```\n",
    "pip install optuna\n",
    "```\n",
    "\n",
    "### Official documentation\n",
    "\n",
    "- Optuna GitHub: [https://github.com/optuna/optuna](https://github.com/optuna/optuna)\n",
    "- Optuna Documentation: [https://optuna.org](https://optuna.org)\n",
    "\n",
    "### Example of usage with PyTorch\n",
    "\n",
    "Here's an example of how to use Optuna to optimize the hyperparameters of a simple neural network with PyTorch."
   ]
  },
  {
   "cell_type": "code",
   "execution_count": null,
   "metadata": {},
   "outputs": [],
   "source": [
    "import torch\n",
    "import torch.nn as nn\n",
    "import torch.optim as optim\n",
    "import optuna\n",
    "from torch.utils.data import DataLoader, TensorDataset\n",
    "\n",
    "# Define the PyTorch model\n",
    "class Net(nn.Module):\n",
    "    def __init__(self, input_size, hidden_size, output_size):\n",
    "        super(Net, self).__init__()\n",
    "        self.fc1 = nn.Linear(input_size, hidden_size)\n",
    "        self.fc2 = nn.Linear(hidden_size, output_size)\n",
    "\n",
    "    def forward(self, x):\n",
    "        x = torch.relu(self.fc1(x))\n",
    "        x = self.fc2(x)\n",
    "        return x\n",
    "\n",
    "# Objective function for Optuna\n",
    "def objective(trial):\n",
    "    # Hyperparameters to be tuned\n",
    "    hidden_size = trial.suggest_int('hidden_size', 32, 128)\n",
    "    lr = trial.suggest_loguniform('lr', 1e-4, 1e-2)\n",
    "\n",
    "    model = Net(input_size=28*28, hidden_size=hidden_size, output_size=10)\n",
    "    optimizer = optim.Adam(model.parameters(), lr=lr)\n",
    "    loss_fn = nn.CrossEntropyLoss()\n",
    "\n",
    "    # Dummy dataset\n",
    "    X = torch.randn(100, 28*28)\n",
    "    y = torch.randint(0, 10, (100,))\n",
    "    train_loader = DataLoader(TensorDataset(X, y), batch_size=32)\n",
    "\n",
    "    # Training loop\n",
    "    for epoch in range(10):\n",
    "        for batch_x, batch_y in train_loader:\n",
    "            optimizer.zero_grad()\n",
    "            output = model(batch_x)\n",
    "            loss = loss_fn(output, batch_y)\n",
    "            loss.backward()\n",
    "            optimizer.step()\n",
    "\n",
    "    return loss.item()\n",
    "\n",
    "# Optimize hyperparameters\n",
    "study = optuna.create_study(direction='minimize')\n",
    "study.optimize(objective, n_trials=10)\n",
    "\n",
    "# Show best hyperparameters\n",
    "print(study.best_trial)"
   ]
  },
  {
   "cell_type": "markdown",
   "metadata": {},
   "source": [
    "This example creates a basic neural network and tunes the `hidden_size` and learning rate (`lr`) using Optuna."
   ]
  }
 ],
 "metadata": {
  "kernelspec": {
   "display_name": "Python 3",
   "language": "python",
   "name": "python3"
  },
  "language_info": {
   "codemirror_mode": {
    "name": "ipython",
    "version": 3
   },
   "file_extension": ".py",
   "mimetype": "text/x-python",
   "name": "python",
   "nbconvert_exporter": "python",
   "pygments_lexer": "ipython3",
   "version": "3.8.10"
  }
 },
 "nbformat": 4,
 "nbformat_minor": 4
}
