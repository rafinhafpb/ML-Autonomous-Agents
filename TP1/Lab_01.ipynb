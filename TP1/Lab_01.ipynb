{
 "cells": [
  {
   "cell_type": "markdown",
   "id": "522bc621",
   "metadata": {
    "cell_marker": "\"\"\"",
    "lines_to_next_cell": 2
   },
   "source": [
    "# CSC_52081_EP - Lab 01\n",
    "\n",
    "### Main Objectives \n",
    "\n",
    "Intelligent decision making involves several components. Today we study, in the context of a toy (low-dimensional, synthetic) example: *perception* (observation), *knowledge* (representation), *reasoning* (inference), and *acting* (decision-making). We will _not_ look at (today): learning and sequential decision making. Using probabalistic tools covered in the lecture (Bayesian networks, marginalization, ...), the objective is to design a rational/intelligent agent, i.e., an agent that maximizes its expected reward. \n",
    "\n",
    "\n",
    "### Instructions\n",
    "\n",
    "Work your way through the notebook, and provide code where indicated to complete the tasks. Check Moodle for details on how to submit your work."
   ]
  },
  {
   "cell_type": "markdown",
   "id": "f9a40ed2",
   "metadata": {
    "cell_marker": "\"\"\""
   },
   "source": [
    "### Imports\n",
    "\n",
    "First, we're going to import `numpy` and some utility functions/classes that we will use. make sure the `environment.py` is in your working directory. "
   ]
  },
  {
   "cell_type": "code",
   "execution_count": 2,
   "id": "ebf59cbd",
   "metadata": {},
   "outputs": [],
   "source": [
    "import numpy as np"
   ]
  },
  {
   "cell_type": "code",
   "execution_count": 3,
   "id": "86641748",
   "metadata": {},
   "outputs": [],
   "source": [
    "import matplotlib.pyplot as plt"
   ]
  },
  {
   "cell_type": "markdown",
   "id": "5ca4439d",
   "metadata": {
    "cell_marker": "\"\"\""
   },
   "source": [
    "And we'll use the environment defined in the file `environment.py`"
   ]
  },
  {
   "cell_type": "code",
   "execution_count": 4,
   "id": "f646da47",
   "metadata": {},
   "outputs": [
    {
     "name": "stderr",
     "output_type": "stream",
     "text": [
      "'wget' n'est pas reconnu en tant que commande interne\n",
      "ou externe, un programme ex�cutable ou un fichier de commandes.\n"
     ]
    }
   ],
   "source": [
    "# if you are using Google Colab, uncomment the following line (then comment again when you have run it): \n",
    "!wget https://www.lix.polytechnique.fr/~jread/courses/inf581/labs/01/environment.py\n",
    "from environment import Environment"
   ]
  },
  {
   "cell_type": "markdown",
   "id": "bcd31b81",
   "metadata": {
    "cell_marker": "\"\"\""
   },
   "source": [
    "\n",
    "## The Environment and the Agent\n",
    "\n",
    "Consider an intelligent agent as a robot tasked with catching rats in a storage room. It is night time, and the room is dark. You have to rely on auditory information only, but luckily the room is a mess with paper and other debris that means there are distinct sounds which are emitted by a rat as it touches different objects (namely, crinkling and rustling sounds). The room is rectangular, divided up into $n$ square tiles.  A rat has just entered the room (current time $t=1$). The agent waits $T$ seconds (i.e., until $t=T$), then makes a decision on if and where to pounce (in order to catch the rat)."
   ]
  },
  {
   "cell_type": "markdown",
   "id": "e6d6b241",
   "metadata": {
    "cell_marker": "\"\"\""
   },
   "source": [
    "Let's instantiate an environment, and render a visualisation of it. "
   ]
  },
  {
   "cell_type": "code",
   "execution_count": 5,
   "id": "06e68be5",
   "metadata": {
    "lines_to_next_cell": 2
   },
   "outputs": [
    {
     "data": {
      "image/png": "[encoded data removed]",
      "text/plain": [
       "<Figure size 800x400 with 1 Axes>"
      ]
     },
     "metadata": {},
     "output_type": "display_data"
    }
   ],
   "source": [
    "G = np.array([[1,3,0,2,4,1],\n",
    "              [2,1,0,3,0,3],\n",
    "              [4,0,3,0,2,0],\n",
    "              [3,1,2,3,0,4],\n",
    "              [2,0,0,0,1,1]])\n",
    "\n",
    "env = Environment(G)\n",
    "# Plot the environment in state 's_t = 4'\n",
    "fig, ax = env.render([4], None)\n",
    "plt.show()"
   ]
  },
  {
   "cell_type": "markdown",
   "id": "c2ce0cad",
   "metadata": {
    "cell_marker": "r\"\"\""
   },
   "source": [
    "#### Notation\n",
    "\n",
    "Let $s_t \\in \\{1,\\ldots,n\\}$ denote the position (state) of the rat at time step $t$ (one of $n$ grid tiles); starting at some $s_1$ (entry tile). And $\\mathbf{x}_t \\in \\{0,1\\}^2$ is the 2-dimensional auditory observation at time $t$ (e.g., $\\mathbf{x}_t = [1,0]$ if there is a crinkle but no rustle, etc). The agent accumulates a sequence of **observations** $\\mathbf{x}_{1:T} = \\mathbf{x}_1,\\ldots,\\mathbf{x}_T$, with which to make the decision of taking **action** $a$ to pounce (denoting the tile upon which it pounces). The agent obtains **reward** $r(s,a) = 1_{s = a}$, i.e., catching the rat provides reward $1$ and $0$ otherwise. \n",
    "\n",
    "As an influence diagram, the problem described can be depicted as follows: \n",
    "\n",
    "![pgm](https://www.lix.polytechnique.fr/~jread/courses/inf581/labs/01/fig/pgm.png)\n",
    "\n",
    "Your task is to model this problem in Python code. Finally, the goal is to implement an `Agent` which will provide the best action $a$ (according to current knowledge, i.e., given observation sequence $\\mathbf{x}_{1:T}$) and associated uncertainty.\n",
    "\n",
    "**Beware** of the potential confusion here: $s_T$ represents the state of the environment but decision making (choosing action $a$) is based on observation $o = \\mathbf{x}_{1:T}$. "
   ]
  },
  {
   "cell_type": "markdown",
   "id": "0d9f722e",
   "metadata": {
    "cell_marker": "r\"\"\"",
    "lines_to_next_cell": 1
   },
   "source": [
    "The Environment is fully specified for you, as a Markov process \n",
    "$$\n",
    "    s_{t+1} \\sim p(\\cdot | s_t)\n",
    "$$\n",
    "with observations \n",
    "$$\n",
    "    \\mathbf{x}_t \\sim p( \\cdot | s_t)\n",
    "$$\n",
    "You can find this functionality in the `step` function. \n",
    "\n",
    "You should be able to see by looking at the code, that the rat moves by exactly $1$ square tile, either horizontally or vertically (i.e., taxicab-distance) per time step $t$, within the bounds of the of the room, starting at one of the entry points (uniformly at random). Insofar as the observation function: a 'crinkle' indicator is generated with probability $\\theta_1$ when over certain tiles (green, or orange), and with probability $0$ over other tiles; furthermore, it will invoke a 'rustling' is indicated with probability $\\theta_2$ over certain tiles (red, or orange), and $0$ otherwise. On orange tiles, both noises are caused independently of each other.\n",
    "\n",
    "\n",
    "#### Task 1: Generating trajectories \n",
    "\n",
    "Complete the `gen_traj` function to generate a trajectory (of length $T$). You have full acces to the environment, e.g., you can call `env.step(...)`. "
   ]
  },
  {
   "cell_type": "code",
   "execution_count": 6,
   "id": "9b122c0d",
   "metadata": {},
   "outputs": [],
   "source": [
    "def gen_traj(env, T=5):\n",
    "    ''' Generate a path with associated observations.\n",
    "\n",
    "        Paramaters\n",
    "        ----------\n",
    "\n",
    "        T : int\n",
    "            how long is the path\n",
    "\n",
    "        Returns\n",
    "        -------\n",
    "\n",
    "        o : (T,d)-shape array\n",
    "            sequence of observations\n",
    "        s : T-length array of states\n",
    "            sequence of tiles\n",
    "    '''\n",
    "    o = []\n",
    "    s = []\n",
    "\n",
    "    s.append(env.step()[0])\n",
    "    o.append(env.step()[1])\n",
    "\n",
    "    for i in range(T-1):\n",
    "        temp_s, temp_o = env.step(s[i])\n",
    "        s.append(temp_s)\n",
    "        o.append(temp_o)\n",
    "\n",
    "    return np.array(o), np.array(s)"
   ]
  },
  {
   "cell_type": "code",
   "execution_count": 7,
   "id": "2b715933",
   "metadata": {
    "lines_to_next_cell": 2
   },
   "outputs": [
    {
     "data": {
      "image/png": "[encoded data removed]",
      "text/plain": [
       "<Figure size 800x400 with 1 Axes>"
      ]
     },
     "metadata": {},
     "output_type": "display_data"
    }
   ],
   "source": [
    "# Generate and view (plot) the trajectory\n",
    "ooo, sss = gen_traj(env,5)\n",
    "fig, ax = env.render(sss, ooo)\n",
    "plt.show()"
   ]
  },
  {
   "cell_type": "markdown",
   "id": "72e86618",
   "metadata": {
    "cell_marker": "r\"\"\"",
    "lines_to_next_cell": 1
   },
   "source": [
    "It is important to realise that although we can have full access to the environment, as well as observations, we do not expect (in the 'real world') to see the true path $s_1,\\ldots,s_T$ and hence the challenge in estimating $s_T$. For this we will create an `Agent` class."
   ]
  },
  {
   "cell_type": "code",
   "execution_count": 8,
   "id": "f5ac03e6",
   "metadata": {},
   "outputs": [],
   "source": [
    "class Agent: \n",
    "\n",
    "    def __init__(self, env): \n",
    "        '''\n",
    "            env : Environment \n",
    "                of the type provided to you\n",
    "        '''\n",
    "        self.env = env\n",
    "\n",
    "    def s_tree(self, T):\n",
    "        '''\n",
    "            Provides all possible paths for T iterations.\n",
    "\n",
    "            Parameters\n",
    "            ----------\n",
    "\n",
    "            T : int\n",
    "                number of iterations\n",
    "\n",
    "            Returns\n",
    "            -------\n",
    "\n",
    "            all_paths : list of lists\n",
    "                all possible paths of states for the given number of iterations, with size T\n",
    "        '''\n",
    "\n",
    "        all_paths = []\n",
    "        env = self.env\n",
    "\n",
    "        for t in range(T):\n",
    "            if t == 0:\n",
    "                first_s = [i[-1] for i in np.argwhere(env.P_1)]\n",
    "                all_paths.extend([[s] for s in first_s])\n",
    "\n",
    "            elif t == 1:\n",
    "                current_s = []\n",
    "                for s in first_s:\n",
    "                    for j in range(len(np.argwhere(env.P_S[s]))):\n",
    "                        new = [s]\n",
    "                        new.append(np.argwhere(env.P_S[s])[j, -1])\n",
    "                        current_s.append(new)\n",
    "                last_s = current_s\n",
    "                all_paths.extend(last_s)\n",
    "\n",
    "            else:\n",
    "                current_s = []\n",
    "                for s in last_s:\n",
    "                    for j in range(len(np.argwhere(env.P_S[s[-1]]))):\n",
    "                        new = s.copy()\n",
    "                        new.append(np.argwhere(env.P_S[s[-1]])[j, -1])\n",
    "                        current_s.append(new)\n",
    "                last_s = current_s\n",
    "                all_paths.extend(last_s)\n",
    "\n",
    "        all_paths = [s for s in all_paths if len(s) == T]\n",
    "\n",
    "        return all_paths\n",
    "\n",
    "\n",
    "    def P_traj(self, ooo, M=-1):\n",
    "        '''\n",
    "        Provides full conditional distribution P(SSS | ooo) where SSS and ooo are sequences of length T.\n",
    "        $$\n",
    "            P( Y_1,\\ldots,Y_T | o_1,\\ldots,o_T )\n",
    "        $$\n",
    "\n",
    "        Parameters\n",
    "        ----------\n",
    "\n",
    "        ooo : array_like(t, d)\n",
    "            t observations (of d dimensions each)\n",
    "\n",
    "        M : int\n",
    "            -1 indicates to use a brute force solution (exact recovery of the distribution) \n",
    "            M > 0 indicates to use M Monte Carlo simulations (this parameter is used in Week 2)\n",
    "\n",
    "\n",
    "        Returns\n",
    "        -------\n",
    "\n",
    "        p : dict(str:float)\n",
    "            such that p[sss] = P(sss | ooo)\n",
    "            and if sss not in p, it implies P(sss | ooo) = 0\n",
    "\n",
    "            important: let sss be a string representation of the state sequence, separated by spaces, e.g., \n",
    "            the string representation of np.array([1,2,3,4],dtype=int) should be '1 2 3 4'. \n",
    "        '''        \n",
    "\n",
    "        prob = {}\n",
    "        env = self.env\n",
    "        \n",
    "        if M == -1:\n",
    "            possible_paths = []\n",
    "\n",
    "            s_rustle = np.array([env.P_O[s, 0, 1] for s in range(env.n_states)]) != 0\n",
    "            s_rustle = [i for i, s in enumerate(s_rustle) if s]\n",
    "            p_rustle = len(s_rustle) / env.n_states\n",
    "\n",
    "            s_crinkle = np.array([env.P_O[s, 1, 1] for s in range(env.n_states)]) != 0\n",
    "            s_crinkle = [i for i, s in enumerate(s_crinkle) if s]\n",
    "            p_crinkle = len(s_crinkle) / env.n_states\n",
    "\n",
    "            s_both = [s for s in s_rustle if s in s_crinkle]\n",
    "            p_both = len(s_both) / env.n_states\n",
    "\n",
    "            s_none = [s for s in range(env.n_states) if s not in s_rustle and s not in s_crinkle]\n",
    "            p_none = len(s_none) / env.n_states\n",
    "\n",
    "            for i, o in enumerate(ooo):\n",
    "                all_paths = self.s_tree(i+1)\n",
    "\n",
    "                if i == 0:\n",
    "                    for s in all_paths:\n",
    "                        if len(s) == 1:\n",
    "                            possible_paths.append(s)\n",
    "                            prob[str(np.array(s))[1:-1]] = round(float(env.P_1[s]), 5)\n",
    "                else:\n",
    "                    if o[0] == 1 and o[1] == 1:\n",
    "                        for s in all_paths:\n",
    "                            if s[:-1] in possible_paths and s[-1] in s_both:\n",
    "                                possible_paths.append(s)\n",
    "                                prob[str(np.array(s))[1:-1]] = round(prob[str(np.array(s[:-1]))[1:-1]] * p_both, 5)\n",
    "\n",
    "                    elif o[0] == 1 and o[1] == 0:\n",
    "                        for s in all_paths:\n",
    "                            if s[:-1] in possible_paths and s[-1] in s_rustle:\n",
    "                                possible_paths.append(s)\n",
    "                                if s[-1] in s_both:\n",
    "                                    prob[str(np.array(s))[1:-1]] = round(prob[str(np.array(s[:-1]))[1:-1]] * p_rustle * (1-p_crinkle), 5)\n",
    "                                else:\n",
    "                                    prob[str(np.array(s))[1:-1]] = round(prob[str(np.array(s[:-1]))[1:-1]] * p_rustle, 5)\n",
    "\n",
    "                    elif o[0] == 0 and o[1] == 1:\n",
    "                        for s in all_paths:\n",
    "                            if s[:-1] in possible_paths and s[-1] in s_crinkle:\n",
    "                                possible_paths.append(s)\n",
    "                                if s[-1] in s_both:\n",
    "                                    prob[str(np.array(s))[1:-1]] = round(prob[str(np.array(s[:-1]))[1:-1]] * p_crinkle * (1-p_rustle), 5)\n",
    "                                else:\n",
    "                                    prob[str(np.array(s))[1:-1]] = round(prob[str(np.array(s[:-1]))[1:-1]] * p_crinkle, 5)\n",
    "                    else:\n",
    "                        for s in all_paths:\n",
    "                            if s[:-1] in possible_paths:\n",
    "                                possible_paths.append(s)\n",
    "                                if s[-1] in s_both:\n",
    "                                    prob[str(np.array(s))[1:-1]] = round(prob[str(np.array(s[:-1]))[1:-1]] * p_both, 5)\n",
    "                                elif s[-1] in s_rustle:\n",
    "                                    prob[str(np.array(s))[1:-1]] = round(prob[str(np.array(s[:-1]))[1:-1]] * p_rustle, 5)\n",
    "                                elif s[-1] in s_crinkle:\n",
    "                                    prob[str(np.array(s))[1:-1]] = round(prob[str(np.array(s[:-1]))[1:-1]] * p_crinkle, 5)\n",
    "                                else:\n",
    "                                    prob[str(np.array(s))[1:-1]] = round(prob[str(np.array(s[:-1]))[1:-1]] * p_none, 5)\n",
    "\n",
    "            # Filter the paths and probabilities added in the last loop\n",
    "            last_possible_paths = [s for s in possible_paths if len(s) == len(possible_paths[-1])]\n",
    "            p = {k: v for k, v in prob.items() if len(k.split()) == len(last_possible_paths[0])}\n",
    "            \n",
    "            # Fill the missing paths with probability 0\n",
    "            for path in all_paths:\n",
    "                if str(np.array(path))[1:-1] not in p.keys():\n",
    "                    p[str(np.array(path))[1:-1]] = 0\n",
    "                            \n",
    "        return p\n",
    "\n",
    "        \n",
    "    def P_S(self, ooo, t=-1): \n",
    "        '''\n",
    "        Provide P(s_t | ooo) given observations o from 1,...,T.  \n",
    "\n",
    "        $$\n",
    "            P(S_t | o_1,...,o_T ).\n",
    "        $$\n",
    "        \n",
    "        The probability (distribution) of the t-th state, given the observed evidence 'o'.\n",
    "\n",
    "        Parameters\n",
    "        ----------\n",
    "\n",
    "        ooo : array_like(t, d)\n",
    "            t observations (of d dimensions each)\n",
    "\n",
    "        t : int\n",
    "            the state being queried, e.g., 3, or -1 for final state (corresponding to o[-1])\n",
    "\n",
    "        Returns\n",
    "        -------\n",
    "\n",
    "        P : array_like(float,ndim=1) \n",
    "            such that P[s] = P(S_t = s | o_1,...,o_t)\n",
    "        '''\n",
    "\n",
    "        P = np.zeros(self.env.n_states)\n",
    "\n",
    "        if t != -1:\n",
    "            ooo = ooo[:t+1]\n",
    "\n",
    "        p = self.P_traj(ooo)\n",
    "        prob_paths = [path for path in p.keys() if p[path] != 0]\n",
    "\n",
    "        for path in prob_paths:\n",
    "            P[int(path.split()[-1])] += p[path]\n",
    "        \n",
    "        return P\n",
    "\n",
    "    def Q(self, o): \n",
    "        '''\n",
    "            Provide Q(o,a) for all a i.e., the value for any given a under observation o. \n",
    "\n",
    "            Parameters\n",
    "            ----------\n",
    "\n",
    "            o : array_like(int,ndim=2)\n",
    "                t observations (of 2 bits each)\n",
    "\n",
    "            Returns\n",
    "            -------\n",
    "\n",
    "            Q : array_like(float,ndim=n_actions)\n",
    "                such that Q[a] is the value (expected reward) of action a.\n",
    "\n",
    "        '''\n",
    "        Q = np.zeros(self.env.n_states)\n",
    "        # TODO \n",
    "        return Q\n",
    "\n",
    "    def act(self, obs): \n",
    "        '''\n",
    "        Decide on the best action to take, under the provided observation. \n",
    "\n",
    "        Parameters\n",
    "        ----------\n",
    "\n",
    "        obs : array_like(int,ndim=2)\n",
    "            t observations (of 2 bits each)\n",
    "\n",
    "        Returns\n",
    "        -------\n",
    "\n",
    "        a : int\n",
    "            the chosen action a\n",
    "        '''\n",
    "\n",
    "        a = -1\n",
    "        # TODO \n",
    "        return a"
   ]
  },
  {
   "cell_type": "code",
   "execution_count": 9,
   "id": "c618c3e2",
   "metadata": {},
   "outputs": [],
   "source": [
    "# Let's instantiate our agent\n",
    "agent = Agent(env)"
   ]
  },
  {
   "cell_type": "markdown",
   "id": "3ebe4e27",
   "metadata": {
    "cell_marker": "\"\"\""
   },
   "source": [
    "The Agent is responsible for receiving observation $o = \\mathbf{x}_{1:T}$ and producing prediction $a$, i.e., it implements $a = \\pi(o)$, i.e., its policy or `act` function as it is called here below. But let's implement the functionality step by step. \n",
    "\n",
    "#### Task 2: Complete the `P_traj` function above, which specifies  \n",
    "$$\n",
    "    P(S_{1:T} | \\mathbf{x}_{1:T})\n",
    "$$\n",
    "(returns a distribution, one number associated to each *possible* trajectory $s_1,\\ldots,s_T$).\n",
    "\n",
    "\n",
    "Implementation hint: For this, and remaining tasks. It may be useful to implement for the simple case of a single state observation (single time step) first. "
   ]
  },
  {
   "cell_type": "code",
   "execution_count": 10,
   "id": "4f44c937",
   "metadata": {},
   "outputs": [
    {
     "ename": "AssertionError",
     "evalue": "",
     "output_type": "error",
     "traceback": [
      "\u001b[1;31m---------------------------------------------------------------------------\u001b[0m",
      "\u001b[1;31mAssertionError\u001b[0m                            Traceback (most recent call last)",
      "Cell \u001b[1;32mIn[10], line 6\u001b[0m\n\u001b[0;32m      4\u001b[0m \u001b[38;5;66;03m# Check should sum to 1 (or close enough)\u001b[39;00m\n\u001b[0;32m      5\u001b[0m probs \u001b[38;5;241m=\u001b[39m \u001b[38;5;28mlist\u001b[39m(P_joint\u001b[38;5;241m.\u001b[39mvalues())\n\u001b[1;32m----> 6\u001b[0m \u001b[38;5;28;01massert\u001b[39;00m \u001b[38;5;28mabs\u001b[39m(\u001b[38;5;28msum\u001b[39m(probs) \u001b[38;5;241m-\u001b[39m \u001b[38;5;241m1\u001b[39m) \u001b[38;5;241m<\u001b[39m\u001b[38;5;241m=\u001b[39m \u001b[38;5;241m0.05\u001b[39m\n\u001b[0;32m      8\u001b[0m \u001b[38;5;66;03m# Extract possible paths\u001b[39;00m\n\u001b[0;32m      9\u001b[0m paths \u001b[38;5;241m=\u001b[39m [np\u001b[38;5;241m.\u001b[39mfromstring(k, sep\u001b[38;5;241m=\u001b[39m\u001b[38;5;124m'\u001b[39m\u001b[38;5;124m \u001b[39m\u001b[38;5;124m'\u001b[39m) \u001b[38;5;28;01mfor\u001b[39;00m k \u001b[38;5;129;01min\u001b[39;00m P_joint\u001b[38;5;241m.\u001b[39mkeys()] \n",
      "\u001b[1;31mAssertionError\u001b[0m: "
     ]
    }
   ],
   "source": [
    "# Call your function\n",
    "P_joint = agent.P_traj(ooo)\n",
    "\n",
    "# Check should sum to 1 (or close enough)\n",
    "probs = list(P_joint.values())\n",
    "assert abs(sum(probs) - 1) <= 0.05\n",
    "\n",
    "# Extract possible paths\n",
    "paths = [np.fromstring(k, sep=' ') for k in P_joint.keys()] \n",
    "\n",
    "# Take some samples\n",
    "sample_indices = np.random.choice(len(probs), size=10, p=probs)\n",
    "trajs = [paths[i].astype(int) for i in sample_indices]\n",
    "\n",
    "# "
   ]
  },
  {
   "cell_type": "markdown",
   "id": "57d854f1",
   "metadata": {
    "cell_marker": "\"\"\""
   },
   "source": []
  },
  {
   "cell_type": "code",
   "execution_count": null,
   "id": "9adf0909",
   "metadata": {},
   "outputs": [],
   "source": []
  },
  {
   "cell_type": "markdown",
   "id": "7b413101",
   "metadata": {
    "cell_marker": "\"\"\""
   },
   "source": []
  },
  {
   "cell_type": "code",
   "execution_count": null,
   "id": "2c184028",
   "metadata": {},
   "outputs": [],
   "source": []
  },
  {
   "cell_type": "markdown",
   "id": "b60e3936",
   "metadata": {
    "cell_marker": "\"\"\""
   },
   "source": []
  },
  {
   "cell_type": "code",
   "execution_count": null,
   "id": "62fc1673",
   "metadata": {
    "lines_to_next_cell": 2
   },
   "outputs": [],
   "source": []
  },
  {
   "cell_type": "markdown",
   "id": "85bb1738",
   "metadata": {
    "cell_marker": "\"\"\""
   },
   "source": []
  },
  {
   "cell_type": "markdown",
   "id": "e7ed6072",
   "metadata": {
    "cell_marker": "\"\"\""
   },
   "source": []
  },
  {
   "cell_type": "code",
   "execution_count": null,
   "id": "99234f05",
   "metadata": {
    "lines_to_next_cell": 2
   },
   "outputs": [],
   "source": []
  },
  {
   "cell_type": "markdown",
   "id": "b3cef407",
   "metadata": {
    "cell_marker": "\"\"\""
   },
   "source": []
  }
 ],
 "metadata": {
  "jupytext": {
   "cell_metadata_filter": "-all",
   "main_language": "python",
   "notebook_metadata_filter": "-all"
  },
  "kernelspec": {
   "display_name": "Python 3",
   "language": "python",
   "name": "python3"
  },
  "language_info": {
   "codemirror_mode": {
    "name": "ipython",
    "version": 3
   },
   "file_extension": ".py",
   "mimetype": "text/x-python",
   "name": "python",
   "nbconvert_exporter": "python",
   "pygments_lexer": "ipython3",
   "version": "3.8.10"
  }
 },
 "nbformat": 4,
 "nbformat_minor": 5
}
